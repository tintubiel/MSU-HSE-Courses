{
  "cells": [
    {
      "cell_type": "markdown",
      "metadata": {
        "deletable": false,
        "editable": false,
        "nbgrader": {
          "cell_type": "markdown",
          "checksum": "264d537341f6a276df704ef226ded3ad",
          "grade": false,
          "grade_id": "cell-8caa20e8c937bd3c",
          "locked": true,
          "schema_version": 3,
          "solution": false,
          "task": false
        },
        "id": "IKcoUW7_Fwyg"
      },
      "source": [
        "<center>\n",
        "</center>\n",
        "\n",
        "\n",
        "#  Аварии на шахтах"
      ]
    },
    {
      "cell_type": "code",
      "execution_count": 13,
      "metadata": {
        "id": "yAvFBl8WFwyl"
      },
      "outputs": [],
      "source": [
        "import numpy as np\n",
        "\n",
        "from IPython.display import HTML\n",
        "import pandas as pd\n",
        "import scipy.stats as sts\n",
        "import matplotlib.pyplot as plt\n",
        "from math import factorial,exp\n",
        "\n",
        "plt.style.use('ggplot')  # стиль для графиков\n",
        "%matplotlib inline\n",
        "COLLAB = False"
      ]
    },
    {
      "cell_type": "markdown",
      "metadata": {
        "deletable": false,
        "editable": false,
        "nbgrader": {
          "cell_type": "markdown",
          "checksum": "80970bc9f21db2cc2cf85d64c918e72a",
          "grade": false,
          "grade_id": "cell-75d58b9b3f8d9f28",
          "locked": true,
          "schema_version": 3,
          "solution": false,
          "task": false
        },
        "id": "7f9nsJyIFwym"
      },
      "source": [
        "На угольных шахтах ежегодно происходят аварии. Англия довольно давно собирает информацию о числе крупных аварий. Именно её нам предстоит проанализировать:\n",
        "\n",
        "* хочется понять как часто в среднем происходят аварии \n",
        "* насколько большой у среднего числа аварий доверительный интервал"
      ]
    },
    {
      "cell_type": "code",
      "execution_count": 3,
      "metadata": {
        "id": "mYOh6swIFwyn",
        "colab": {
          "base_uri": "https://localhost:8080/",
          "height": 224
        },
        "outputId": "75e0016c-c95b-4215-9970-c895ab0492b3"
      },
      "outputs": [
        {
          "output_type": "stream",
          "name": "stdout",
          "text": [
            "Mounted at /content/gdrive\n"
          ]
        },
        {
          "output_type": "execute_result",
          "data": {
            "text/plain": [
              "   year  count\n",
              "1  1851      4\n",
              "2  1852      5\n",
              "3  1853      4\n",
              "4  1854      1\n",
              "5  1855      0"
            ],
            "text/html": [
              "\n",
              "  <div id=\"df-638f3abd-a707-44f2-a1f5-568717e3d033\">\n",
              "    <div class=\"colab-df-container\">\n",
              "      <div>\n",
              "<style scoped>\n",
              "    .dataframe tbody tr th:only-of-type {\n",
              "        vertical-align: middle;\n",
              "    }\n",
              "\n",
              "    .dataframe tbody tr th {\n",
              "        vertical-align: top;\n",
              "    }\n",
              "\n",
              "    .dataframe thead th {\n",
              "        text-align: right;\n",
              "    }\n",
              "</style>\n",
              "<table border=\"1\" class=\"dataframe\">\n",
              "  <thead>\n",
              "    <tr style=\"text-align: right;\">\n",
              "      <th></th>\n",
              "      <th>year</th>\n",
              "      <th>count</th>\n",
              "    </tr>\n",
              "  </thead>\n",
              "  <tbody>\n",
              "    <tr>\n",
              "      <th>1</th>\n",
              "      <td>1851</td>\n",
              "      <td>4</td>\n",
              "    </tr>\n",
              "    <tr>\n",
              "      <th>2</th>\n",
              "      <td>1852</td>\n",
              "      <td>5</td>\n",
              "    </tr>\n",
              "    <tr>\n",
              "      <th>3</th>\n",
              "      <td>1853</td>\n",
              "      <td>4</td>\n",
              "    </tr>\n",
              "    <tr>\n",
              "      <th>4</th>\n",
              "      <td>1854</td>\n",
              "      <td>1</td>\n",
              "    </tr>\n",
              "    <tr>\n",
              "      <th>5</th>\n",
              "      <td>1855</td>\n",
              "      <td>0</td>\n",
              "    </tr>\n",
              "  </tbody>\n",
              "</table>\n",
              "</div>\n",
              "      <button class=\"colab-df-convert\" onclick=\"convertToInteractive('df-638f3abd-a707-44f2-a1f5-568717e3d033')\"\n",
              "              title=\"Convert this dataframe to an interactive table.\"\n",
              "              style=\"display:none;\">\n",
              "        \n",
              "  <svg xmlns=\"http://www.w3.org/2000/svg\" height=\"24px\"viewBox=\"0 0 24 24\"\n",
              "       width=\"24px\">\n",
              "    <path d=\"M0 0h24v24H0V0z\" fill=\"none\"/>\n",
              "    <path d=\"M18.56 5.44l.94 2.06.94-2.06 2.06-.94-2.06-.94-.94-2.06-.94 2.06-2.06.94zm-11 1L8.5 8.5l.94-2.06 2.06-.94-2.06-.94L8.5 2.5l-.94 2.06-2.06.94zm10 10l.94 2.06.94-2.06 2.06-.94-2.06-.94-.94-2.06-.94 2.06-2.06.94z\"/><path d=\"M17.41 7.96l-1.37-1.37c-.4-.4-.92-.59-1.43-.59-.52 0-1.04.2-1.43.59L10.3 9.45l-7.72 7.72c-.78.78-.78 2.05 0 2.83L4 21.41c.39.39.9.59 1.41.59.51 0 1.02-.2 1.41-.59l7.78-7.78 2.81-2.81c.8-.78.8-2.07 0-2.86zM5.41 20L4 18.59l7.72-7.72 1.47 1.35L5.41 20z\"/>\n",
              "  </svg>\n",
              "      </button>\n",
              "      \n",
              "  <style>\n",
              "    .colab-df-container {\n",
              "      display:flex;\n",
              "      flex-wrap:wrap;\n",
              "      gap: 12px;\n",
              "    }\n",
              "\n",
              "    .colab-df-convert {\n",
              "      background-color: #E8F0FE;\n",
              "      border: none;\n",
              "      border-radius: 50%;\n",
              "      cursor: pointer;\n",
              "      display: none;\n",
              "      fill: #1967D2;\n",
              "      height: 32px;\n",
              "      padding: 0 0 0 0;\n",
              "      width: 32px;\n",
              "    }\n",
              "\n",
              "    .colab-df-convert:hover {\n",
              "      background-color: #E2EBFA;\n",
              "      box-shadow: 0px 1px 2px rgba(60, 64, 67, 0.3), 0px 1px 3px 1px rgba(60, 64, 67, 0.15);\n",
              "      fill: #174EA6;\n",
              "    }\n",
              "\n",
              "    [theme=dark] .colab-df-convert {\n",
              "      background-color: #3B4455;\n",
              "      fill: #D2E3FC;\n",
              "    }\n",
              "\n",
              "    [theme=dark] .colab-df-convert:hover {\n",
              "      background-color: #434B5C;\n",
              "      box-shadow: 0px 1px 3px 1px rgba(0, 0, 0, 0.15);\n",
              "      filter: drop-shadow(0px 1px 2px rgba(0, 0, 0, 0.3));\n",
              "      fill: #FFFFFF;\n",
              "    }\n",
              "  </style>\n",
              "\n",
              "      <script>\n",
              "        const buttonEl =\n",
              "          document.querySelector('#df-638f3abd-a707-44f2-a1f5-568717e3d033 button.colab-df-convert');\n",
              "        buttonEl.style.display =\n",
              "          google.colab.kernel.accessAllowed ? 'block' : 'none';\n",
              "\n",
              "        async function convertToInteractive(key) {\n",
              "          const element = document.querySelector('#df-638f3abd-a707-44f2-a1f5-568717e3d033');\n",
              "          const dataTable =\n",
              "            await google.colab.kernel.invokeFunction('convertToInteractive',\n",
              "                                                     [key], {});\n",
              "          if (!dataTable) return;\n",
              "\n",
              "          const docLinkHtml = 'Like what you see? Visit the ' +\n",
              "            '<a target=\"_blank\" href=https://colab.research.google.com/notebooks/data_table.ipynb>data table notebook</a>'\n",
              "            + ' to learn more about interactive tables.';\n",
              "          element.innerHTML = '';\n",
              "          dataTable['output_type'] = 'display_data';\n",
              "          await google.colab.output.renderOutput(dataTable, element);\n",
              "          const docLink = document.createElement('div');\n",
              "          docLink.innerHTML = docLinkHtml;\n",
              "          element.appendChild(docLink);\n",
              "        }\n",
              "      </script>\n",
              "    </div>\n",
              "  </div>\n",
              "  "
            ]
          },
          "metadata": {},
          "execution_count": 3
        }
      ],
      "source": [
        "if COLLAB:\n",
        "    from google.colab import drive\n",
        "    drive.mount('/content/gdrive')\n",
        "    df = pd.read_csv(\"/content/gdrive/MyDrive/DA/3/1/coals.csv\", index_col=0)\n",
        "else:\n",
        "    df = pd.read_csv(\"coals.csv\", index_col=0)\n",
        "df.head()"
      ]
    },
    {
      "cell_type": "markdown",
      "metadata": {
        "deletable": false,
        "editable": false,
        "nbgrader": {
          "cell_type": "markdown",
          "checksum": "250e18d302d16fb1e7626720133789aa",
          "grade": false,
          "grade_id": "cell-71d1eaf34ae3f8a6",
          "locked": true,
          "schema_version": 3,
          "solution": false,
          "task": false
        },
        "id": "bLUG4KkJFwyo"
      },
      "source": [
        "В колонке `year` находится год наблюдений. В колонке `count` число аварий за этот год на шахтах в Англии. Посмотрим на распределение числа аварий. "
      ]
    },
    {
      "cell_type": "code",
      "execution_count": 4,
      "metadata": {
        "colab": {
          "base_uri": "https://localhost:8080/",
          "height": 430
        },
        "id": "YyTZtphoFwyo",
        "outputId": "95f4d9e9-27a7-4795-e260-a212018464b3"
      },
      "outputs": [
        {
          "output_type": "display_data",
          "data": {
            "text/plain": [
              "<Figure size 640x480 with 1 Axes>"
            ],
            "image/png": "[encoded data removed]"
          },
          "metadata": {}
        }
      ],
      "source": [
        "df['count'].hist(bins=30, color=\"purple\");"
      ]
    },
    {
      "cell_type": "markdown",
      "metadata": {
        "deletable": false,
        "editable": false,
        "nbgrader": {
          "cell_type": "markdown",
          "checksum": "93cd51081378129d848714a7563024ff",
          "grade": false,
          "grade_id": "cell-8f81fc0ac935f974",
          "locked": true,
          "schema_version": 3,
          "solution": false,
          "task": false
        },
        "id": "9kYJTLUNFwyo"
      },
      "source": [
        "Судя по гистограмме уместно предположить, что число аварий имеет распределение Пуассона, $Poiss(\\lambda)$.  То есть, если мы хотим что-то понять про среднее число аварий, нам надо оценить параметр $\\lambda$. \n",
        "\n",
        "__а) Метод моментов__\n",
        "\n",
        "Найдите оценку параметра $\\lambda$ с помощью метода моментов. Запишите получившийся результат в переменную `lambda_hat`."
      ]
    },
    {
      "cell_type": "code",
      "execution_count": 5,
      "metadata": {
        "deletable": false,
        "nbgrader": {
          "cell_type": "code",
          "checksum": "6049e41ea6548d69159f2393c9925ae4",
          "grade": false,
          "grade_id": "cell-a4673b56f9be221f",
          "locked": false,
          "schema_version": 3,
          "solution": true,
          "task": false
        },
        "colab": {
          "base_uri": "https://localhost:8080/"
        },
        "id": "5QdTWzqDFwyp",
        "outputId": "4a7b06f6-86fc-4886-b4f0-bc8980d320b0"
      },
      "outputs": [
        {
          "output_type": "stream",
          "name": "stdout",
          "text": [
            "lam_hat = 1.7053571428571428\n"
          ]
        }
      ],
      "source": [
        "n_hat = df.shape[0]   # число наблюдений \n",
        "lam_hat = np.mean(df['count'])  \n",
        "\n",
        "print(\"lam_hat =\",lam_hat )"
      ]
    },
    {
      "cell_type": "code",
      "execution_count": 6,
      "metadata": {
        "deletable": false,
        "editable": false,
        "nbgrader": {
          "cell_type": "code",
          "checksum": "117fde3908c70c607bca06c6891a2166",
          "grade": true,
          "grade_id": "cell-3f10ac75755a9483",
          "locked": true,
          "points": 1,
          "schema_version": 3,
          "solution": false,
          "task": false
        },
        "id": "-pLdBrdYFwyp"
      },
      "outputs": [],
      "source": [
        "assert n_hat == 112 "
      ]
    },
    {
      "cell_type": "markdown",
      "metadata": {
        "deletable": false,
        "editable": false,
        "nbgrader": {
          "cell_type": "markdown",
          "checksum": "5373ea0323b4f1e9ec5f7aec07405ae4",
          "grade": false,
          "grade_id": "cell-8f0e34a726943feb",
          "locked": true,
          "schema_version": 3,
          "solution": false,
          "task": false
        },
        "id": "f7-WprVrFwyq"
      },
      "source": [
        "__б) Стандартное отклонение__ \n",
        "\n",
        "Среднее, оценённое методом моментов будет иметь асимптотически нормальное распределение. Оцените стандартное отклонение этого распределения по выборке и запишите ответ в переменную `lam_se`. \n",
        "\n",
        "> __Примечание:__ мы предполагаем, что выборка пришла из распределения Пуассона. Для него $Var(X) = \\lambda$. Для оценки стандартного отклонения используйте этот факт. Конечно же вы можете оценить его через функцию `std`, в плане асимптотики результат получится одинаковый. Оба способа корректны. Но с точки зрения грейдера, у вас будет ошибка. "
      ]
    },
    {
      "cell_type": "code",
      "execution_count": 7,
      "metadata": {
        "deletable": false,
        "nbgrader": {
          "cell_type": "code",
          "checksum": "54decfbbc0de5710e1aa0a16b72e5d9b",
          "grade": false,
          "grade_id": "cell-d89f8ff08d240616",
          "locked": false,
          "schema_version": 3,
          "solution": true,
          "task": false
        },
        "colab": {
          "base_uri": "https://localhost:8080/"
        },
        "id": "ThUIe42EFwyq",
        "outputId": "a7901bab-d317-44a5-f106-d13d70541d24"
      },
      "outputs": [
        {
          "output_type": "stream",
          "name": "stdout",
          "text": [
            "lam_se = 0.1233953121525469\n"
          ]
        }
      ],
      "source": [
        "lam_se = np.sqrt(lam_hat/n_hat)        # ваша оценка\n",
        "print(\"lam_se =\", lam_se)"
      ]
    },
    {
      "cell_type": "code",
      "execution_count": 8,
      "metadata": {
        "deletable": false,
        "editable": false,
        "nbgrader": {
          "cell_type": "code",
          "checksum": "a5ee075cc38d98f6c39e043cd4c05421",
          "grade": true,
          "grade_id": "cell-69d840309379a00d",
          "locked": true,
          "points": 1,
          "schema_version": 3,
          "solution": false,
          "task": false
        },
        "id": "PuazT0c0Fwyq"
      },
      "outputs": [],
      "source": [
        "# проверка, что оценка была найдена корректно \n",
        "assert lam_se < 1.6474"
      ]
    },
    {
      "cell_type": "markdown",
      "metadata": {
        "deletable": false,
        "editable": false,
        "nbgrader": {
          "cell_type": "markdown",
          "checksum": "7dfcd40b0f6db2961f79ad6d0e1ff5ff",
          "grade": false,
          "grade_id": "cell-5f789ce2b6509de9",
          "locked": true,
          "schema_version": 3,
          "solution": false,
          "task": false
        },
        "id": "U2NRf6MgFwyr"
      },
      "source": [
        "__в) Доверительный интервал__ \n",
        "\n",
        "Постройте для неизвестного математического ожидания $\\lambda$ доверительный интервал. Возьмите уровень значимости равный $10\\%$. В переменные `left` и `right` запишите соотвествующие границы интервала. В переменную `delta` запишите его ширину."
      ]
    },
    {
      "cell_type": "code",
      "execution_count": 9,
      "metadata": {
        "deletable": false,
        "nbgrader": {
          "cell_type": "code",
          "checksum": "a77ddc886a5ae31e07ce44aaa10eb3f1",
          "grade": false,
          "grade_id": "cell-729da6fec593102e",
          "locked": false,
          "schema_version": 3,
          "solution": true,
          "task": false
        },
        "colab": {
          "base_uri": "https://localhost:8080/"
        },
        "id": "qrcFpm3dFwyr",
        "outputId": "33b4d1d6-3306-47b1-a6af-d752be1b553f"
      },
      "outputs": [
        {
          "output_type": "stream",
          "name": "stdout",
          "text": [
            "Доверительный интервал [1.5, 1.91] ширины 0.406\n"
          ]
        }
      ],
      "source": [
        "alpha = 0.1\n",
        "norm_rv = sts.norm(loc=0, scale=1)\n",
        "z_alpha=norm_rv.ppf(1 - alpha / 2)\n",
        "\n",
        "left = lam_hat - z_alpha * lam_se\n",
        "right = lam_hat + z_alpha * lam_se\n",
        "delta = right - left\n",
        "\n",
        "print(f\"Доверительный интервал [{left:.3}, {right:.3}] ширины {right - left:.3}\")"
      ]
    },
    {
      "cell_type": "code",
      "execution_count": 10,
      "metadata": {
        "deletable": false,
        "editable": false,
        "nbgrader": {
          "cell_type": "code",
          "checksum": "3ed7ae976f53cb8a49b16d38aaa90d82",
          "grade": true,
          "grade_id": "cell-681b7ef69959cc8f",
          "locked": true,
          "points": 1,
          "schema_version": 3,
          "solution": false,
          "task": false
        },
        "id": "pfJQznohFwys"
      },
      "outputs": [],
      "source": [
        "# проверка, что границы доверительного интервала найдены верно\n",
        "assert np.abs(left - 1.502389916114217) < 1e-5"
      ]
    },
    {
      "cell_type": "markdown",
      "metadata": {
        "deletable": false,
        "editable": false,
        "nbgrader": {
          "cell_type": "markdown",
          "checksum": "4d631c3f9d5ebeb5d67e62d85a83ed08",
          "grade": false,
          "grade_id": "cell-bf0ff017e366f60d",
          "locked": true,
          "schema_version": 3,
          "solution": false,
          "task": false
        },
        "id": "s7dd3KX3Fwyt"
      },
      "source": [
        "__г) Число катастроф__  \n",
        "\n",
        "Многие говорят, что в $20$ веке катастроф стало на порядок меньше. Давайте проверим это. Постройте оценку для $\\lambda_1$ по данным до $1900$ года включительно. Постройте оценку для $\\lambda_2$ по данным после $1900$ года. Для разности $\\lambda_1 - \\lambda_2$ постройте $95\\%$ доверительный интервал. "
      ]
    },
    {
      "cell_type": "code",
      "execution_count": 11,
      "metadata": {
        "deletable": false,
        "nbgrader": {
          "cell_type": "code",
          "checksum": "acbbeb4a6bf1695cf002916cf371973b",
          "grade": false,
          "grade_id": "cell-a52534c295035fea",
          "locked": false,
          "schema_version": 3,
          "solution": true,
          "task": false
        },
        "colab": {
          "base_uri": "https://localhost:8080/"
        },
        "id": "Zytk8G_qFwyu",
        "outputId": "52c895a6-6e1b-49bf-efdf-3d58f4630145"
      },
      "outputs": [
        {
          "output_type": "stream",
          "name": "stdout",
          "text": [
            "Доверительный интервал [1.28, 2.31] ширины 1.03\n"
          ]
        }
      ],
      "source": [
        "x = df[df.year <= 1900]['count']\n",
        "y = df[df.year > 1900]['count']\n",
        "\n",
        "alpha = 0.05\n",
        "norm_rv = sts.norm(loc=0, scale=1)\n",
        "z_alpha = norm_rv.ppf(1 - alpha/2)\n",
        "\n",
        "lam_hat_x = x.mean()\n",
        "lam_hat_y = y.mean()\n",
        "lam_se = np.sqrt(lam_hat_x / x.shape[0]+ lam_hat_y / y.shape[0])\n",
        "\n",
        "left=lam_hat_x - lam_hat_y - z_alpha*lam_se\n",
        "right = lam_hat_x - lam_hat_y + z_alpha*lam_se\n",
        "delta = right - left\n",
        "\n",
        "print(f\"Доверительный интервал [{left:.3}, {right:.3}] ширины {right - left:.3}\")"
      ]
    },
    {
      "cell_type": "code",
      "execution_count": 12,
      "metadata": {
        "deletable": false,
        "editable": false,
        "nbgrader": {
          "cell_type": "code",
          "checksum": "3be2e28094cf1c1ed7a9945547c78424",
          "grade": true,
          "grade_id": "cell-40e69d1d970e89ea",
          "locked": true,
          "points": 2,
          "schema_version": 3,
          "solution": false,
          "task": false
        },
        "id": "dI05o7xYFwyu"
      },
      "outputs": [],
      "source": [
        "# проверка, что границы доверительного интервала найдены верно\n",
        "assert x.size == 50\n",
        "assert np.abs(left - 1.2835473859716393) < 1e-5"
      ]
    },
    {
      "cell_type": "markdown",
      "metadata": {
        "deletable": false,
        "editable": false,
        "nbgrader": {
          "cell_type": "markdown",
          "checksum": "283692227b153b139be90a29fc9d61d5",
          "grade": false,
          "grade_id": "cell-856039d3919cfd24",
          "locked": true,
          "schema_version": 3,
          "solution": false,
          "task": false
        },
        "id": "s_ivu8WvFwyv"
      },
      "source": [
        "Ноль не вошёл в этот доверительный интервал. Это означает, что на уровне значимости $5\\%$ мы можем сказать, что число аварий правда снизилось. "
      ]
    },
    {
      "cell_type": "markdown",
      "metadata": {
        "id": "ylWDoPiIFwyv"
      },
      "source": [
        "__д) Вероятность для распределения Пуассона__ \n",
        "\n",
        "Вспомните формулу, по которой считается вероятность того, что Пуассоновская случайная величина примет какое-то значение. Найдите точечную оценку вероятности того, что произойдёт только одна авария. В качестве $\\lambda$ используйте оценку метода моментов, полученную в первом задании. "
      ]
    },
    {
      "cell_type": "code",
      "execution_count": 15,
      "metadata": {
        "deletable": false,
        "nbgrader": {
          "cell_type": "code",
          "checksum": "677de3c04a3c8f7acc00e08729a9999a",
          "grade": false,
          "grade_id": "cell-1383c35748bfed27",
          "locked": false,
          "schema_version": 3,
          "solution": true,
          "task": false
        },
        "id": "t7HI0DRzFwyw"
      },
      "outputs": [],
      "source": [
        "def poiss_prob(k):\n",
        "    return (lam_hat**k * np.exp(-lam_hat))/factorial(k)\n"
      ]
    },
    {
      "cell_type": "code",
      "execution_count": 16,
      "metadata": {
        "deletable": false,
        "editable": false,
        "nbgrader": {
          "cell_type": "code",
          "checksum": "ffdc0ad39329220bb912820095666af1",
          "grade": true,
          "grade_id": "cell-301364eca6748674",
          "locked": true,
          "points": 1,
          "schema_version": 3,
          "solution": false,
          "task": false
        },
        "id": "9aii1TgQFwyw"
      },
      "outputs": [],
      "source": [
        "# проверка,функции\n",
        "assert np.abs(poiss_prob(1) - 0.3098761) < 1e-5\n"
      ]
    },
    {
      "cell_type": "markdown",
      "metadata": {
        "deletable": false,
        "editable": false,
        "nbgrader": {
          "cell_type": "markdown",
          "checksum": "7f2badfbccaaf93be8606789c37481f9",
          "grade": false,
          "grade_id": "cell-0e3a31dfc730da6f",
          "locked": true,
          "schema_version": 3,
          "solution": false,
          "task": false
        },
        "id": "jTz2ubZ7Fwyx"
      },
      "source": [
        "__е) Дельта-метод__ \n",
        "\n",
        "Та вероятность, которую мы нашли в предыдущем пункте - это лишь точечная оценка. Она является функцией от среднего. С помощью дельта-метода постройте для этой вероятности $95\\%$ довертельный интервал."
      ]
    },
    {
      "cell_type": "code",
      "execution_count": 18,
      "metadata": {
        "deletable": false,
        "nbgrader": {
          "cell_type": "code",
          "checksum": "25bd6905ed924461b79cea1e154754a2",
          "grade": false,
          "grade_id": "cell-cd0a438c7adffcdb",
          "locked": false,
          "schema_version": 3,
          "solution": true,
          "task": false
        },
        "id": "otvO5Ug3Fwyx",
        "colab": {
          "base_uri": "https://localhost:8080/"
        },
        "outputId": "c25d5513-e449-4d08-8265-2f879cf5a927"
      },
      "outputs": [
        {
          "output_type": "stream",
          "name": "stdout",
          "text": [
            "Доверительный интервал [0.279, 0.341] ширины 0.062\n"
          ]
        }
      ],
      "source": [
        "alpha = 0.05\n",
        "norm_rv = sts.norm(loc=0, scale=1)\n",
        "n = df.shape[0]\n",
        "g_m = lam_hat * np.exp(-lam_hat)\n",
        "g_se = np.sqrt(lam_hat / n  * np.exp(-2 * lam_hat)*(1 - 2 * lam_hat + lam_hat**2))\n",
        "\n",
        "z_alpha=norm_rv.ppf(1 - alpha / 2)\n",
        "left = g_m - z_alpha * g_se\n",
        "right = g_m + z_alpha * g_se\n",
        "delta = right - left\n",
        "\n",
        "print(f\"Доверительный интервал [{left:.3}, {right:.3}] ширины {right - left:.3}\")"
      ]
    },
    {
      "cell_type": "code",
      "execution_count": 19,
      "metadata": {
        "deletable": false,
        "editable": false,
        "nbgrader": {
          "cell_type": "code",
          "checksum": "f8e5cd561d1d807ff0ffc046bcf72db4",
          "grade": true,
          "grade_id": "cell-94c00ca69c5dadef",
          "locked": true,
          "points": 4,
          "schema_version": 3,
          "solution": false,
          "task": false
        },
        "id": "mvxSQJWWFwyx"
      },
      "outputs": [],
      "source": [
        "# проверка, что интервал построен корректно\n",
        "assert np.abs(left - 0.279) < 1e-3"
      ]
    },
    {
      "cell_type": "markdown",
      "metadata": {
        "deletable": false,
        "editable": false,
        "nbgrader": {
          "cell_type": "markdown",
          "checksum": "10a701f826377d3ac37362b3ab3f9b92",
          "grade": false,
          "grade_id": "cell-f0b4e99983c91ca4",
          "locked": true,
          "schema_version": 3,
          "solution": false,
          "task": false
        },
        "id": "55M587JEFwyx"
      },
      "source": [
        "По аналогии можно построить доверительные интервалы для вероятности того, что случайная величина примет значения от нуля до девяти. Проделайте это в качестве необязательного упражнения и оформите процедуру расчёта в виде функции."
      ]
    },
    {
      "cell_type": "code",
      "execution_count": 30,
      "metadata": {
        "deletable": false,
        "nbgrader": {
          "cell_type": "code",
          "checksum": "c069ad8ca5fbcff71b79428535a2b4ba",
          "grade": false,
          "grade_id": "cell-957ca214e0fc17cb",
          "locked": false,
          "schema_version": 3,
          "solution": true,
          "task": false
        },
        "id": "p3yks87MFwyx"
      },
      "outputs": [],
      "source": [
        "def prob_ci(k, alpha = 0.01, lam_hat=lam_hat):\n",
        "    norm_rv = sts.norm(loc=0, scale=1)\n",
        "    z_alpha = norm_rv.ppf(1 - alpha / 2)\n",
        "    g_m=(lam_hat**k * np.exp(-lam_hat))/factorial(k)\n",
        "    if k!=0:\n",
        "        g_se = np.sqrt(lam_hat/df.shape[0]*np.exp(-2*lam_hat)*(lam_hat**(k-1)/factorial(k-1)-lam_hat**k/factorial(k))**2)\n",
        "    else:\n",
        "        g_se = np.sqrt(lam_hat/df.shape[0]* np.exp(-2*lam_hat))\n",
        "\n",
        "    left = g_m - z_alpha * g_se\n",
        "    right = g_m + z_alpha * g_se\n",
        "    return (left, right)"
      ]
    },
    {
      "cell_type": "code",
      "execution_count": 31,
      "metadata": {
        "id": "SZ8dzOn2Fwyy"
      },
      "outputs": [],
      "source": [
        "left, right = prob_ci(1)\n",
        "delta = right - left\n",
        "\n",
        "assert np.abs(delta - 0.08147) < 1e-5\n",
        "\n",
        "left, right = prob_ci(0)\n",
        "delta = right - left\n",
        "\n",
        "assert np.abs(delta - 0.11551) < 1e-5"
      ]
    },
    {
      "cell_type": "markdown",
      "metadata": {
        "id": "OJ3mCZ35Fwyy"
      },
      "source": [
        "Сделали функцию? Запускайте код для не очень информативной картинки!"
      ]
    },
    {
      "cell_type": "code",
      "execution_count": 37,
      "metadata": {
        "id": "Scmcah4pFwyy",
        "colab": {
          "base_uri": "https://localhost:8080/",
          "height": 445
        },
        "outputId": "0c1cdd04-6606-4f3a-bea9-d24fcb383c92"
      },
      "outputs": [
        {
          "output_type": "display_data",
          "data": {
            "text/plain": [
              "<Figure size 1000x500 with 1 Axes>"
            ],
            "image/png": "[encoded data removed]"
          },
          "metadata": {}
        }
      ],
      "source": [
        "poiss_rv = sts.poisson(lam_hat)\n",
        "leftarr = []\n",
        "rightarr = []\n",
        "x = np.arange(10)\n",
        "p = poiss_rv.pmf(x)\n",
        "for i in x:\n",
        "    left, right = prob_ci(i)\n",
        "    leftarr.append(left)\n",
        "    rightarr.append(right)\n",
        "\n",
        "left = leftarr\n",
        "right = rightarr\n",
        "plt.figure(figsize=(10,5))\n",
        "plt.plot(x, p, 'bo', ms=6, label='poisson pmf')\n",
        "plt.fill_between(x, left, right, alpha=0.5)\n",
        "plt.vlines(x, 0, p, lw=1)\n",
        "plt.legend(loc='best', frameon=False)\n",
        "plt.show()"
      ]
    },
    {
      "cell_type": "code",
      "execution_count": 38,
      "metadata": {
        "id": "2YrfIlXqFwyy",
        "colab": {
          "base_uri": "https://localhost:8080/"
        },
        "outputId": "ed2933c0-a60a-4c4f-bef5-20caf5fffb13"
      },
      "outputs": [
        {
          "output_type": "stream",
          "name": "stdout",
          "text": [
            "Вероятность P(X=0) лежит между  0.12395 и 0.23946\n",
            "Вероятность P(X=1) лежит между  0.26914 и 0.35061\n",
            "Вероятность P(X=2) лежит между  0.24971 и 0.27873\n",
            "Вероятность P(X=3) лежит между  0.11396 и 0.18644\n",
            "Вероятность P(X=4) лежит между  0.036649 и 0.091422\n",
            "Вероятность P(X=5) лежит между  0.0084293 и 0.035252\n",
            "Вероятность P(X=6) лежит между  0.0012388 и 0.011177\n",
            "Вероятность P(X=7) лежит между  1.9936e-05 и 0.0030047\n",
            "Вероятность P(X=8) лежит между  -5.5837e-05 и 0.00070061\n",
            "Вероятность P(X=9) лежит между  -2.1966e-05 и 0.00014414\n"
          ]
        }
      ],
      "source": [
        "for k,(i,j) in enumerate(zip(left, right)):\n",
        "    print(f\"Вероятность P(X={k}) лежит между  {i:.5} и {j:.5}\")"
      ]
    },
    {
      "cell_type": "markdown",
      "metadata": {
        "deletable": false,
        "editable": false,
        "nbgrader": {
          "cell_type": "markdown",
          "checksum": "8f6311fca1d92124280fe941a5617cdf",
          "grade": false,
          "grade_id": "cell-77d5ebfab1514cda",
          "locked": true,
          "schema_version": 3,
          "solution": false,
          "task": false
        },
        "id": "WACrbsaUFwyy"
      },
      "source": [
        "Интервалы получился довольно короткими. Попробуйте поиграться с уровнем значимости и посмотреть как они меняются в зависимости от него. "
      ]
    },
    {
      "cell_type": "markdown",
      "metadata": {
        "deletable": false,
        "editable": false,
        "nbgrader": {
          "cell_type": "markdown",
          "checksum": "b207b13b56e3339a7ba971a435ce5390",
          "grade": false,
          "grade_id": "cell-b3dd31a15c05e245",
          "locked": true,
          "schema_version": 3,
          "solution": false,
          "task": false
        },
        "id": "G8miAAIXFwyy"
      },
      "source": [
        "В этой терадке нам осталось обсудить последний нюанс. Мы из теории вероятностей знаем, что для случайной величины $X$, имеющей распределение Пуассона $\\mathbb{E}(X) = Var(X) = \\lambda$. Для текущей выборки мы видим, что между дисперсией и средним есть небольшое отличие. "
      ]
    },
    {
      "cell_type": "code",
      "execution_count": null,
      "metadata": {
        "id": "EfzHv3fAFwyy"
      },
      "outputs": [],
      "source": [
        "df['count'].mean()"
      ]
    },
    {
      "cell_type": "code",
      "execution_count": null,
      "metadata": {
        "id": "rLpTaOR8Fwyz"
      },
      "outputs": [],
      "source": [
        "df['count'].var()"
      ]
    },
    {
      "cell_type": "markdown",
      "metadata": {
        "deletable": false,
        "editable": false,
        "nbgrader": {
          "cell_type": "markdown",
          "checksum": "b4a780958afa9edf3438cf326b4d525e",
          "grade": false,
          "grade_id": "cell-2b06fb08fa48e21a",
          "locked": true,
          "schema_version": 3,
          "solution": false,
          "task": false
        },
        "id": "KkzP7dVzFwyz"
      },
      "source": [
        "Не факт, что мы имеем право предполагать, что наша выборка пришла к нам из распределения Пуассона. Все предпосылки о распределениях выборки нужно тестировать. Позже мы научимся это делать."
      ]
    }
  ],
  "metadata": {
    "kernelspec": {
      "display_name": "Python 3 (ipykernel)",
      "language": "python",
      "name": "python3"
    },
    "language_info": {
      "codemirror_mode": {
        "name": "ipython",
        "version": 3
      },
      "file_extension": ".py",
      "mimetype": "text/x-python",
      "name": "python",
      "nbconvert_exporter": "python",
      "pygments_lexer": "ipython3",
      "version": "3.9.13"
    },
    "colab": {
      "provenance": []
    }
  },
  "nbformat": 4,
  "nbformat_minor": 0
}
