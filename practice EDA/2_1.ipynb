{
  "cells": [
    {
      "cell_type": "markdown",
      "metadata": {
        "id": "ZEFIR46Kiun0"
      },
      "source": [
        "<center>\n",
        "<img src=\"logo.png\" height=\"900\"> \n",
        "</center>\n",
        "\n",
        "\n",
        "#  Анализируем чеки\n",
        "\n",
        "В этом задании мы будем работать с покупками и чеками. Смотреть за корреляциями в покупках довольно полезно.\n",
        "\n",
        "> В 1992 году группа по консалтингу в области ритейла компании Teradata под руководством Томаса Блишока провела исследование 1.2 миллиона транзакций в 25 магазинах для ритейлера Osco Drug (Drug Store — формат разнокалиберных магазинов у дома). После анализа всех этих транзакций самым сильным правилом получилось «Между 17:00 и 19:00 чаще всего пиво и подгузники покупают вместе». К сожалению, такое правило показалось руководству Osco Drug настолько контринтуитивным, что ставить подгузники на полках рядом с пивом они не стали. Хотя объяснение паре пиво-подгузники вполне себе нашлось: когда оба члена молодой семьи возвращались с работы домой (как раз часам к 5 вечера), жены обычно отправляли мужей за подгузниками в ближайший магазин. И мужья, не долго думая, совмещали приятное с полезным — покупали подгузники по заданию жены и пиво для собственного вечернего времяпрепровождения.\n",
        "\n",
        "Для работы будем использовать датасет о продуктовых корзинах: https://www.kaggle.com/heeraldedhia/groceries-dataset"
      ]
    },
    {
      "cell_type": "code",
      "execution_count": 2,
      "metadata": {
        "id": "M7l0qWJ0iun3"
      },
      "outputs": [],
      "source": [
        "import numpy as np\n",
        "import pandas as pd\n",
        "\n",
        "import scipy.stats as sts\n",
        "import matplotlib.pyplot as plt\n",
        "import seaborn as sns\n",
        "\n",
        "plt.style.use('ggplot')  # стиль для графиков\n",
        "%matplotlib inline\n",
        "COLLAB = False"
      ]
    },
    {
      "cell_type": "markdown",
      "metadata": {
        "id": "5JOt8vuliun3"
      },
      "source": [
        "Подружаем данные и смотрим как они выглядят."
      ]
    },
    {
      "cell_type": "code",
      "execution_count": 3,
      "metadata": {
        "colab": {
          "base_uri": "https://localhost:8080/",
          "height": 242
        },
        "id": "jB4GYUMPiun4",
        "outputId": "0c153463-9b1a-4e3a-ab6e-5f06264fc4ce"
      },
      "outputs": [
        {
          "output_type": "stream",
          "name": "stdout",
          "text": [
            "Mounted at /content/gdrive\n",
            "(38765, 3)\n"
          ]
        },
        {
          "output_type": "execute_result",
          "data": {
            "text/plain": [
              "     id   fielddate           product\n",
              "0  1808  21-07-2015    tropical fruit\n",
              "1  2552  05-01-2015        whole milk\n",
              "2  2300  19-09-2015         pip fruit\n",
              "3  1187  12-12-2015  other vegetables\n",
              "4  3037  01-02-2015        whole milk"
            ],
            "text/html": [
              "\n",
              "  <div id=\"df-6fca7dc5-a847-4147-9296-7d7a142b6b5f\">\n",
              "    <div class=\"colab-df-container\">\n",
              "      <div>\n",
              "<style scoped>\n",
              "    .dataframe tbody tr th:only-of-type {\n",
              "        vertical-align: middle;\n",
              "    }\n",
              "\n",
              "    .dataframe tbody tr th {\n",
              "        vertical-align: top;\n",
              "    }\n",
              "\n",
              "    .dataframe thead th {\n",
              "        text-align: right;\n",
              "    }\n",
              "</style>\n",
              "<table border=\"1\" class=\"dataframe\">\n",
              "  <thead>\n",
              "    <tr style=\"text-align: right;\">\n",
              "      <th></th>\n",
              "      <th>id</th>\n",
              "      <th>fielddate</th>\n",
              "      <th>product</th>\n",
              "    </tr>\n",
              "  </thead>\n",
              "  <tbody>\n",
              "    <tr>\n",
              "      <th>0</th>\n",
              "      <td>1808</td>\n",
              "      <td>21-07-2015</td>\n",
              "      <td>tropical fruit</td>\n",
              "    </tr>\n",
              "    <tr>\n",
              "      <th>1</th>\n",
              "      <td>2552</td>\n",
              "      <td>05-01-2015</td>\n",
              "      <td>whole milk</td>\n",
              "    </tr>\n",
              "    <tr>\n",
              "      <th>2</th>\n",
              "      <td>2300</td>\n",
              "      <td>19-09-2015</td>\n",
              "      <td>pip fruit</td>\n",
              "    </tr>\n",
              "    <tr>\n",
              "      <th>3</th>\n",
              "      <td>1187</td>\n",
              "      <td>12-12-2015</td>\n",
              "      <td>other vegetables</td>\n",
              "    </tr>\n",
              "    <tr>\n",
              "      <th>4</th>\n",
              "      <td>3037</td>\n",
              "      <td>01-02-2015</td>\n",
              "      <td>whole milk</td>\n",
              "    </tr>\n",
              "  </tbody>\n",
              "</table>\n",
              "</div>\n",
              "      <button class=\"colab-df-convert\" onclick=\"convertToInteractive('df-6fca7dc5-a847-4147-9296-7d7a142b6b5f')\"\n",
              "              title=\"Convert this dataframe to an interactive table.\"\n",
              "              style=\"display:none;\">\n",
              "        \n",
              "  <svg xmlns=\"http://www.w3.org/2000/svg\" height=\"24px\"viewBox=\"0 0 24 24\"\n",
              "       width=\"24px\">\n",
              "    <path d=\"M0 0h24v24H0V0z\" fill=\"none\"/>\n",
              "    <path d=\"M18.56 5.44l.94 2.06.94-2.06 2.06-.94-2.06-.94-.94-2.06-.94 2.06-2.06.94zm-11 1L8.5 8.5l.94-2.06 2.06-.94-2.06-.94L8.5 2.5l-.94 2.06-2.06.94zm10 10l.94 2.06.94-2.06 2.06-.94-2.06-.94-.94-2.06-.94 2.06-2.06.94z\"/><path d=\"M17.41 7.96l-1.37-1.37c-.4-.4-.92-.59-1.43-.59-.52 0-1.04.2-1.43.59L10.3 9.45l-7.72 7.72c-.78.78-.78 2.05 0 2.83L4 21.41c.39.39.9.59 1.41.59.51 0 1.02-.2 1.41-.59l7.78-7.78 2.81-2.81c.8-.78.8-2.07 0-2.86zM5.41 20L4 18.59l7.72-7.72 1.47 1.35L5.41 20z\"/>\n",
              "  </svg>\n",
              "      </button>\n",
              "      \n",
              "  <style>\n",
              "    .colab-df-container {\n",
              "      display:flex;\n",
              "      flex-wrap:wrap;\n",
              "      gap: 12px;\n",
              "    }\n",
              "\n",
              "    .colab-df-convert {\n",
              "      background-color: #E8F0FE;\n",
              "      border: none;\n",
              "      border-radius: 50%;\n",
              "      cursor: pointer;\n",
              "      display: none;\n",
              "      fill: #1967D2;\n",
              "      height: 32px;\n",
              "      padding: 0 0 0 0;\n",
              "      width: 32px;\n",
              "    }\n",
              "\n",
              "    .colab-df-convert:hover {\n",
              "      background-color: #E2EBFA;\n",
              "      box-shadow: 0px 1px 2px rgba(60, 64, 67, 0.3), 0px 1px 3px 1px rgba(60, 64, 67, 0.15);\n",
              "      fill: #174EA6;\n",
              "    }\n",
              "\n",
              "    [theme=dark] .colab-df-convert {\n",
              "      background-color: #3B4455;\n",
              "      fill: #D2E3FC;\n",
              "    }\n",
              "\n",
              "    [theme=dark] .colab-df-convert:hover {\n",
              "      background-color: #434B5C;\n",
              "      box-shadow: 0px 1px 3px 1px rgba(0, 0, 0, 0.15);\n",
              "      filter: drop-shadow(0px 1px 2px rgba(0, 0, 0, 0.3));\n",
              "      fill: #FFFFFF;\n",
              "    }\n",
              "  </style>\n",
              "\n",
              "      <script>\n",
              "        const buttonEl =\n",
              "          document.querySelector('#df-6fca7dc5-a847-4147-9296-7d7a142b6b5f button.colab-df-convert');\n",
              "        buttonEl.style.display =\n",
              "          google.colab.kernel.accessAllowed ? 'block' : 'none';\n",
              "\n",
              "        async function convertToInteractive(key) {\n",
              "          const element = document.querySelector('#df-6fca7dc5-a847-4147-9296-7d7a142b6b5f');\n",
              "          const dataTable =\n",
              "            await google.colab.kernel.invokeFunction('convertToInteractive',\n",
              "                                                     [key], {});\n",
              "          if (!dataTable) return;\n",
              "\n",
              "          const docLinkHtml = 'Like what you see? Visit the ' +\n",
              "            '<a target=\"_blank\" href=https://colab.research.google.com/notebooks/data_table.ipynb>data table notebook</a>'\n",
              "            + ' to learn more about interactive tables.';\n",
              "          element.innerHTML = '';\n",
              "          dataTable['output_type'] = 'display_data';\n",
              "          await google.colab.output.renderOutput(dataTable, element);\n",
              "          const docLink = document.createElement('div');\n",
              "          docLink.innerHTML = docLinkHtml;\n",
              "          element.appendChild(docLink);\n",
              "        }\n",
              "      </script>\n",
              "    </div>\n",
              "  </div>\n",
              "  "
            ]
          },
          "metadata": {},
          "execution_count": 3
        }
      ],
      "source": [
        "if COLLAB:\n",
        "    from google.colab import drive\n",
        "    drive.mount('/content/gdrive')\n",
        "    df = pd.read_csv(\"/content/gdrive/MyDrive/DA/2/groceries.csv\", sep=',')\n",
        "else:\n",
        "    df = pd.read_csv('data/groceries.csv', sep=',')\n",
        "df.columns = ['id', 'fielddate', 'product']\n",
        "print(df.shape)\n",
        "df.head()"
      ]
    },
    {
      "cell_type": "markdown",
      "metadata": {
        "id": "hU6ouPiFiun4"
      },
      "source": [
        "## 1. Корреляции\n",
        "\n",
        "Для начала поработаем с корреляциями в данных. \n",
        "\n",
        "__а)__ Какой товар покупался чаще всего? Сохраните название этого товара в переменную `product_name`."
      ]
    },
    {
      "cell_type": "code",
      "execution_count": 4,
      "metadata": {
        "deletable": false,
        "nbgrader": {
          "cell_type": "code",
          "checksum": "989acb2aed6b8d1e95ba1aa5ff5c8988",
          "grade": false,
          "grade_id": "cell-9d268bdaaa451d51",
          "locked": false,
          "schema_version": 3,
          "solution": true,
          "task": false
        },
        "colab": {
          "base_uri": "https://localhost:8080/"
        },
        "id": "iqlSFxNCiun5",
        "outputId": "fbf13598-e1e9-4708-a2d8-475cf1f80d59"
      },
      "outputs": [
        {
          "output_type": "stream",
          "name": "stdout",
          "text": [
            "whole milk\n"
          ]
        }
      ],
      "source": [
        "product_name = df['product'].value_counts().index[0]\n",
        "print(product_name)"
      ]
    },
    {
      "cell_type": "code",
      "execution_count": null,
      "metadata": {
        "deletable": false,
        "editable": false,
        "nbgrader": {
          "cell_type": "code",
          "checksum": "153389c55c6243d7b8897ca0e33be5a5",
          "grade": true,
          "grade_id": "cell-2fd1cfdcf5400ee3",
          "locked": true,
          "points": 1,
          "schema_version": 3,
          "solution": false,
          "task": false
        },
        "id": "1YHmnkkTiun5"
      },
      "outputs": [],
      "source": [
        "# проверка, что задание решено корректно\n",
        "assert len(product_name) == 10"
      ]
    },
    {
      "cell_type": "markdown",
      "metadata": {
        "id": "cKnrV0haiun5"
      },
      "source": [
        "__б)__ Сколько всего уникальных заказов было сделано? Сохраните число заказов в переменную `n_cnt`."
      ]
    },
    {
      "cell_type": "code",
      "execution_count": 8,
      "metadata": {
        "deletable": false,
        "nbgrader": {
          "cell_type": "code",
          "checksum": "057496e296948a782d9b48f9b4ea3815",
          "grade": false,
          "grade_id": "cell-4c3ce54e9c52ae14",
          "locked": false,
          "schema_version": 3,
          "solution": true,
          "task": false
        },
        "colab": {
          "base_uri": "https://localhost:8080/"
        },
        "id": "3NnMHhJfiun5",
        "outputId": "64ed35d7-761c-4259-8af7-c07215eb3ec4"
      },
      "outputs": [
        {
          "output_type": "stream",
          "name": "stdout",
          "text": [
            "3898\n"
          ]
        }
      ],
      "source": [
        "n_cnt = df['id'].unique().shape[0]\n",
        "print(n_cnt)"
      ]
    },
    {
      "cell_type": "code",
      "execution_count": 9,
      "metadata": {
        "deletable": false,
        "editable": false,
        "nbgrader": {
          "cell_type": "code",
          "checksum": "f93cfd87b43b743e88a4a21d5a773f5e",
          "grade": true,
          "grade_id": "cell-608432c41bdcd71d",
          "locked": true,
          "points": 1,
          "schema_version": 3,
          "solution": false,
          "task": false
        },
        "id": "bxbR0-b7iun5"
      },
      "outputs": [],
      "source": [
        "# проверка, что задание решено корректно\n",
        "assert n_cnt > 3800\n",
        "assert n_cnt < 4000"
      ]
    },
    {
      "cell_type": "markdown",
      "metadata": {
        "id": "ho4EeKKNiun6"
      },
      "source": [
        "В таблице выше в каждой строке записана информация о покупке конкретного товара. Давайте сделаем табличку размера \"число товаров\" на \"число покупок\", чтобы понимать какие товары покупались вместе, а какие нет. \n",
        "\n",
        "> Обратите внимание, то здесь задание немного упрощено. Вообще говоря, нам нужно делать агрегацию по паре `fielddate, id`, если мы хотим изучать чеки по-честному. Но мы делаем её только по `id` для того, чтобы не усложнять задание. В качестве необязательного дополнения вы можете после сдачи задания переделать код так, чтобы дата тоже учитывалась при расчётах. "
      ]
    },
    {
      "cell_type": "code",
      "execution_count": 10,
      "metadata": {
        "colab": {
          "base_uri": "https://localhost:8080/",
          "height": 366
        },
        "id": "ryuIAIo-iun6",
        "outputId": "f7490e42-9f3a-4b67-80e3-9d37a062c959"
      },
      "outputs": [
        {
          "output_type": "execute_result",
          "data": {
            "text/plain": [
              "product  Instant food products  UHT-milk  abrasive cleaner  artif. sweetener  \\\n",
              "id                                                                             \n",
              "1000                         0         0                 0                 0   \n",
              "1001                         0         0                 0                 0   \n",
              "1002                         0         0                 0                 0   \n",
              "1003                         0         0                 0                 0   \n",
              "1004                         0         0                 0                 0   \n",
              "\n",
              "product  baby cosmetics  bags  baking powder  bathroom cleaner  beef  berries  \\\n",
              "id                                                                              \n",
              "1000                  0     0              0                 0     0        0   \n",
              "1001                  0     0              0                 0     1        0   \n",
              "1002                  0     0              0                 0     0        0   \n",
              "1003                  0     0              0                 0     0        0   \n",
              "1004                  0     0              0                 0     0        0   \n",
              "\n",
              "product  ...  turkey  vinegar  waffles  whipped/sour cream  whisky  \\\n",
              "id       ...                                                         \n",
              "1000     ...       0        0        0                   0       0   \n",
              "1001     ...       0        0        0                   1       0   \n",
              "1002     ...       0        0        0                   0       0   \n",
              "1003     ...       0        0        0                   0       0   \n",
              "1004     ...       0        0        0                   0       0   \n",
              "\n",
              "product  white bread  white wine  whole milk  yogurt  zwieback  \n",
              "id                                                              \n",
              "1000               0           0           2       1         0  \n",
              "1001               1           0           2       0         0  \n",
              "1002               0           0           1       0         0  \n",
              "1003               0           0           0       0         0  \n",
              "1004               0           0           3       0         0  \n",
              "\n",
              "[5 rows x 167 columns]"
            ],
            "text/html": [
              "\n",
              "  <div id=\"df-b44271eb-b6f3-4e1f-8eda-de261d07703a\">\n",
              "    <div class=\"colab-df-container\">\n",
              "      <div>\n",
              "<style scoped>\n",
              "    .dataframe tbody tr th:only-of-type {\n",
              "        vertical-align: middle;\n",
              "    }\n",
              "\n",
              "    .dataframe tbody tr th {\n",
              "        vertical-align: top;\n",
              "    }\n",
              "\n",
              "    .dataframe thead th {\n",
              "        text-align: right;\n",
              "    }\n",
              "</style>\n",
              "<table border=\"1\" class=\"dataframe\">\n",
              "  <thead>\n",
              "    <tr style=\"text-align: right;\">\n",
              "      <th>product</th>\n",
              "      <th>Instant food products</th>\n",
              "      <th>UHT-milk</th>\n",
              "      <th>abrasive cleaner</th>\n",
              "      <th>artif. sweetener</th>\n",
              "      <th>baby cosmetics</th>\n",
              "      <th>bags</th>\n",
              "      <th>baking powder</th>\n",
              "      <th>bathroom cleaner</th>\n",
              "      <th>beef</th>\n",
              "      <th>berries</th>\n",
              "      <th>...</th>\n",
              "      <th>turkey</th>\n",
              "      <th>vinegar</th>\n",
              "      <th>waffles</th>\n",
              "      <th>whipped/sour cream</th>\n",
              "      <th>whisky</th>\n",
              "      <th>white bread</th>\n",
              "      <th>white wine</th>\n",
              "      <th>whole milk</th>\n",
              "      <th>yogurt</th>\n",
              "      <th>zwieback</th>\n",
              "    </tr>\n",
              "    <tr>\n",
              "      <th>id</th>\n",
              "      <th></th>\n",
              "      <th></th>\n",
              "      <th></th>\n",
              "      <th></th>\n",
              "      <th></th>\n",
              "      <th></th>\n",
              "      <th></th>\n",
              "      <th></th>\n",
              "      <th></th>\n",
              "      <th></th>\n",
              "      <th></th>\n",
              "      <th></th>\n",
              "      <th></th>\n",
              "      <th></th>\n",
              "      <th></th>\n",
              "      <th></th>\n",
              "      <th></th>\n",
              "      <th></th>\n",
              "      <th></th>\n",
              "      <th></th>\n",
              "      <th></th>\n",
              "    </tr>\n",
              "  </thead>\n",
              "  <tbody>\n",
              "    <tr>\n",
              "      <th>1000</th>\n",
              "      <td>0</td>\n",
              "      <td>0</td>\n",
              "      <td>0</td>\n",
              "      <td>0</td>\n",
              "      <td>0</td>\n",
              "      <td>0</td>\n",
              "      <td>0</td>\n",
              "      <td>0</td>\n",
              "      <td>0</td>\n",
              "      <td>0</td>\n",
              "      <td>...</td>\n",
              "      <td>0</td>\n",
              "      <td>0</td>\n",
              "      <td>0</td>\n",
              "      <td>0</td>\n",
              "      <td>0</td>\n",
              "      <td>0</td>\n",
              "      <td>0</td>\n",
              "      <td>2</td>\n",
              "      <td>1</td>\n",
              "      <td>0</td>\n",
              "    </tr>\n",
              "    <tr>\n",
              "      <th>1001</th>\n",
              "      <td>0</td>\n",
              "      <td>0</td>\n",
              "      <td>0</td>\n",
              "      <td>0</td>\n",
              "      <td>0</td>\n",
              "      <td>0</td>\n",
              "      <td>0</td>\n",
              "      <td>0</td>\n",
              "      <td>1</td>\n",
              "      <td>0</td>\n",
              "      <td>...</td>\n",
              "      <td>0</td>\n",
              "      <td>0</td>\n",
              "      <td>0</td>\n",
              "      <td>1</td>\n",
              "      <td>0</td>\n",
              "      <td>1</td>\n",
              "      <td>0</td>\n",
              "      <td>2</td>\n",
              "      <td>0</td>\n",
              "      <td>0</td>\n",
              "    </tr>\n",
              "    <tr>\n",
              "      <th>1002</th>\n",
              "      <td>0</td>\n",
              "      <td>0</td>\n",
              "      <td>0</td>\n",
              "      <td>0</td>\n",
              "      <td>0</td>\n",
              "      <td>0</td>\n",
              "      <td>0</td>\n",
              "      <td>0</td>\n",
              "      <td>0</td>\n",
              "      <td>0</td>\n",
              "      <td>...</td>\n",
              "      <td>0</td>\n",
              "      <td>0</td>\n",
              "      <td>0</td>\n",
              "      <td>0</td>\n",
              "      <td>0</td>\n",
              "      <td>0</td>\n",
              "      <td>0</td>\n",
              "      <td>1</td>\n",
              "      <td>0</td>\n",
              "      <td>0</td>\n",
              "    </tr>\n",
              "    <tr>\n",
              "      <th>1003</th>\n",
              "      <td>0</td>\n",
              "      <td>0</td>\n",
              "      <td>0</td>\n",
              "      <td>0</td>\n",
              "      <td>0</td>\n",
              "      <td>0</td>\n",
              "      <td>0</td>\n",
              "      <td>0</td>\n",
              "      <td>0</td>\n",
              "      <td>0</td>\n",
              "      <td>...</td>\n",
              "      <td>0</td>\n",
              "      <td>0</td>\n",
              "      <td>0</td>\n",
              "      <td>0</td>\n",
              "      <td>0</td>\n",
              "      <td>0</td>\n",
              "      <td>0</td>\n",
              "      <td>0</td>\n",
              "      <td>0</td>\n",
              "      <td>0</td>\n",
              "    </tr>\n",
              "    <tr>\n",
              "      <th>1004</th>\n",
              "      <td>0</td>\n",
              "      <td>0</td>\n",
              "      <td>0</td>\n",
              "      <td>0</td>\n",
              "      <td>0</td>\n",
              "      <td>0</td>\n",
              "      <td>0</td>\n",
              "      <td>0</td>\n",
              "      <td>0</td>\n",
              "      <td>0</td>\n",
              "      <td>...</td>\n",
              "      <td>0</td>\n",
              "      <td>0</td>\n",
              "      <td>0</td>\n",
              "      <td>0</td>\n",
              "      <td>0</td>\n",
              "      <td>0</td>\n",
              "      <td>0</td>\n",
              "      <td>3</td>\n",
              "      <td>0</td>\n",
              "      <td>0</td>\n",
              "    </tr>\n",
              "  </tbody>\n",
              "</table>\n",
              "<p>5 rows × 167 columns</p>\n",
              "</div>\n",
              "      <button class=\"colab-df-convert\" onclick=\"convertToInteractive('df-b44271eb-b6f3-4e1f-8eda-de261d07703a')\"\n",
              "              title=\"Convert this dataframe to an interactive table.\"\n",
              "              style=\"display:none;\">\n",
              "        \n",
              "  <svg xmlns=\"http://www.w3.org/2000/svg\" height=\"24px\"viewBox=\"0 0 24 24\"\n",
              "       width=\"24px\">\n",
              "    <path d=\"M0 0h24v24H0V0z\" fill=\"none\"/>\n",
              "    <path d=\"M18.56 5.44l.94 2.06.94-2.06 2.06-.94-2.06-.94-.94-2.06-.94 2.06-2.06.94zm-11 1L8.5 8.5l.94-2.06 2.06-.94-2.06-.94L8.5 2.5l-.94 2.06-2.06.94zm10 10l.94 2.06.94-2.06 2.06-.94-2.06-.94-.94-2.06-.94 2.06-2.06.94z\"/><path d=\"M17.41 7.96l-1.37-1.37c-.4-.4-.92-.59-1.43-.59-.52 0-1.04.2-1.43.59L10.3 9.45l-7.72 7.72c-.78.78-.78 2.05 0 2.83L4 21.41c.39.39.9.59 1.41.59.51 0 1.02-.2 1.41-.59l7.78-7.78 2.81-2.81c.8-.78.8-2.07 0-2.86zM5.41 20L4 18.59l7.72-7.72 1.47 1.35L5.41 20z\"/>\n",
              "  </svg>\n",
              "      </button>\n",
              "      \n",
              "  <style>\n",
              "    .colab-df-container {\n",
              "      display:flex;\n",
              "      flex-wrap:wrap;\n",
              "      gap: 12px;\n",
              "    }\n",
              "\n",
              "    .colab-df-convert {\n",
              "      background-color: #E8F0FE;\n",
              "      border: none;\n",
              "      border-radius: 50%;\n",
              "      cursor: pointer;\n",
              "      display: none;\n",
              "      fill: #1967D2;\n",
              "      height: 32px;\n",
              "      padding: 0 0 0 0;\n",
              "      width: 32px;\n",
              "    }\n",
              "\n",
              "    .colab-df-convert:hover {\n",
              "      background-color: #E2EBFA;\n",
              "      box-shadow: 0px 1px 2px rgba(60, 64, 67, 0.3), 0px 1px 3px 1px rgba(60, 64, 67, 0.15);\n",
              "      fill: #174EA6;\n",
              "    }\n",
              "\n",
              "    [theme=dark] .colab-df-convert {\n",
              "      background-color: #3B4455;\n",
              "      fill: #D2E3FC;\n",
              "    }\n",
              "\n",
              "    [theme=dark] .colab-df-convert:hover {\n",
              "      background-color: #434B5C;\n",
              "      box-shadow: 0px 1px 3px 1px rgba(0, 0, 0, 0.15);\n",
              "      filter: drop-shadow(0px 1px 2px rgba(0, 0, 0, 0.3));\n",
              "      fill: #FFFFFF;\n",
              "    }\n",
              "  </style>\n",
              "\n",
              "      <script>\n",
              "        const buttonEl =\n",
              "          document.querySelector('#df-b44271eb-b6f3-4e1f-8eda-de261d07703a button.colab-df-convert');\n",
              "        buttonEl.style.display =\n",
              "          google.colab.kernel.accessAllowed ? 'block' : 'none';\n",
              "\n",
              "        async function convertToInteractive(key) {\n",
              "          const element = document.querySelector('#df-b44271eb-b6f3-4e1f-8eda-de261d07703a');\n",
              "          const dataTable =\n",
              "            await google.colab.kernel.invokeFunction('convertToInteractive',\n",
              "                                                     [key], {});\n",
              "          if (!dataTable) return;\n",
              "\n",
              "          const docLinkHtml = 'Like what you see? Visit the ' +\n",
              "            '<a target=\"_blank\" href=https://colab.research.google.com/notebooks/data_table.ipynb>data table notebook</a>'\n",
              "            + ' to learn more about interactive tables.';\n",
              "          element.innerHTML = '';\n",
              "          dataTable['output_type'] = 'display_data';\n",
              "          await google.colab.output.renderOutput(dataTable, element);\n",
              "          const docLink = document.createElement('div');\n",
              "          docLink.innerHTML = docLinkHtml;\n",
              "          element.appendChild(docLink);\n",
              "        }\n",
              "      </script>\n",
              "    </div>\n",
              "  </div>\n",
              "  "
            ]
          },
          "metadata": {},
          "execution_count": 10
        }
      ],
      "source": [
        "sparse_sales = pd.pivot_table(df, \n",
        "               values='fielddate', \n",
        "               index='id', \n",
        "               columns='product', \n",
        "               fill_value=0, aggfunc='count')\n",
        "\n",
        "sparse_sales.head()"
      ]
    },
    {
      "cell_type": "markdown",
      "metadata": {
        "id": "6eKIz1Vuiun6"
      },
      "source": [
        "В нашей матрице огромное число нулей. Обычно такие матрицы называют разряжеными. Мы занимаем нулями кучу свободной памяти, которую мы могли бы не занимать, если бы хранили данные [в ином виде.](https://cmdlinetips.com/2018/03/sparse-matrices-in-python-with-scipy/)"
      ]
    },
    {
      "cell_type": "markdown",
      "metadata": {
        "id": "pYvH5M1ciun6"
      },
      "source": [
        "__в)__ Постройте матрицу корреляций Пирсона. Для этого используйте метод таблицы `.corr`."
      ]
    },
    {
      "cell_type": "code",
      "execution_count": 11,
      "metadata": {
        "deletable": false,
        "nbgrader": {
          "cell_type": "code",
          "checksum": "1f316bc47a0a361a6abdfb0740156e24",
          "grade": false,
          "grade_id": "cell-a8f15b8ba3a946c8",
          "locked": false,
          "schema_version": 3,
          "solution": true,
          "task": false
        },
        "colab": {
          "base_uri": "https://localhost:8080/",
          "height": 452
        },
        "id": "UyuMPO0piun6",
        "outputId": "1e25fe43-dcdc-481a-ad5f-02c58f540f70"
      },
      "outputs": [
        {
          "output_type": "execute_result",
          "data": {
            "text/plain": [
              "product                Instant food products  UHT-milk  abrasive cleaner  \\\n",
              "product                                                                    \n",
              "Instant food products               1.000000 -0.006936         -0.009420   \n",
              "UHT-milk                           -0.006936  1.000000          0.013806   \n",
              "abrasive cleaner                   -0.009420  0.013806          1.000000   \n",
              "artif. sweetener                   -0.010825  0.006105         -0.006523   \n",
              "baby cosmetics                     -0.003470 -0.007877         -0.002091   \n",
              "\n",
              "product                artif. sweetener  baby cosmetics      bags  \\\n",
              "product                                                             \n",
              "Instant food products         -0.010825       -0.003470 -0.004007   \n",
              "UHT-milk                       0.006105       -0.007877  0.018349   \n",
              "abrasive cleaner              -0.006523       -0.002091 -0.002415   \n",
              "artif. sweetener               1.000000        0.105251 -0.002775   \n",
              "baby cosmetics                 0.105251        1.000000 -0.000889   \n",
              "\n",
              "product                baking powder  bathroom cleaner      beef   berries  \\\n",
              "product                                                                      \n",
              "Instant food products      -0.010419         -0.008275  0.005847 -0.014528   \n",
              "UHT-milk                    0.009462         -0.018785  0.002897  0.020801   \n",
              "abrasive cleaner           -0.013429         -0.004986  0.018970  0.001813   \n",
              "artif. sweetener           -0.015432         -0.005730 -0.006645  0.016042   \n",
              "baby cosmetics             -0.004947         -0.001837  0.014798 -0.007983   \n",
              "\n",
              "product                ...    turkey   vinegar   waffles  whipped/sour cream  \\\n",
              "product                ...                                                     \n",
              "Instant food products  ...  0.025355  0.021851  0.005348            0.014025   \n",
              "UHT-milk               ... -0.003803 -0.024466  0.009144            0.006618   \n",
              "abrasive cleaner       ...  0.012922 -0.008507 -0.007390            0.002163   \n",
              "artif. sweetener       ...  0.049392 -0.009776  0.010179           -0.006614   \n",
              "baby cosmetics         ... -0.003919 -0.003134 -0.007413           -0.011288   \n",
              "\n",
              "product                  whisky  white bread  white wine  whole milk  \\\n",
              "product                                                                \n",
              "Instant food products -0.005670     0.016640    0.002853    0.015981   \n",
              "UHT-milk              -0.012871    -0.011550    0.009990    0.028747   \n",
              "abrasive cleaner      -0.003417     0.010777    0.000107    0.003558   \n",
              "artif. sweetener      -0.003926    -0.006806   -0.018394    0.029591   \n",
              "baby cosmetics        -0.001259    -0.008476   -0.005896   -0.021056   \n",
              "\n",
              "product                  yogurt  zwieback  \n",
              "product                                    \n",
              "Instant food products  0.005071  0.018221  \n",
              "UHT-milk               0.006505  0.028753  \n",
              "abrasive cleaner       0.008360 -0.009420  \n",
              "artif. sweetener      -0.024397 -0.010825  \n",
              "baby cosmetics        -0.000410 -0.003470  \n",
              "\n",
              "[5 rows x 167 columns]"
            ],
            "text/html": [
              "\n",
              "  <div id=\"df-8b6c5720-ea44-44c9-8fb9-dec4d13cb5dd\">\n",
              "    <div class=\"colab-df-container\">\n",
              "      <div>\n",
              "<style scoped>\n",
              "    .dataframe tbody tr th:only-of-type {\n",
              "        vertical-align: middle;\n",
              "    }\n",
              "\n",
              "    .dataframe tbody tr th {\n",
              "        vertical-align: top;\n",
              "    }\n",
              "\n",
              "    .dataframe thead th {\n",
              "        text-align: right;\n",
              "    }\n",
              "</style>\n",
              "<table border=\"1\" class=\"dataframe\">\n",
              "  <thead>\n",
              "    <tr style=\"text-align: right;\">\n",
              "      <th>product</th>\n",
              "      <th>Instant food products</th>\n",
              "      <th>UHT-milk</th>\n",
              "      <th>abrasive cleaner</th>\n",
              "      <th>artif. sweetener</th>\n",
              "      <th>baby cosmetics</th>\n",
              "      <th>bags</th>\n",
              "      <th>baking powder</th>\n",
              "      <th>bathroom cleaner</th>\n",
              "      <th>beef</th>\n",
              "      <th>berries</th>\n",
              "      <th>...</th>\n",
              "      <th>turkey</th>\n",
              "      <th>vinegar</th>\n",
              "      <th>waffles</th>\n",
              "      <th>whipped/sour cream</th>\n",
              "      <th>whisky</th>\n",
              "      <th>white bread</th>\n",
              "      <th>white wine</th>\n",
              "      <th>whole milk</th>\n",
              "      <th>yogurt</th>\n",
              "      <th>zwieback</th>\n",
              "    </tr>\n",
              "    <tr>\n",
              "      <th>product</th>\n",
              "      <th></th>\n",
              "      <th></th>\n",
              "      <th></th>\n",
              "      <th></th>\n",
              "      <th></th>\n",
              "      <th></th>\n",
              "      <th></th>\n",
              "      <th></th>\n",
              "      <th></th>\n",
              "      <th></th>\n",
              "      <th></th>\n",
              "      <th></th>\n",
              "      <th></th>\n",
              "      <th></th>\n",
              "      <th></th>\n",
              "      <th></th>\n",
              "      <th></th>\n",
              "      <th></th>\n",
              "      <th></th>\n",
              "      <th></th>\n",
              "      <th></th>\n",
              "    </tr>\n",
              "  </thead>\n",
              "  <tbody>\n",
              "    <tr>\n",
              "      <th>Instant food products</th>\n",
              "      <td>1.000000</td>\n",
              "      <td>-0.006936</td>\n",
              "      <td>-0.009420</td>\n",
              "      <td>-0.010825</td>\n",
              "      <td>-0.003470</td>\n",
              "      <td>-0.004007</td>\n",
              "      <td>-0.010419</td>\n",
              "      <td>-0.008275</td>\n",
              "      <td>0.005847</td>\n",
              "      <td>-0.014528</td>\n",
              "      <td>...</td>\n",
              "      <td>0.025355</td>\n",
              "      <td>0.021851</td>\n",
              "      <td>0.005348</td>\n",
              "      <td>0.014025</td>\n",
              "      <td>-0.005670</td>\n",
              "      <td>0.016640</td>\n",
              "      <td>0.002853</td>\n",
              "      <td>0.015981</td>\n",
              "      <td>0.005071</td>\n",
              "      <td>0.018221</td>\n",
              "    </tr>\n",
              "    <tr>\n",
              "      <th>UHT-milk</th>\n",
              "      <td>-0.006936</td>\n",
              "      <td>1.000000</td>\n",
              "      <td>0.013806</td>\n",
              "      <td>0.006105</td>\n",
              "      <td>-0.007877</td>\n",
              "      <td>0.018349</td>\n",
              "      <td>0.009462</td>\n",
              "      <td>-0.018785</td>\n",
              "      <td>0.002897</td>\n",
              "      <td>0.020801</td>\n",
              "      <td>...</td>\n",
              "      <td>-0.003803</td>\n",
              "      <td>-0.024466</td>\n",
              "      <td>0.009144</td>\n",
              "      <td>0.006618</td>\n",
              "      <td>-0.012871</td>\n",
              "      <td>-0.011550</td>\n",
              "      <td>0.009990</td>\n",
              "      <td>0.028747</td>\n",
              "      <td>0.006505</td>\n",
              "      <td>0.028753</td>\n",
              "    </tr>\n",
              "    <tr>\n",
              "      <th>abrasive cleaner</th>\n",
              "      <td>-0.009420</td>\n",
              "      <td>0.013806</td>\n",
              "      <td>1.000000</td>\n",
              "      <td>-0.006523</td>\n",
              "      <td>-0.002091</td>\n",
              "      <td>-0.002415</td>\n",
              "      <td>-0.013429</td>\n",
              "      <td>-0.004986</td>\n",
              "      <td>0.018970</td>\n",
              "      <td>0.001813</td>\n",
              "      <td>...</td>\n",
              "      <td>0.012922</td>\n",
              "      <td>-0.008507</td>\n",
              "      <td>-0.007390</td>\n",
              "      <td>0.002163</td>\n",
              "      <td>-0.003417</td>\n",
              "      <td>0.010777</td>\n",
              "      <td>0.000107</td>\n",
              "      <td>0.003558</td>\n",
              "      <td>0.008360</td>\n",
              "      <td>-0.009420</td>\n",
              "    </tr>\n",
              "    <tr>\n",
              "      <th>artif. sweetener</th>\n",
              "      <td>-0.010825</td>\n",
              "      <td>0.006105</td>\n",
              "      <td>-0.006523</td>\n",
              "      <td>1.000000</td>\n",
              "      <td>0.105251</td>\n",
              "      <td>-0.002775</td>\n",
              "      <td>-0.015432</td>\n",
              "      <td>-0.005730</td>\n",
              "      <td>-0.006645</td>\n",
              "      <td>0.016042</td>\n",
              "      <td>...</td>\n",
              "      <td>0.049392</td>\n",
              "      <td>-0.009776</td>\n",
              "      <td>0.010179</td>\n",
              "      <td>-0.006614</td>\n",
              "      <td>-0.003926</td>\n",
              "      <td>-0.006806</td>\n",
              "      <td>-0.018394</td>\n",
              "      <td>0.029591</td>\n",
              "      <td>-0.024397</td>\n",
              "      <td>-0.010825</td>\n",
              "    </tr>\n",
              "    <tr>\n",
              "      <th>baby cosmetics</th>\n",
              "      <td>-0.003470</td>\n",
              "      <td>-0.007877</td>\n",
              "      <td>-0.002091</td>\n",
              "      <td>0.105251</td>\n",
              "      <td>1.000000</td>\n",
              "      <td>-0.000889</td>\n",
              "      <td>-0.004947</td>\n",
              "      <td>-0.001837</td>\n",
              "      <td>0.014798</td>\n",
              "      <td>-0.007983</td>\n",
              "      <td>...</td>\n",
              "      <td>-0.003919</td>\n",
              "      <td>-0.003134</td>\n",
              "      <td>-0.007413</td>\n",
              "      <td>-0.011288</td>\n",
              "      <td>-0.001259</td>\n",
              "      <td>-0.008476</td>\n",
              "      <td>-0.005896</td>\n",
              "      <td>-0.021056</td>\n",
              "      <td>-0.000410</td>\n",
              "      <td>-0.003470</td>\n",
              "    </tr>\n",
              "  </tbody>\n",
              "</table>\n",
              "<p>5 rows × 167 columns</p>\n",
              "</div>\n",
              "      <button class=\"colab-df-convert\" onclick=\"convertToInteractive('df-8b6c5720-ea44-44c9-8fb9-dec4d13cb5dd')\"\n",
              "              title=\"Convert this dataframe to an interactive table.\"\n",
              "              style=\"display:none;\">\n",
              "        \n",
              "  <svg xmlns=\"http://www.w3.org/2000/svg\" height=\"24px\"viewBox=\"0 0 24 24\"\n",
              "       width=\"24px\">\n",
              "    <path d=\"M0 0h24v24H0V0z\" fill=\"none\"/>\n",
              "    <path d=\"M18.56 5.44l.94 2.06.94-2.06 2.06-.94-2.06-.94-.94-2.06-.94 2.06-2.06.94zm-11 1L8.5 8.5l.94-2.06 2.06-.94-2.06-.94L8.5 2.5l-.94 2.06-2.06.94zm10 10l.94 2.06.94-2.06 2.06-.94-2.06-.94-.94-2.06-.94 2.06-2.06.94z\"/><path d=\"M17.41 7.96l-1.37-1.37c-.4-.4-.92-.59-1.43-.59-.52 0-1.04.2-1.43.59L10.3 9.45l-7.72 7.72c-.78.78-.78 2.05 0 2.83L4 21.41c.39.39.9.59 1.41.59.51 0 1.02-.2 1.41-.59l7.78-7.78 2.81-2.81c.8-.78.8-2.07 0-2.86zM5.41 20L4 18.59l7.72-7.72 1.47 1.35L5.41 20z\"/>\n",
              "  </svg>\n",
              "      </button>\n",
              "      \n",
              "  <style>\n",
              "    .colab-df-container {\n",
              "      display:flex;\n",
              "      flex-wrap:wrap;\n",
              "      gap: 12px;\n",
              "    }\n",
              "\n",
              "    .colab-df-convert {\n",
              "      background-color: #E8F0FE;\n",
              "      border: none;\n",
              "      border-radius: 50%;\n",
              "      cursor: pointer;\n",
              "      display: none;\n",
              "      fill: #1967D2;\n",
              "      height: 32px;\n",
              "      padding: 0 0 0 0;\n",
              "      width: 32px;\n",
              "    }\n",
              "\n",
              "    .colab-df-convert:hover {\n",
              "      background-color: #E2EBFA;\n",
              "      box-shadow: 0px 1px 2px rgba(60, 64, 67, 0.3), 0px 1px 3px 1px rgba(60, 64, 67, 0.15);\n",
              "      fill: #174EA6;\n",
              "    }\n",
              "\n",
              "    [theme=dark] .colab-df-convert {\n",
              "      background-color: #3B4455;\n",
              "      fill: #D2E3FC;\n",
              "    }\n",
              "\n",
              "    [theme=dark] .colab-df-convert:hover {\n",
              "      background-color: #434B5C;\n",
              "      box-shadow: 0px 1px 3px 1px rgba(0, 0, 0, 0.15);\n",
              "      filter: drop-shadow(0px 1px 2px rgba(0, 0, 0, 0.3));\n",
              "      fill: #FFFFFF;\n",
              "    }\n",
              "  </style>\n",
              "\n",
              "      <script>\n",
              "        const buttonEl =\n",
              "          document.querySelector('#df-8b6c5720-ea44-44c9-8fb9-dec4d13cb5dd button.colab-df-convert');\n",
              "        buttonEl.style.display =\n",
              "          google.colab.kernel.accessAllowed ? 'block' : 'none';\n",
              "\n",
              "        async function convertToInteractive(key) {\n",
              "          const element = document.querySelector('#df-8b6c5720-ea44-44c9-8fb9-dec4d13cb5dd');\n",
              "          const dataTable =\n",
              "            await google.colab.kernel.invokeFunction('convertToInteractive',\n",
              "                                                     [key], {});\n",
              "          if (!dataTable) return;\n",
              "\n",
              "          const docLinkHtml = 'Like what you see? Visit the ' +\n",
              "            '<a target=\"_blank\" href=https://colab.research.google.com/notebooks/data_table.ipynb>data table notebook</a>'\n",
              "            + ' to learn more about interactive tables.';\n",
              "          element.innerHTML = '';\n",
              "          dataTable['output_type'] = 'display_data';\n",
              "          await google.colab.output.renderOutput(dataTable, element);\n",
              "          const docLink = document.createElement('div');\n",
              "          docLink.innerHTML = docLinkHtml;\n",
              "          element.appendChild(docLink);\n",
              "        }\n",
              "      </script>\n",
              "    </div>\n",
              "  </div>\n",
              "  "
            ]
          },
          "metadata": {},
          "execution_count": 11
        }
      ],
      "source": [
        "sales_correlation = sparse_sales.corr(method='pearson')\n",
        "sales_correlation.head()"
      ]
    },
    {
      "cell_type": "markdown",
      "metadata": {
        "id": "KPmra3uCiun7"
      },
      "source": [
        "Какие продукты сильнее всего коррелируют с яйцами, `domestic eggs` (их чаще всего покупают вместе)?  Сохраните название самого скоррелированного продукта в переменную `top_1`."
      ]
    },
    {
      "cell_type": "code",
      "execution_count": 13,
      "metadata": {
        "deletable": false,
        "nbgrader": {
          "cell_type": "code",
          "checksum": "678a180e150dcff0fd0b246353de1e61",
          "grade": false,
          "grade_id": "cell-cf20442762e0f104",
          "locked": false,
          "schema_version": 3,
          "solution": true,
          "task": false
        },
        "colab": {
          "base_uri": "https://localhost:8080/"
        },
        "id": "GhJgssOHiun7",
        "outputId": "c03f7f10-dba0-4130-ed55-8264037f4391"
      },
      "outputs": [
        {
          "output_type": "stream",
          "name": "stdout",
          "text": [
            "meat spreads\n"
          ]
        }
      ],
      "source": [
        "top_1 = sales_correlation['domestic eggs'].sort_values().index[-2]\n",
        "print(top_1)"
      ]
    },
    {
      "cell_type": "markdown",
      "metadata": {
        "id": "fWWyxCYGiun7"
      },
      "source": [
        "Какие продукты \"мешают\" купить яйца, то есть отрицательно коррелируют с их покупкой? Сохраните название продукта с самой большой отрицательной корреляцией в переменную `bottom_1`."
      ]
    },
    {
      "cell_type": "code",
      "execution_count": 15,
      "metadata": {
        "deletable": false,
        "nbgrader": {
          "cell_type": "code",
          "checksum": "a69d93d0bdb0f94a8c15081269d5a6cf",
          "grade": false,
          "grade_id": "cell-fbd202e1529e31c7",
          "locked": false,
          "schema_version": 3,
          "solution": true,
          "task": false
        },
        "colab": {
          "base_uri": "https://localhost:8080/"
        },
        "id": "r8OMmJTkiun7",
        "outputId": "290ceac6-ca83-400a-8ea9-7a58c61d42d4"
      },
      "outputs": [
        {
          "output_type": "stream",
          "name": "stdout",
          "text": [
            "pet care\n"
          ]
        }
      ],
      "source": [
        "bottom_1 = sales_correlation['domestic eggs'].sort_values().index[0]\n",
        "print(bottom_1)"
      ]
    },
    {
      "cell_type": "code",
      "execution_count": null,
      "metadata": {
        "deletable": false,
        "editable": false,
        "nbgrader": {
          "cell_type": "code",
          "checksum": "6ac2ce2c786529bbf15bc7a6d8e5b419",
          "grade": true,
          "grade_id": "cell-d070d4a1a7bde720",
          "locked": true,
          "points": 1,
          "schema_version": 3,
          "solution": false,
          "task": false
        },
        "id": "igk8YBvSiun7"
      },
      "outputs": [],
      "source": [
        "# проверка, что задание решено корректно\n",
        "assert len(bottom_1) == 8\n",
        "assert len(top_1) == 12"
      ]
    },
    {
      "cell_type": "markdown",
      "metadata": {
        "id": "xxyamLiniun7"
      },
      "source": [
        "Напишите код, который выводит самые коррелируемые товары для случайного продукта из списка `unique_products`."
      ]
    },
    {
      "cell_type": "code",
      "execution_count": 17,
      "metadata": {
        "deletable": false,
        "nbgrader": {
          "cell_type": "code",
          "checksum": "d9963e0690e8f979766ae92f7c9e1637",
          "grade": false,
          "grade_id": "cell-50a7be49564df467",
          "locked": false,
          "schema_version": 3,
          "solution": true,
          "task": false
        },
        "colab": {
          "base_uri": "https://localhost:8080/"
        },
        "id": "f8O38ZGliun7",
        "outputId": "98103d70-33a3-46d8-c61f-f10f9c5fe944"
      },
      "outputs": [
        {
          "output_type": "stream",
          "name": "stdout",
          "text": [
            "bags + liver loaf\n"
          ]
        }
      ],
      "source": [
        "from random import choice\n",
        "unique_products = df['product'].unique()\n",
        "product = choice(unique_products)\n",
        "high_corr = sales_correlation[product].sort_values().index[-2]\n",
        "print(high_corr,\"+\", product)"
      ]
    },
    {
      "cell_type": "markdown",
      "metadata": {
        "id": "gWXyTJiTiun8"
      },
      "source": [
        "__г)__ Какие два продукта коррелируют сильнее всего? Положите их название в лист `answer`"
      ]
    },
    {
      "cell_type": "code",
      "execution_count": 22,
      "metadata": {
        "colab": {
          "base_uri": "https://localhost:8080/"
        },
        "id": "jeNotmQ4iun8",
        "outputId": "b798dcaf-be9f-4333-c7b9-4e76b93262a9"
      },
      "outputs": [
        {
          "output_type": "stream",
          "name": "stdout",
          "text": [
            "['preservation products' 'soups']\n"
          ]
        }
      ],
      "source": [
        "max_corr = sales_correlation[sales_correlation != 1].max().sort_values(ascending=False)[0:2].index\n",
        "answer = max_corr.values\n",
        "print(answer)"
      ]
    },
    {
      "cell_type": "code",
      "execution_count": 23,
      "metadata": {
        "deletable": false,
        "editable": false,
        "nbgrader": {
          "cell_type": "code",
          "checksum": "6ff9da58bc1861cd17f35b979e3d3e41",
          "grade": true,
          "grade_id": "cell-894ff9bec07f24e0",
          "locked": true,
          "points": 1,
          "schema_version": 3,
          "solution": false,
          "task": false
        },
        "id": "Cm-zCtskiun8"
      },
      "outputs": [],
      "source": [
        "# проверка, что задание решено корректно\n",
        "assert 'soups' in answer"
      ]
    },
    {
      "cell_type": "markdown",
      "metadata": {
        "id": "1pKtZPtAiun8"
      },
      "source": [
        "Конечно же, корреляция — это [не единственный способ искать](https://habr.com/ru/company/ods/blog/353502/) между покупками ассоциативные правила."
      ]
    },
    {
      "cell_type": "markdown",
      "metadata": {
        "id": "IDtUZyxkiun8"
      },
      "source": [
        "## 2. Зависимость. \n",
        "\n",
        "В лекции мы с вами сказали, что события $A$ и $B$ называются независимыми, если $P(AB) = P(A)\\cdot P(B)$. Отталкиваясь от этого определения, можно ввести другую характеристику, которая показывает, насколько продукты зависят друг от друга, а именно __поддержку (lift).__ \n",
        "\n",
        "$$\n",
        "lift = \\frac{P(AB)}{P(A)\\cdot P(B)}\n",
        "$$"
      ]
    },
    {
      "cell_type": "markdown",
      "metadata": {
        "id": "xFyaGePpiun9"
      },
      "source": [
        "Эта метрика описывает отношение зависимости товаров к их независимости. Если оказалось, что `lift = 1`, это означает, что покупка товара $A$ не зависит от покупки товара $B$. Если `lift > 1`, то это означает, что вероятность встретить оба товара в чеке, $P(AB)$ высокая, то есть товары покупают вместе. Если `lift < 1`, это означает, что товары, наоборот, очень часто покупают по-отдельности. "
      ]
    },
    {
      "cell_type": "markdown",
      "metadata": {
        "id": "QrZn1c_biun9"
      },
      "source": [
        "__д)__ Посчитайте значение нашей метрики для яиц и молока (`'whole milk', 'domestic eggs'`). Запишите получившиеся значение метрики в переменную `answer`.\n",
        "\n",
        "> Вам аккуратно нужно сделать три среза по условию  `>= 1`. Там, где пара надо делать срез так, чтобы оба товара дали `True`. Сделать это в одну строку вам поможет метод `.all(axis=1)`. Частоты можно получить методом `.mean()`, так как python думает, что `False` - это ноль, а `True` - это единица."
      ]
    },
    {
      "cell_type": "code",
      "execution_count": 25,
      "metadata": {
        "colab": {
          "base_uri": "https://localhost:8080/"
        },
        "id": "PNdUwrbIiun9",
        "outputId": "26f35107-1aa2-4cac-8d7e-12563f2640e4"
      },
      "outputs": [
        {
          "output_type": "stream",
          "name": "stdout",
          "text": [
            "1.152241691425711\n"
          ]
        }
      ],
      "source": [
        "pab= sparse_sales[(sparse_sales[\"domestic eggs\"]>=1)&(sparse_sales[\"whole milk\"]>=1)][\"whole milk\"].count()/sparse_sales[\"whole milk\"].count()\n",
        "papb = sparse_sales[sparse_sales[\"whole milk\"]>=1][\"whole milk\"].count() * sparse_sales[sparse_sales[\"domestic eggs\"]>=1][\"whole milk\"].count()/sparse_sales[\"whole milk\"].count()**2\n",
        "answer = pab / papb\n",
        "print(answer)"
      ]
    },
    {
      "cell_type": "code",
      "execution_count": 26,
      "metadata": {
        "deletable": false,
        "editable": false,
        "nbgrader": {
          "cell_type": "code",
          "checksum": "ae6b5fdfedb6956db845d780ce9bfbf0",
          "grade": true,
          "grade_id": "cell-c2f789696293a0b3",
          "locked": true,
          "points": 1,
          "schema_version": 3,
          "solution": false,
          "task": false
        },
        "id": "4LfneKGoiun9"
      },
      "outputs": [],
      "source": [
        "# проверка, что задание решено корректно\n",
        "assert answer < 3\n",
        "assert answer > 1"
      ]
    },
    {
      "cell_type": "markdown",
      "metadata": {
        "id": "WBFvQtWMiun9"
      },
      "source": [
        "__е)__ Посчитайте значение метрики для всех пар продуктов из датасета. Сохраните значения в словарик `dict`. В качестве ключа используете кортеж из пары продуктов. Чтобы удобнее было перебрать все сочетания, используйте `combinations` из модуля `itertools`.\n",
        "\n",
        "Чтобы при подсчётах не возникало деления на ноль, добавьте к знаменателю маленькое число, например `1e-10`."
      ]
    },
    {
      "cell_type": "code",
      "execution_count": 28,
      "metadata": {
        "id": "pIwfphz1iun9"
      },
      "outputs": [],
      "source": [
        "def metric(first, second):\n",
        "    pab = sparse_sales[(sparse_sales[first]>=1)&(sparse_sales[second]>=1)][second].count()/sparse_sales[second].count()\n",
        "    papb = sparse_sales[sparse_sales[second]>=1][second].count() * sparse_sales[sparse_sales[first]>=1][second].count()/sparse_sales[second].count()**2\n",
        "    return pab / papb"
      ]
    },
    {
      "cell_type": "code",
      "execution_count": 29,
      "metadata": {
        "id": "2BHkcDqoiun-"
      },
      "outputs": [],
      "source": [
        "import itertools \n",
        "paires = list(itertools.combinations(list(sparse_sales.columns), 2))\n",
        "lift = {}\n",
        "for pair in paires:\n",
        "    lift[pair] = metric( pair[0],  pair[1])"
      ]
    },
    {
      "cell_type": "markdown",
      "metadata": {
        "id": "NX020dcPiuoF"
      },
      "source": [
        "Сколько пар продуктов покупали вместе хотя бы раз? Запишите ответ в переменную `answer`."
      ]
    },
    {
      "cell_type": "code",
      "execution_count": 39,
      "metadata": {
        "deletable": false,
        "nbgrader": {
          "cell_type": "code",
          "checksum": "eefa1ae8918a171dac3c431005fe824a",
          "grade": false,
          "grade_id": "cell-097e70120aa5a596",
          "locked": false,
          "schema_version": 3,
          "solution": true,
          "task": false
        },
        "colab": {
          "base_uri": "https://localhost:8080/"
        },
        "id": "cWHxtEatiuoF",
        "outputId": "b329d087-4ad4-4966-fab5-68e6c57a1a74"
      },
      "outputs": [
        {
          "output_type": "stream",
          "name": "stdout",
          "text": [
            "9824\n"
          ]
        }
      ],
      "source": [
        "answer = 0\n",
        "for key in lift.keys():\n",
        "    if lift[key] > 0:\n",
        "        answer += 1 \n",
        "print(answer)"
      ]
    },
    {
      "cell_type": "markdown",
      "metadata": {
        "id": "Ld7ee87giuoF"
      },
      "source": [
        "Для какой пары продуктов метрика $lift$ оказалась самой большой? "
      ]
    },
    {
      "cell_type": "code",
      "execution_count": 36,
      "metadata": {
        "deletable": false,
        "nbgrader": {
          "cell_type": "code",
          "checksum": "3935f2223dddf3a9658a90034e2ebd5d",
          "grade": false,
          "grade_id": "cell-e0e772420c99a1f4",
          "locked": false,
          "schema_version": 3,
          "solution": true,
          "task": false
        },
        "colab": {
          "base_uri": "https://localhost:8080/"
        },
        "id": "-FBy693ziuoF",
        "outputId": "d59bab34-5f1e-477b-a109-1760154eb77d"
      },
      "outputs": [
        {
          "output_type": "stream",
          "name": "stdout",
          "text": [
            "('preservation products', 'soups')\n"
          ]
        }
      ],
      "source": [
        "max_value = max(lift.values())\n",
        "for key in lift.keys():\n",
        "    if lift[key] == max_value:\n",
        "        answer_1 = key\n",
        "        break\n",
        "print(answer_1)"
      ]
    },
    {
      "cell_type": "markdown",
      "metadata": {
        "id": "knuVV8qHiuoF"
      },
      "source": [
        "Сколько раз эти продукты встретились в выборке? Как думаете адеватно ли делать выводы по такому объёму данных? "
      ]
    },
    {
      "cell_type": "code",
      "execution_count": null,
      "metadata": {
        "deletable": false,
        "nbgrader": {
          "cell_type": "code",
          "checksum": "dc2e17f19344df8a8e09d989c31e436b",
          "grade": false,
          "grade_id": "cell-cfbf5b5deb321f36",
          "locked": false,
          "schema_version": 3,
          "solution": true,
          "task": false
        },
        "id": "HUMenPP1iuoF"
      },
      "outputs": [],
      "source": [
        "print(sparse_sales[sparse_sales['soups'] >= 1]['soups'].count())\n",
        "print(sparse_sales[sparse_sales['preservation products'] >= 1]['preservation products'].count())"
      ]
    },
    {
      "cell_type": "markdown",
      "source": [
        "**ОТВЕТ:** Нет, объем данных слишком мал."
      ],
      "metadata": {
        "id": "8yfMIJLBmjZc"
      }
    },
    {
      "cell_type": "markdown",
      "metadata": {
        "id": "-L3vE7x8iuoG"
      },
      "source": [
        "Для какой пары продуктов метрика оказывается самой маленькой? "
      ]
    },
    {
      "cell_type": "code",
      "execution_count": 37,
      "metadata": {
        "deletable": false,
        "nbgrader": {
          "cell_type": "code",
          "checksum": "a4a911333c146c4d9ec09e8f51a5fb6c",
          "grade": false,
          "grade_id": "cell-0c88c82cc7bdef09",
          "locked": false,
          "schema_version": 3,
          "solution": true,
          "task": false
        },
        "colab": {
          "base_uri": "https://localhost:8080/"
        },
        "id": "Jxk7DiJqiuoG",
        "outputId": "89fa493c-937f-4d93-d132-277b47b95401"
      },
      "outputs": [
        {
          "output_type": "stream",
          "name": "stdout",
          "text": [
            "('Instant food products', 'abrasive cleaner')\n"
          ]
        }
      ],
      "source": [
        "min_value = min(lift.values())\n",
        "for key in lift.keys():\n",
        "    if lift[key] == min_value:\n",
        "        answer_2 = key\n",
        "        break\n",
        "print(answer_2)"
      ]
    },
    {
      "cell_type": "code",
      "source": [
        "print(sparse_sales[sparse_sales['Instant food products'] >= 1]['Instant food products'].count())\n",
        "print(sparse_sales[sparse_sales['abrasive cleaner'] >= 1]['abrasive cleaner'].count())"
      ],
      "metadata": {
        "id": "bTjusu34oko_"
      },
      "execution_count": null,
      "outputs": []
    },
    {
      "cell_type": "code",
      "execution_count": 40,
      "metadata": {
        "deletable": false,
        "editable": false,
        "nbgrader": {
          "cell_type": "code",
          "checksum": "c15571d658306ab43839bcf4d8e42bae",
          "grade": true,
          "grade_id": "cell-b7f41317d840457e",
          "locked": true,
          "points": 1,
          "schema_version": 3,
          "solution": false,
          "task": false
        },
        "id": "yvOlI_-XiuoG"
      },
      "outputs": [],
      "source": [
        "# проверка, что задание решено корректно\n",
        "\n",
        "assert answer < 10000\n",
        "assert answer > 9000"
      ]
    },
    {
      "cell_type": "markdown",
      "metadata": {
        "id": "EbeoW7utiuoG"
      },
      "source": [
        "## 3. Неоцениваемые задания\n",
        "\n",
        "Выше мы увидели, что некоторые продукты встречаются в выборке очень редко. Понятное дело, что по ним у нас не получится построить хорошее ассоциативное правило. Попробуйте повторить расчёт той же метрики, но с условием что продукт покупали больше 10 раз. Изучите самые покупаемые вместе продукты и самые непокупаемые вместе продукты. Насколько сильно список отличается от полученного в предыдущем задании? "
      ]
    },
    {
      "cell_type": "code",
      "execution_count": 44,
      "metadata": {
        "deletable": false,
        "nbgrader": {
          "cell_type": "code",
          "checksum": "99e685544038e446e2d67bd1cd4f6a3c",
          "grade": false,
          "grade_id": "cell-aa30f3933e22e20d",
          "locked": false,
          "schema_version": 3,
          "solution": true,
          "task": false
        },
        "colab": {
          "base_uri": "https://localhost:8080/"
        },
        "id": "qu2E8zvyiuoG",
        "outputId": "7b3ce5a1-21ec-401a-dfe3-1a102376c4db"
      },
      "outputs": [
        {
          "output_type": "stream",
          "name": "stdout",
          "text": [
            "(3898, 167)\n",
            "(3898, 154)\n"
          ]
        }
      ],
      "source": [
        "print(sparse_sales.shape)\n",
        "for product in sparse_sales.columns:\n",
        "    counter = sparse_sales[sparse_sales[product] >= 1][product].count()\n",
        "    if counter < 10:\n",
        "        sparse_sales = sparse_sales.drop(columns = product)\n",
        "print(sparse_sales.shape)"
      ]
    },
    {
      "cell_type": "code",
      "source": [
        "paires = list(itertools.combinations(list(sparse_sales.columns), 2))\n",
        "lift = {}\n",
        "for pair in paires:\n",
        "    lift[pair] = metric( pair[0],  pair[1])"
      ],
      "metadata": {
        "id": "nkU8OiF0oMax"
      },
      "execution_count": 45,
      "outputs": []
    },
    {
      "cell_type": "code",
      "source": [
        "max_value = max(lift.values())\n",
        "for key in lift.keys():\n",
        "    if lift[key] == max_value:\n",
        "        answer_1 = key\n",
        "        break\n",
        "print(\"Max lift pair is\", answer_1)"
      ],
      "metadata": {
        "colab": {
          "base_uri": "https://localhost:8080/"
        },
        "id": "CgwXSvBToXbb",
        "outputId": "a6b23867-8c6f-47ac-f292-8d03f325feb0"
      },
      "execution_count": 46,
      "outputs": [
        {
          "output_type": "stream",
          "name": "stdout",
          "text": [
            "('flower soil/fertilizer', 'organic products')\n"
          ]
        }
      ]
    },
    {
      "cell_type": "code",
      "source": [
        "min_value = min(lift.values())\n",
        "for key in lift.keys():\n",
        "    if lift[key] == min_value:\n",
        "        answer_2 = key\n",
        "        break\n",
        "print(\"Min lift pair is\", answer_2)"
      ],
      "metadata": {
        "colab": {
          "base_uri": "https://localhost:8080/"
        },
        "id": "nGFzteADodBf",
        "outputId": "d7c04b90-6f38-477e-97cd-38aa3b3e5efe"
      },
      "execution_count": 47,
      "outputs": [
        {
          "output_type": "stream",
          "name": "stdout",
          "text": [
            "('Instant food products', 'abrasive cleaner')\n"
          ]
        }
      ]
    },
    {
      "cell_type": "markdown",
      "metadata": {
        "id": "fmroRRGDiuoG"
      },
      "source": [
        "Иногда в чеках пытаются искать __продукты-якоря.__ То есть продукты, которые являются основными. Например: айфон - основной продукт, наушники и чехол - дополнения к нему. Подумайте как можно попытаться найти такие продукты на основе простых метрик, основанных на подсчёте условных вероятностей."
      ]
    },
    {
      "cell_type": "markdown",
      "source": [
        "**ОТВЕТ:** Продукты не якори будут приобретаться преимущественно при условии наличия в чеке продукта якоря. Т.е. вероятность покупки аксессуаров вместе с айфоном будет значительно больше, чем без него $P(A|B) >> P(A)$. Можно попробовать какую-то метрику типа $$\\frac{P(A|B)}{P(A)}$$, чем она больше, тем менее самостоятельный продукт А"
      ],
      "metadata": {
        "id": "7Cy3UNbhpztH"
      }
    },
    {
      "cell_type": "code",
      "source": [],
      "metadata": {
        "id": "5wsGZxtKqR8Q"
      },
      "execution_count": null,
      "outputs": []
    }
  ],
  "metadata": {
    "kernelspec": {
      "display_name": "Python 3",
      "language": "python",
      "name": "python3"
    },
    "language_info": {
      "codemirror_mode": {
        "name": "ipython",
        "version": 3
      },
      "file_extension": ".py",
      "mimetype": "text/x-python",
      "name": "python",
      "nbconvert_exporter": "python",
      "pygments_lexer": "ipython3",
      "version": "3.8.8"
    },
    "colab": {
      "provenance": []
    }
  },
  "nbformat": 4,
  "nbformat_minor": 0
}
