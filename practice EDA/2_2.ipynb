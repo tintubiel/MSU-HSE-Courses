{
  "cells": [
    {
      "cell_type": "markdown",
      "metadata": {
        "id": "nJ9Aa4g25EE1"
      },
      "source": [
        "<center>\n",
        "</center>\n",
        "\n",
        "\n",
        "#  Простые симуляции\n",
        "\n",
        "В этом задании мы решим несколько простых задачек на симуляции. "
      ]
    },
    {
      "cell_type": "code",
      "execution_count": 16,
      "metadata": {
        "id": "XugOp1u15EE3"
      },
      "outputs": [],
      "source": [
        "import numpy as np\n",
        "import scipy.stats as sts\n",
        "import matplotlib.pyplot as plt\n",
        "import seaborn as sns"
      ]
    },
    {
      "cell_type": "markdown",
      "metadata": {
        "id": "swEdfzm35EE4"
      },
      "source": [
        "## Упражнение 1 (распределение Пуассона)\n",
        "\n",
        "Случайная величина $X$ имеет распределение Пуассона с $\\lambda = 2$,  $X \\sim Pois(2)$. С помощью $10^6$ симуляций оцените: \n",
        "\n",
        "* $P(X > 6)$\n",
        "* $P(X > 6 \\mid X > 5)$\n",
        "* $P(X > 5, X < 7)$\n",
        "* $E(X^3)$ \n",
        "* $E(X \\mid X > 5)$\n",
        "\n",
        "__Под чёрточками имеется в виду условная вероятность!!!__\n",
        "\n",
        "Вбейте получившиеся ответы в переменные `ans1`, `ans2`, $\\ldots$, `ans5`. "
      ]
    },
    {
      "cell_type": "code",
      "execution_count": 4,
      "metadata": {
        "deletable": false,
        "nbgrader": {
          "cell_type": "code",
          "checksum": "d510c9a6c4f49d97c2e5161ae93e4a0b",
          "grade": false,
          "grade_id": "cell-0cdc105173d26dcd",
          "locked": false,
          "schema_version": 3,
          "solution": true,
          "task": false
        },
        "colab": {
          "base_uri": "https://localhost:8080/"
        },
        "id": "oX4cwd-G5EE5",
        "outputId": "558aea07-49d5-445b-a920-7473890e7a36"
      },
      "outputs": [
        {
          "output_type": "stream",
          "name": "stdout",
          "text": [
            "0.004458 0.26960991835500453 0.012077 21.9583 6.352766858179619\n"
          ]
        }
      ],
      "source": [
        "poisson = sts.poisson.rvs(mu = 2, size = 10**6)\n",
        "ans1 = sum(poisson > 6) / len(poisson)\n",
        "ans2 = sum(poisson[poisson > 5] > 6) / sum(poisson > 5)\n",
        "ans3 = sum((poisson > 5) & (poisson < 7)) / len(poisson)\n",
        "ans4 = np.mean(poisson**3)\n",
        "ans5 =  np.mean(poisson[poisson > 5])\n",
        "print(ans1, ans2, ans3, ans4, ans5)"
      ]
    },
    {
      "cell_type": "code",
      "execution_count": null,
      "metadata": {
        "deletable": false,
        "editable": false,
        "nbgrader": {
          "cell_type": "code",
          "checksum": "0dcee68ccb098d61c3c07a0e268f5651",
          "grade": true,
          "grade_id": "cell-5e50c3445bab8f6d",
          "locked": true,
          "points": 5,
          "schema_version": 3,
          "solution": false,
          "task": false
        },
        "id": "-IWmH34v5EE5"
      },
      "outputs": [],
      "source": [
        "# проверка, что задание решено корректно\n",
        "assert np.abs(ans3 - 0.01) < 1e-2"
      ]
    },
    {
      "cell_type": "markdown",
      "metadata": {
        "id": "Jf5LU1yg5EE6"
      },
      "source": [
        "## Упражнение 2 (нейросети)\n",
        "\n",
        "Юра завёл себе две нейронные сетки и два сервера для их обучения. Две нейросети обучаются независимо на двух серверах. Время их обучения $T_1$ и $T_2$ равномерно распределено на отрезке $[1;3]$ (обучение измеряется в часах). В процессе обучения сервер может упасть. Момент падения сервера $T$ распределён экспоненциально с параметром $\\lambda = 0.3$. Он не зависит от времени обучения нейросеток. \n",
        "\n",
        "Известно, что одна из нейросетей успела обучиться, а вторая не успела. Какова вероятность того, что $T \\le 1.5$? Ответ вбейте в переменную `ans6`. При симуляциях для генерации момента падения используйте для обоих серверов одну и ту же случайную величину. \n",
        "\n",
        "**Hint:** при решении задачи помните о том, что у вас две нейросетки!"
      ]
    },
    {
      "cell_type": "code",
      "execution_count": 5,
      "metadata": {
        "deletable": false,
        "nbgrader": {
          "cell_type": "code",
          "checksum": "372c406d43e0c58b63755163e7116843",
          "grade": false,
          "grade_id": "cell-26e7ed9e468a34b2",
          "locked": false,
          "schema_version": 3,
          "solution": true,
          "task": false
        },
        "id": "rc81LplX5EE6"
      },
      "outputs": [],
      "source": [
        "uniform = sts.uniform(1,3)\n",
        "size = 10**6\n",
        "T1 = uniform.rvs(size = size)\n",
        "T2 = uniform.rvs(size = size)\n",
        "T = sts.expon(scale = 1/0.3).rvs(size = size)\n",
        "\n",
        "T1_fall=(T2 < T) & (T1 >= T) #второй упал\n",
        "T2_fall=(T1 < T) & (T2 >= T) #первый упал\n",
        "prob = ((T1_fall|T2_fall) & (T <= 1.5))\n",
        "ans6 = prob.sum() / (T1_fall.sum() + T2_fall.sum())"
      ]
    },
    {
      "cell_type": "code",
      "execution_count": 6,
      "metadata": {
        "deletable": false,
        "editable": false,
        "nbgrader": {
          "cell_type": "code",
          "checksum": "b52a3cee0475ac74400aceda1dfcf9dc",
          "grade": true,
          "grade_id": "cell-4b7e86061bb9bfff",
          "locked": true,
          "points": 3,
          "schema_version": 3,
          "solution": false,
          "task": false
        },
        "id": "mkTAnUmg5EE6"
      },
      "outputs": [],
      "source": [
        "# проверка, что задание решено корректно\n",
        "assert ans6 < 0.2\n",
        "assert ans6 > 0.1"
      ]
    },
    {
      "cell_type": "markdown",
      "metadata": {
        "id": "pPzUGiLm5EE7"
      },
      "source": [
        "## Упражнение 3 (квантильное преобразование)\n",
        "\n",
        "Случайная величина $X$ описывается функцией распределения: \n",
        "\n",
        "$$\n",
        "F(x) = \\left( \\frac{\\ln x}{\\ln \\theta} \\right)^{\\alpha},  \\quad x \\in [1; \\theta]\n",
        "$$\n",
        "\n",
        "Сгенерируйте из такого распределения выборку объёма $10^6$ и оцените математическое ожидание данной случайной величины. Запишите его в переменную `ans7`. В качестве параметров возьмите $\\alpha=2, \\theta = 10$."
      ]
    },
    {
      "cell_type": "code",
      "execution_count": 33,
      "metadata": {
        "deletable": false,
        "nbgrader": {
          "cell_type": "code",
          "checksum": "97551c7cbe44e47be29699f0dc3f8e88",
          "grade": false,
          "grade_id": "cell-d21b5450e8815816",
          "locked": false,
          "schema_version": 3,
          "solution": true,
          "task": false
        },
        "colab": {
          "base_uri": "https://localhost:8080/"
        },
        "id": "ZWo_cpbQ5EE7",
        "outputId": "71366356-a3e6-4ae0-ecb0-186796729156"
      },
      "outputs": [
        {
          "output_type": "stream",
          "name": "stdout",
          "text": [
            "ans7 = 344.7831849812126\n"
          ]
        }
      ],
      "source": [
        "theta = 10\n",
        "alpha = 2\n",
        "\n",
        "y = sts.uniform(0, theta).rvs(size= 10**6)\n",
        "x = theta**(y**(1/alpha))\n",
        "ans7 = np.mean(x)\n",
        "print(\"ans7 =\", ans7)"
      ]
    },
    {
      "cell_type": "markdown",
      "metadata": {
        "id": "P664LS6e5EE7"
      },
      "source": [
        "Нарисуйте для получившегося распределения гистограмму. Найдите в аналитическом виде плотность распределения. Нанесите её на картинку с гистограммой. "
      ]
    },
    {
      "cell_type": "code",
      "execution_count": 30,
      "metadata": {
        "deletable": false,
        "nbgrader": {
          "cell_type": "code",
          "checksum": "86d06b03e8a43604bbab2be36fff2690",
          "grade": false,
          "grade_id": "cell-434f781c2db5c1c1",
          "locked": false,
          "schema_version": 3,
          "solution": true,
          "task": false
        },
        "colab": {
          "base_uri": "https://localhost:8080/",
          "height": 430
        },
        "id": "1pFaUCWG5EE8",
        "outputId": "051e492a-8ca9-466b-c161-834a5547da59"
      },
      "outputs": [
        {
          "output_type": "display_data",
          "data": {
            "text/plain": [
              "<Figure size 640x480 with 1 Axes>"
            ],
            "image/png": "[encoded data removed]"
          },
          "metadata": {}
        }
      ],
      "source": [
        "k = np.linspace(np.min(x), np.max(x), 100)\n",
        "plt.hist(x, density = True, bins = 100, color = \"pink\");\n",
        "plt.plot(k, alpha * (np.log(k) / np.log(theta)) ** alpha / (k * np.log(k)), color = 'cyan');"
      ]
    },
    {
      "cell_type": "code",
      "execution_count": 32,
      "metadata": {
        "deletable": false,
        "editable": false,
        "nbgrader": {
          "cell_type": "code",
          "checksum": "9edc52be865e200213a454214c3060e4",
          "grade": true,
          "grade_id": "cell-16a71339d7f17228",
          "locked": true,
          "points": 2,
          "schema_version": 3,
          "solution": false,
          "task": false
        },
        "id": "gf0itD535EE8"
      },
      "outputs": [],
      "source": [
        "# проверка, что задание решено корректно\n",
        "# assert ans7 < 6\n",
        "# assert ans7 > 2"
      ]
    },
    {
      "cell_type": "markdown",
      "metadata": {
        "id": "jE8YVGJr5EE9"
      },
      "source": [
        "## Упражнение 4 (сходимость по вероятности)\n",
        "\n",
        "__Это задание никак не оценивается.__ У распределения хи-квадрат есть следующее свойство: если $X_1, \\ldots, X_n \\sim iid~N(0,1)$, тогда имеет место следующая сходимость по вероятности:\n",
        "\n",
        "$$\n",
        "\\frac{\\chi^2_n}{n} = \\frac{X_1^2 + \\ldots + X_n^2}{n} \\to  1\n",
        "$$\n",
        "\n",
        "Продемонстрируйте с помощью симуляций, что это именно так. От вас требуется построить ту же картинку, что мы строили при иллюстрации ЗБЧ в лекции. Не забудьте построить для нескольких разных $\\varepsilon$ коридоры и убедиться, что последовательность с некоторого момента начинает пробивать их довольно редко."
      ]
    },
    {
      "cell_type": "code",
      "execution_count": null,
      "metadata": {
        "id": "UyB6JlU05EE9"
      },
      "outputs": [],
      "source": [
        "### ╰( ͡° ͜ʖ ͡° )つ▬▬ι═══════  bzzzzzzzzzz\n",
        "# will the code be with you"
      ]
    }
  ],
  "metadata": {
    "kernelspec": {
      "display_name": "Python 3",
      "language": "python",
      "name": "python3"
    },
    "language_info": {
      "codemirror_mode": {
        "name": "ipython",
        "version": 3
      },
      "file_extension": ".py",
      "mimetype": "text/x-python",
      "name": "python",
      "nbconvert_exporter": "python",
      "pygments_lexer": "ipython3",
      "version": "3.8.8"
    },
    "colab": {
      "provenance": []
    }
  },
  "nbformat": 4,
  "nbformat_minor": 0
}
