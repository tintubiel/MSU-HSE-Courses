{
  "cells": [
    {
      "cell_type": "markdown",
      "metadata": {
        "id": "8lHP22sQftqy"
      },
      "source": [
        "<center>\n",
        "</center>\n",
        "\n",
        "\n",
        "#  Обсчёт АБ-теста"
      ]
    },
    {
      "cell_type": "code",
      "execution_count": 2,
      "metadata": {
        "id": "_ZTtHiqrftqz"
      },
      "outputs": [],
      "source": [
        "import numpy as np\n",
        "import pandas as pd\n",
        "import seaborn as sns\n",
        "import scipy.stats as sts\n",
        "import matplotlib.pyplot as plt\n",
        "from statsmodels.sandbox.stats.multicomp import multipletests \n",
        "\n",
        "plt.style.use('ggplot')\n",
        "%matplotlib inline\n",
        "\n",
        "COLLAB = False"
      ]
    },
    {
      "cell_type": "markdown",
      "metadata": {
        "id": "tQ16zrzLftq0"
      },
      "source": [
        "Давайте представим, что у нас с вами есть сервис, который работает по подписке (онлайн игра, стриминговый сервис, например). Один из важных факторов успешности бизнеса в таком случае - это удержание пользователей, нам надо придумать, как заинтересовать пользователя в продлении подпсики. Возникла идея дать скидку в $1\\%$ на продление подписки. Чтобы оценить эффект от этой идеи мы как-то разбили пользователей, которые купили подписку за период теста, на две группы и одним дали скидку на продление, а другим нет."
      ]
    },
    {
      "cell_type": "code",
      "source": [
        "if COLLAB:\n",
        "    from google.colab import drive\n",
        "    drive.mount('/content/gdrive')\n",
        "    df1 = pd.read_csv('/content/gdrive/MyDrive/DA/6/subscribers_1.csv', sep=',')\n",
        "else:\n",
        "    df1 = pd.read_csv('subscribers_1.csv', sep=',')\n",
        "print(df1.shape)\n",
        "df1.head()"
      ],
      "metadata": {
        "colab": {
          "base_uri": "https://localhost:8080/",
          "height": 242
        },
        "id": "UVTv_CASf8Pp",
        "outputId": "19cce9db-816f-4abf-91e6-247a7a0a6efe"
      },
      "execution_count": 3,
      "outputs": [
        {
          "output_type": "stream",
          "name": "stdout",
          "text": [
            "Mounted at /content/gdrive\n",
            "(25935, 10)\n"
          ]
        },
        {
          "output_type": "execute_result",
          "data": {
            "text/plain": [
              "   user_id  service_id  product_name product_duration  rn   sale_date  \\\n",
              "0    47233         929  subscription          1_month   1  2018-12-21   \n",
              "1    50195         929  subscription          1_month   1  2019-03-17   \n",
              "2    62594         929  subscription          1_month   1  2019-02-08   \n",
              "3    68918         929  subscription          1_month   2  2019-03-19   \n",
              "4    91900         929  subscription          3_month   1  2018-10-29   \n",
              "\n",
              "   last_duration_days  new_duration_days  is_same  group  \n",
              "0                30.0                 30        1      0  \n",
              "1                30.0                 30        1      1  \n",
              "2                30.0                 30        1      0  \n",
              "3                30.0                 30        1      1  \n",
              "4                30.0                 90        0      0  "
            ],
            "text/html": [
              "\n",
              "  <div id=\"df-59fe363d-f359-48b3-8043-3d70c919d151\">\n",
              "    <div class=\"colab-df-container\">\n",
              "      <div>\n",
              "<style scoped>\n",
              "    .dataframe tbody tr th:only-of-type {\n",
              "        vertical-align: middle;\n",
              "    }\n",
              "\n",
              "    .dataframe tbody tr th {\n",
              "        vertical-align: top;\n",
              "    }\n",
              "\n",
              "    .dataframe thead th {\n",
              "        text-align: right;\n",
              "    }\n",
              "</style>\n",
              "<table border=\"1\" class=\"dataframe\">\n",
              "  <thead>\n",
              "    <tr style=\"text-align: right;\">\n",
              "      <th></th>\n",
              "      <th>user_id</th>\n",
              "      <th>service_id</th>\n",
              "      <th>product_name</th>\n",
              "      <th>product_duration</th>\n",
              "      <th>rn</th>\n",
              "      <th>sale_date</th>\n",
              "      <th>last_duration_days</th>\n",
              "      <th>new_duration_days</th>\n",
              "      <th>is_same</th>\n",
              "      <th>group</th>\n",
              "    </tr>\n",
              "  </thead>\n",
              "  <tbody>\n",
              "    <tr>\n",
              "      <th>0</th>\n",
              "      <td>47233</td>\n",
              "      <td>929</td>\n",
              "      <td>subscription</td>\n",
              "      <td>1_month</td>\n",
              "      <td>1</td>\n",
              "      <td>2018-12-21</td>\n",
              "      <td>30.0</td>\n",
              "      <td>30</td>\n",
              "      <td>1</td>\n",
              "      <td>0</td>\n",
              "    </tr>\n",
              "    <tr>\n",
              "      <th>1</th>\n",
              "      <td>50195</td>\n",
              "      <td>929</td>\n",
              "      <td>subscription</td>\n",
              "      <td>1_month</td>\n",
              "      <td>1</td>\n",
              "      <td>2019-03-17</td>\n",
              "      <td>30.0</td>\n",
              "      <td>30</td>\n",
              "      <td>1</td>\n",
              "      <td>1</td>\n",
              "    </tr>\n",
              "    <tr>\n",
              "      <th>2</th>\n",
              "      <td>62594</td>\n",
              "      <td>929</td>\n",
              "      <td>subscription</td>\n",
              "      <td>1_month</td>\n",
              "      <td>1</td>\n",
              "      <td>2019-02-08</td>\n",
              "      <td>30.0</td>\n",
              "      <td>30</td>\n",
              "      <td>1</td>\n",
              "      <td>0</td>\n",
              "    </tr>\n",
              "    <tr>\n",
              "      <th>3</th>\n",
              "      <td>68918</td>\n",
              "      <td>929</td>\n",
              "      <td>subscription</td>\n",
              "      <td>1_month</td>\n",
              "      <td>2</td>\n",
              "      <td>2019-03-19</td>\n",
              "      <td>30.0</td>\n",
              "      <td>30</td>\n",
              "      <td>1</td>\n",
              "      <td>1</td>\n",
              "    </tr>\n",
              "    <tr>\n",
              "      <th>4</th>\n",
              "      <td>91900</td>\n",
              "      <td>929</td>\n",
              "      <td>subscription</td>\n",
              "      <td>3_month</td>\n",
              "      <td>1</td>\n",
              "      <td>2018-10-29</td>\n",
              "      <td>30.0</td>\n",
              "      <td>90</td>\n",
              "      <td>0</td>\n",
              "      <td>0</td>\n",
              "    </tr>\n",
              "  </tbody>\n",
              "</table>\n",
              "</div>\n",
              "      <button class=\"colab-df-convert\" onclick=\"convertToInteractive('df-59fe363d-f359-48b3-8043-3d70c919d151')\"\n",
              "              title=\"Convert this dataframe to an interactive table.\"\n",
              "              style=\"display:none;\">\n",
              "        \n",
              "  <svg xmlns=\"http://www.w3.org/2000/svg\" height=\"24px\"viewBox=\"0 0 24 24\"\n",
              "       width=\"24px\">\n",
              "    <path d=\"M0 0h24v24H0V0z\" fill=\"none\"/>\n",
              "    <path d=\"M18.56 5.44l.94 2.06.94-2.06 2.06-.94-2.06-.94-.94-2.06-.94 2.06-2.06.94zm-11 1L8.5 8.5l.94-2.06 2.06-.94-2.06-.94L8.5 2.5l-.94 2.06-2.06.94zm10 10l.94 2.06.94-2.06 2.06-.94-2.06-.94-.94-2.06-.94 2.06-2.06.94z\"/><path d=\"M17.41 7.96l-1.37-1.37c-.4-.4-.92-.59-1.43-.59-.52 0-1.04.2-1.43.59L10.3 9.45l-7.72 7.72c-.78.78-.78 2.05 0 2.83L4 21.41c.39.39.9.59 1.41.59.51 0 1.02-.2 1.41-.59l7.78-7.78 2.81-2.81c.8-.78.8-2.07 0-2.86zM5.41 20L4 18.59l7.72-7.72 1.47 1.35L5.41 20z\"/>\n",
              "  </svg>\n",
              "      </button>\n",
              "      \n",
              "  <style>\n",
              "    .colab-df-container {\n",
              "      display:flex;\n",
              "      flex-wrap:wrap;\n",
              "      gap: 12px;\n",
              "    }\n",
              "\n",
              "    .colab-df-convert {\n",
              "      background-color: #E8F0FE;\n",
              "      border: none;\n",
              "      border-radius: 50%;\n",
              "      cursor: pointer;\n",
              "      display: none;\n",
              "      fill: #1967D2;\n",
              "      height: 32px;\n",
              "      padding: 0 0 0 0;\n",
              "      width: 32px;\n",
              "    }\n",
              "\n",
              "    .colab-df-convert:hover {\n",
              "      background-color: #E2EBFA;\n",
              "      box-shadow: 0px 1px 2px rgba(60, 64, 67, 0.3), 0px 1px 3px 1px rgba(60, 64, 67, 0.15);\n",
              "      fill: #174EA6;\n",
              "    }\n",
              "\n",
              "    [theme=dark] .colab-df-convert {\n",
              "      background-color: #3B4455;\n",
              "      fill: #D2E3FC;\n",
              "    }\n",
              "\n",
              "    [theme=dark] .colab-df-convert:hover {\n",
              "      background-color: #434B5C;\n",
              "      box-shadow: 0px 1px 3px 1px rgba(0, 0, 0, 0.15);\n",
              "      filter: drop-shadow(0px 1px 2px rgba(0, 0, 0, 0.3));\n",
              "      fill: #FFFFFF;\n",
              "    }\n",
              "  </style>\n",
              "\n",
              "      <script>\n",
              "        const buttonEl =\n",
              "          document.querySelector('#df-59fe363d-f359-48b3-8043-3d70c919d151 button.colab-df-convert');\n",
              "        buttonEl.style.display =\n",
              "          google.colab.kernel.accessAllowed ? 'block' : 'none';\n",
              "\n",
              "        async function convertToInteractive(key) {\n",
              "          const element = document.querySelector('#df-59fe363d-f359-48b3-8043-3d70c919d151');\n",
              "          const dataTable =\n",
              "            await google.colab.kernel.invokeFunction('convertToInteractive',\n",
              "                                                     [key], {});\n",
              "          if (!dataTable) return;\n",
              "\n",
              "          const docLinkHtml = 'Like what you see? Visit the ' +\n",
              "            '<a target=\"_blank\" href=https://colab.research.google.com/notebooks/data_table.ipynb>data table notebook</a>'\n",
              "            + ' to learn more about interactive tables.';\n",
              "          element.innerHTML = '';\n",
              "          dataTable['output_type'] = 'display_data';\n",
              "          await google.colab.output.renderOutput(dataTable, element);\n",
              "          const docLink = document.createElement('div');\n",
              "          docLink.innerHTML = docLinkHtml;\n",
              "          element.appendChild(docLink);\n",
              "        }\n",
              "      </script>\n",
              "    </div>\n",
              "  </div>\n",
              "  "
            ]
          },
          "metadata": {},
          "execution_count": 3
        }
      ]
    },
    {
      "cell_type": "markdown",
      "metadata": {
        "id": "V4lURgbSftq1"
      },
      "source": [
        "* `rn` - порядковый номер покупки подписки за период.  \n",
        "* `last_duration_days` - длительность предыдущей подписки.\n",
        "* `new_duration_days` - длительность текущей подписки.\n",
        "* `is_same` - менялась ли длительность подписки.\n",
        "* `group` - группа теста, в которую попал пользователь. 1 - тест, 0 - контроль."
      ]
    },
    {
      "cell_type": "markdown",
      "metadata": {
        "id": "nziKPbgtftq1"
      },
      "source": [
        "__а)__ Обсчитайте результаты АБ-теста. Найдите разницу между старой и новой длительностями подписки. Постройте для этой разницы гистограмму. Подумайте и дайте себе ответ на следующие вопросы:\n",
        "\n",
        "- Можно ли воспользоваться предпосылкой о нормальности распределения приростов и проверить гипотезу тестом Уэлча? \n",
        "- Переменная, для которой мы проводим тест имеет дискретное распределение. Можно ли здесь использовать тест Манна-Уитни? Даст ли это коректный результат? \n",
        "- Будет ли корректно использовать для проверки гипотезы ЦПТ и тест о равенстве средних, основанный на ней? "
      ]
    },
    {
      "cell_type": "markdown",
      "source": [
        "**ОТВЕТ:** \n",
        "\n",
        "1) Распределение дискретное, совсем не походит на нормальное. Тест Уэлча неприменим.\n",
        "\n",
        "2) Выборки являются зависимыми, критерий Манна-Уитни не даст корректный результат\n",
        "\n",
        "3) ЦПТ работает для слабозависимых величин, в данном случае будет сильная зависимсть."
      ],
      "metadata": {
        "id": "aCDdJR773Fci"
      }
    },
    {
      "cell_type": "code",
      "execution_count": 4,
      "metadata": {
        "deletable": false,
        "nbgrader": {
          "cell_type": "code",
          "checksum": "0fe5480859f0bca14a42243b85755151",
          "grade": false,
          "grade_id": "cell-bdd9e5329b3db1a1",
          "locked": false,
          "schema_version": 3,
          "solution": true,
          "task": false
        },
        "colab": {
          "base_uri": "https://localhost:8080/",
          "height": 454
        },
        "id": "jtlGm52Jftq2",
        "outputId": "59640b26-6cd4-4d30-dcaf-0f47ad7a00a1"
      },
      "outputs": [
        {
          "output_type": "display_data",
          "data": {
            "text/plain": [
              "<Figure size 640x480 with 1 Axes>"
            ],
            "image/png": "[encoded data removed]"
          },
          "metadata": {}
        }
      ],
      "source": [
        "df1['dur_diff'] = df1['new_duration_days'] - df1['last_duration_days']\n",
        "sns.histplot(df1['dur_diff'], bins=10, alpha=0.3,  color = \"blue\");"
      ]
    },
    {
      "cell_type": "markdown",
      "metadata": {
        "id": "7BirlCV9ftq2"
      },
      "source": [
        "Правда ли, что средняя длительность подписки изменилась на $1\\%$ уровне значимости? Для ответа на этот вопрос воспользуйтесь асимптотическим тестом на равенство средних против двусторонней альтернативы. Сохраните в переменную `z_obs` получившееся значение статистики, а в `pvalue` получившееся $p$-значение."
      ]
    },
    {
      "cell_type": "markdown",
      "source": [
        "$$\n",
        "\\begin{aligned}\n",
        "&H_0: \\hspace{2mm} \\mu_1 = \\mu_2 \\hspace{2mm} \\text{Средняя длительность подписки не изменилась} \\\\\n",
        "&H_1: \\hspace{2mm} \\mu_1 \\ne \\mu_2  \\hspace{2mm} \\text{Есть изменения}\n",
        "\\end{aligned}\n",
        "$$"
      ],
      "metadata": {
        "id": "XZjVF9adumGV"
      }
    },
    {
      "cell_type": "code",
      "execution_count": 7,
      "metadata": {
        "deletable": false,
        "nbgrader": {
          "cell_type": "code",
          "checksum": "abff103ab41763fc052dca962943d349",
          "grade": false,
          "grade_id": "cell-62ddf31733694201",
          "locked": false,
          "schema_version": 3,
          "solution": true,
          "task": false
        },
        "id": "hVvIbNEFftq2",
        "outputId": "760fd65b-8aa6-4655-b5b8-c3bc6150bfae",
        "colab": {
          "base_uri": "https://localhost:8080/"
        }
      },
      "outputs": [
        {
          "output_type": "stream",
          "name": "stdout",
          "text": [
            "z_obs = 0.7476223219884844\n",
            "pvalue = 0.4546879966908093\n"
          ]
        }
      ],
      "source": [
        "x = df1[df1['group']==0]['dur_diff']\n",
        "y = df1[df1['group']==1]['dur_diff']\n",
        "nx, ny = x.size, y.size\n",
        "\n",
        "diff = x.mean() - y.mean()\n",
        "diff_std = np.sqrt(x.var(ddof = 1) / nx + y.var(ddof = 1)/ny)\n",
        "\n",
        "z_obs = diff/ diff_std\n",
        "pvalue = 2 * (1 - sts.norm.cdf(np.abs(z_obs)))\n",
        "\n",
        "print(\"z_obs =\", z_obs)\n",
        "print(\"pvalue =\", pvalue)"
      ]
    },
    {
      "cell_type": "markdown",
      "source": [
        "___________________\n",
        "**ОТВЕТ:** На основании полученных данных нет оснований отвергать нулевую гипотезу \n",
        "_________________"
      ],
      "metadata": {
        "id": "ya_Kl6SltAIa"
      }
    },
    {
      "cell_type": "code",
      "execution_count": null,
      "metadata": {
        "deletable": false,
        "editable": false,
        "nbgrader": {
          "cell_type": "code",
          "checksum": "772e95b8b784d307dcdaaf8f4a3f07bf",
          "grade": true,
          "grade_id": "cell-15ae7f9f303d1b04",
          "locked": true,
          "points": 1,
          "schema_version": 3,
          "solution": false,
          "task": false
        },
        "id": "NJgoRzwZftq3"
      },
      "outputs": [],
      "source": [
        "# проверка того, что задание решено верно\n",
        "assert np.abs(z_obs) < 1\n",
        "assert np.abs(z_obs) > 0.7\n",
        "\n",
        "# подобные тесты скрыты от вас \n"
      ]
    },
    {
      "cell_type": "markdown",
      "metadata": {
        "id": "wambi4Pdftq3"
      },
      "source": [
        "__б)__ А теперь представим, что мы продвинутые АБ-тестеры и решили провести ААБ тест (2 контрольные группы и одну тестовую)."
      ]
    },
    {
      "cell_type": "code",
      "execution_count": 9,
      "metadata": {
        "id": "_YBC2m7tftq3",
        "outputId": "3df5fdb2-2133-46c2-f70a-d349480b5982",
        "colab": {
          "base_uri": "https://localhost:8080/",
          "height": 242
        }
      },
      "outputs": [
        {
          "output_type": "stream",
          "name": "stdout",
          "text": [
            "Drive already mounted at /content/gdrive; to attempt to forcibly remount, call drive.mount(\"/content/gdrive\", force_remount=True).\n",
            "(25935, 10)\n"
          ]
        },
        {
          "output_type": "execute_result",
          "data": {
            "text/plain": [
              "   user_id  service_id  product_name product_duration  rn   sale_date  \\\n",
              "0    47233         929  subscription          1_month   1  2018-12-21   \n",
              "1    50195         929  subscription          1_month   1  2019-03-17   \n",
              "2    62594         929  subscription          1_month   1  2019-02-08   \n",
              "3    68918         929  subscription          1_month   2  2019-03-19   \n",
              "4    91900         929  subscription          3_month   1  2018-10-29   \n",
              "\n",
              "   last_duration_days  new_duration_days  is_same  new_group  \n",
              "0                30.0                 30        1          0  \n",
              "1                30.0                 30        1          2  \n",
              "2                30.0                 30        1          0  \n",
              "3                30.0                 30        1          2  \n",
              "4                30.0                 90        0          0  "
            ],
            "text/html": [
              "\n",
              "  <div id=\"df-b82a66ef-d95b-49ca-869d-72a25cf8ab4e\">\n",
              "    <div class=\"colab-df-container\">\n",
              "      <div>\n",
              "<style scoped>\n",
              "    .dataframe tbody tr th:only-of-type {\n",
              "        vertical-align: middle;\n",
              "    }\n",
              "\n",
              "    .dataframe tbody tr th {\n",
              "        vertical-align: top;\n",
              "    }\n",
              "\n",
              "    .dataframe thead th {\n",
              "        text-align: right;\n",
              "    }\n",
              "</style>\n",
              "<table border=\"1\" class=\"dataframe\">\n",
              "  <thead>\n",
              "    <tr style=\"text-align: right;\">\n",
              "      <th></th>\n",
              "      <th>user_id</th>\n",
              "      <th>service_id</th>\n",
              "      <th>product_name</th>\n",
              "      <th>product_duration</th>\n",
              "      <th>rn</th>\n",
              "      <th>sale_date</th>\n",
              "      <th>last_duration_days</th>\n",
              "      <th>new_duration_days</th>\n",
              "      <th>is_same</th>\n",
              "      <th>new_group</th>\n",
              "    </tr>\n",
              "  </thead>\n",
              "  <tbody>\n",
              "    <tr>\n",
              "      <th>0</th>\n",
              "      <td>47233</td>\n",
              "      <td>929</td>\n",
              "      <td>subscription</td>\n",
              "      <td>1_month</td>\n",
              "      <td>1</td>\n",
              "      <td>2018-12-21</td>\n",
              "      <td>30.0</td>\n",
              "      <td>30</td>\n",
              "      <td>1</td>\n",
              "      <td>0</td>\n",
              "    </tr>\n",
              "    <tr>\n",
              "      <th>1</th>\n",
              "      <td>50195</td>\n",
              "      <td>929</td>\n",
              "      <td>subscription</td>\n",
              "      <td>1_month</td>\n",
              "      <td>1</td>\n",
              "      <td>2019-03-17</td>\n",
              "      <td>30.0</td>\n",
              "      <td>30</td>\n",
              "      <td>1</td>\n",
              "      <td>2</td>\n",
              "    </tr>\n",
              "    <tr>\n",
              "      <th>2</th>\n",
              "      <td>62594</td>\n",
              "      <td>929</td>\n",
              "      <td>subscription</td>\n",
              "      <td>1_month</td>\n",
              "      <td>1</td>\n",
              "      <td>2019-02-08</td>\n",
              "      <td>30.0</td>\n",
              "      <td>30</td>\n",
              "      <td>1</td>\n",
              "      <td>0</td>\n",
              "    </tr>\n",
              "    <tr>\n",
              "      <th>3</th>\n",
              "      <td>68918</td>\n",
              "      <td>929</td>\n",
              "      <td>subscription</td>\n",
              "      <td>1_month</td>\n",
              "      <td>2</td>\n",
              "      <td>2019-03-19</td>\n",
              "      <td>30.0</td>\n",
              "      <td>30</td>\n",
              "      <td>1</td>\n",
              "      <td>2</td>\n",
              "    </tr>\n",
              "    <tr>\n",
              "      <th>4</th>\n",
              "      <td>91900</td>\n",
              "      <td>929</td>\n",
              "      <td>subscription</td>\n",
              "      <td>3_month</td>\n",
              "      <td>1</td>\n",
              "      <td>2018-10-29</td>\n",
              "      <td>30.0</td>\n",
              "      <td>90</td>\n",
              "      <td>0</td>\n",
              "      <td>0</td>\n",
              "    </tr>\n",
              "  </tbody>\n",
              "</table>\n",
              "</div>\n",
              "      <button class=\"colab-df-convert\" onclick=\"convertToInteractive('df-b82a66ef-d95b-49ca-869d-72a25cf8ab4e')\"\n",
              "              title=\"Convert this dataframe to an interactive table.\"\n",
              "              style=\"display:none;\">\n",
              "        \n",
              "  <svg xmlns=\"http://www.w3.org/2000/svg\" height=\"24px\"viewBox=\"0 0 24 24\"\n",
              "       width=\"24px\">\n",
              "    <path d=\"M0 0h24v24H0V0z\" fill=\"none\"/>\n",
              "    <path d=\"M18.56 5.44l.94 2.06.94-2.06 2.06-.94-2.06-.94-.94-2.06-.94 2.06-2.06.94zm-11 1L8.5 8.5l.94-2.06 2.06-.94-2.06-.94L8.5 2.5l-.94 2.06-2.06.94zm10 10l.94 2.06.94-2.06 2.06-.94-2.06-.94-.94-2.06-.94 2.06-2.06.94z\"/><path d=\"M17.41 7.96l-1.37-1.37c-.4-.4-.92-.59-1.43-.59-.52 0-1.04.2-1.43.59L10.3 9.45l-7.72 7.72c-.78.78-.78 2.05 0 2.83L4 21.41c.39.39.9.59 1.41.59.51 0 1.02-.2 1.41-.59l7.78-7.78 2.81-2.81c.8-.78.8-2.07 0-2.86zM5.41 20L4 18.59l7.72-7.72 1.47 1.35L5.41 20z\"/>\n",
              "  </svg>\n",
              "      </button>\n",
              "      \n",
              "  <style>\n",
              "    .colab-df-container {\n",
              "      display:flex;\n",
              "      flex-wrap:wrap;\n",
              "      gap: 12px;\n",
              "    }\n",
              "\n",
              "    .colab-df-convert {\n",
              "      background-color: #E8F0FE;\n",
              "      border: none;\n",
              "      border-radius: 50%;\n",
              "      cursor: pointer;\n",
              "      display: none;\n",
              "      fill: #1967D2;\n",
              "      height: 32px;\n",
              "      padding: 0 0 0 0;\n",
              "      width: 32px;\n",
              "    }\n",
              "\n",
              "    .colab-df-convert:hover {\n",
              "      background-color: #E2EBFA;\n",
              "      box-shadow: 0px 1px 2px rgba(60, 64, 67, 0.3), 0px 1px 3px 1px rgba(60, 64, 67, 0.15);\n",
              "      fill: #174EA6;\n",
              "    }\n",
              "\n",
              "    [theme=dark] .colab-df-convert {\n",
              "      background-color: #3B4455;\n",
              "      fill: #D2E3FC;\n",
              "    }\n",
              "\n",
              "    [theme=dark] .colab-df-convert:hover {\n",
              "      background-color: #434B5C;\n",
              "      box-shadow: 0px 1px 3px 1px rgba(0, 0, 0, 0.15);\n",
              "      filter: drop-shadow(0px 1px 2px rgba(0, 0, 0, 0.3));\n",
              "      fill: #FFFFFF;\n",
              "    }\n",
              "  </style>\n",
              "\n",
              "      <script>\n",
              "        const buttonEl =\n",
              "          document.querySelector('#df-b82a66ef-d95b-49ca-869d-72a25cf8ab4e button.colab-df-convert');\n",
              "        buttonEl.style.display =\n",
              "          google.colab.kernel.accessAllowed ? 'block' : 'none';\n",
              "\n",
              "        async function convertToInteractive(key) {\n",
              "          const element = document.querySelector('#df-b82a66ef-d95b-49ca-869d-72a25cf8ab4e');\n",
              "          const dataTable =\n",
              "            await google.colab.kernel.invokeFunction('convertToInteractive',\n",
              "                                                     [key], {});\n",
              "          if (!dataTable) return;\n",
              "\n",
              "          const docLinkHtml = 'Like what you see? Visit the ' +\n",
              "            '<a target=\"_blank\" href=https://colab.research.google.com/notebooks/data_table.ipynb>data table notebook</a>'\n",
              "            + ' to learn more about interactive tables.';\n",
              "          element.innerHTML = '';\n",
              "          dataTable['output_type'] = 'display_data';\n",
              "          await google.colab.output.renderOutput(dataTable, element);\n",
              "          const docLink = document.createElement('div');\n",
              "          docLink.innerHTML = docLinkHtml;\n",
              "          element.appendChild(docLink);\n",
              "        }\n",
              "      </script>\n",
              "    </div>\n",
              "  </div>\n",
              "  "
            ]
          },
          "metadata": {},
          "execution_count": 9
        }
      ],
      "source": [
        "if COLLAB:\n",
        "    from google.colab import drive\n",
        "    drive.mount('/content/gdrive')\n",
        "    df2 = pd.read_csv('/content/gdrive/MyDrive/DA/6/subscribers_2.csv', sep=',')\n",
        "else:\n",
        "    df2 = pd.read_csv('subscribers_2.csv', sep=',')\n",
        "print(df2.shape)\n",
        "df2.head( )"
      ]
    },
    {
      "cell_type": "markdown",
      "metadata": {
        "id": "rrZmbyoVftq3"
      },
      "source": [
        "* `new_group` - группа теста, в которую попал пользователь. $2$ - тест, $0,1$ - контроль."
      ]
    },
    {
      "cell_type": "markdown",
      "metadata": {
        "id": "mK5JV_k5ftq4"
      },
      "source": [
        "Проверьте гипотезу о том, что в каждой из контрольных групп среднее совпадает с тестовой на уровне значимости $1\\%$. Получившиеся $p$-значения запишите в переменные `pval_1` и `pval_2`. Сделайте корректировку методом Холма. Запишите количество отвергнутых гипотез в переменную `hyp_cnt`. "
      ]
    },
    {
      "cell_type": "code",
      "execution_count": 10,
      "metadata": {
        "deletable": false,
        "nbgrader": {
          "cell_type": "code",
          "checksum": "7dbeb0e4bd70bbf5ca2a786c94e0eff3",
          "grade": false,
          "grade_id": "cell-e72008defcd8a206",
          "locked": false,
          "schema_version": 3,
          "solution": true,
          "task": false
        },
        "id": "e3_RuwPQftq4",
        "outputId": "bb753507-f8cd-4985-84f4-4efcd1b92dc4",
        "colab": {
          "base_uri": "https://localhost:8080/"
        }
      },
      "outputs": [
        {
          "output_type": "stream",
          "name": "stdout",
          "text": [
            "pval_1 = 0.4466393294905775\n",
            "pval_2 = 0.33223046480891094\n",
            "hyp_cnt = 0\n"
          ]
        }
      ],
      "source": [
        "df2['dur_diff'] = df2['last_duration_days'] - df2['new_duration_days']\n",
        "\n",
        "x1 = df2[df2['new_group'] == 0]['dur_diff']\n",
        "x2 = df2[df2['new_group'] == 1]['dur_diff']\n",
        "y = df2[df2['new_group'] == 2]['dur_diff']\n",
        "\n",
        "pval = []\n",
        "for x in [x1, x2]:\n",
        "    nx, ny = x.size, y.size\n",
        "    diff = x.mean()- y.mean()\n",
        "    diff_std = np.sqrt(x.var(ddof=1)/ nx + y.var(ddof=1)/ ny)\n",
        "    z_obs = diff/ diff_std\n",
        "    pval.append(2 * (1 - sts.norm.cdf(np.abs(z_obs))))\n",
        "\n",
        "hyp_cnt = sum(multipletests([pval[0], pval[1]], alpha=0.01, method='holm')[0])\n",
        "\n",
        "pval_1, pval_2 = pval\n",
        "print('pval_1 =', pval_1)\n",
        "print('pval_2 =', pval_2)\n",
        "print('hyp_cnt =', hyp_cnt)"
      ]
    },
    {
      "cell_type": "code",
      "source": [
        "print(df2['dur_diff'].mean())"
      ],
      "metadata": {
        "colab": {
          "base_uri": "https://localhost:8080/"
        },
        "id": "JjhgfmHW1ybU",
        "outputId": "78efa971-19e7-443d-d263-13b5503b1e73"
      },
      "execution_count": 18,
      "outputs": [
        {
          "output_type": "stream",
          "name": "stdout",
          "text": [
            "-2.065934065934066\n"
          ]
        }
      ]
    },
    {
      "cell_type": "code",
      "execution_count": 11,
      "metadata": {
        "deletable": false,
        "editable": false,
        "nbgrader": {
          "cell_type": "code",
          "checksum": "499e2b0b4544d9defbd834ec238696df",
          "grade": true,
          "grade_id": "cell-e215872b40397664",
          "locked": true,
          "points": 1,
          "schema_version": 3,
          "solution": false,
          "task": false
        },
        "id": "LdZy5AIsftq4"
      },
      "outputs": [],
      "source": [
        "# проверка того, что задание решено верно\n",
        "assert pval_1 < 0.5\n",
        "assert pval_1 > 0.4\n",
        "assert pval_2 > 0.3\n",
        "assert pval_2 < 0.4\n",
        "\n",
        "# подобные тесты скрыты от вас "
      ]
    },
    {
      "cell_type": "markdown",
      "metadata": {
        "id": "GZWOpqM9ftq4"
      },
      "source": [
        "Какие выводы можно сделать из этого теста?  Валиден ли такой тест?  Если нет, то в чем может быть проблема? Если тут вообще смысл делать поправку Холма?"
      ]
    },
    {
      "cell_type": "markdown",
      "source": [
        "___________________\n",
        "**ОТВЕТ:** На основании полученных данных нет оснований отвергать нулевую гипотезу для обоих из контрольных групп, однако среднее значение конечной выборки из фиксированного распределения близко к математическому ожиданию этого распределения по ЗБЧ. Поправка методом Холма имеет смысл при множественной проверке гипотез, здесь мы проверяем всего две гипотезы.\n",
        "_________________"
      ],
      "metadata": {
        "id": "4-uuLKqCxCO6"
      }
    },
    {
      "cell_type": "code",
      "source": [],
      "metadata": {
        "id": "IbJztjAI3CTR"
      },
      "execution_count": null,
      "outputs": []
    }
  ],
  "metadata": {
    "kernelspec": {
      "display_name": "Python 3",
      "language": "python",
      "name": "python3"
    },
    "language_info": {
      "codemirror_mode": {
        "name": "ipython",
        "version": 3
      },
      "file_extension": ".py",
      "mimetype": "text/x-python",
      "name": "python",
      "nbconvert_exporter": "python",
      "pygments_lexer": "ipython3",
      "version": "3.8.8"
    },
    "colab": {
      "provenance": []
    }
  },
  "nbformat": 4,
  "nbformat_minor": 0
}
