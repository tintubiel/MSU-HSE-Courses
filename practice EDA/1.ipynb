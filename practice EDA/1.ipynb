{
  "cells": [
    {
      "cell_type": "markdown",
      "metadata": {
        "id": "view-in-github",
        "colab_type": "text"
      },
      "source": [
        "<a href=\"https://colab.research.google.com/github/tintubiel/MSU-HSE-Courses/blob/main/1.ipynb\" target=\"_parent\"><img src=\"https://colab.research.google.com/assets/colab-badge.svg\" alt=\"Open In Colab\"/></a>"
      ]
    },
    {
      "cell_type": "code",
      "execution_count": 1,
      "metadata": {
        "colab": {
          "base_uri": "https://localhost:8080/"
        },
        "id": "JiU-XvwyA23C",
        "outputId": "63766353-3944-4ce2-8811-7358d2575069"
      },
      "outputs": [
        {
          "output_type": "stream",
          "name": "stdout",
          "text": [
            "Mounted at /content/gdrive\n",
            "<class 'pandas.core.frame.DataFrame'>\n",
            "RangeIndex: 1203823 entries, 0 to 1203822\n",
            "Data columns (total 3 columns):\n",
            " #   Column  Non-Null Count    Dtype \n",
            "---  ------  --------------    ----- \n",
            " 0   query   1203823 non-null  object\n",
            " 1   ts      1203823 non-null  int64 \n",
            " 2   ui      1203823 non-null  object\n",
            "dtypes: int64(1), object(2)\n",
            "memory usage: 27.6+ MB\n"
          ]
        }
      ],
      "source": [
        "import pandas as pd\n",
        "%matplotlib inline\n",
        "COLLAB = True\n",
        "\n",
        "if COLLAB:\n",
        "    from google.colab import drive\n",
        "    drive.mount('/content/gdrive')\n",
        "    df = pd.read_csv(\"/content/gdrive/MyDrive/DA/1/data.tsv\", sep=\"\\t\", header=0, names = (\"query\", \"ts\", \"ui\"))\n",
        "else:\n",
        "    df = pd.read_csv(\"data.tsv\", sep=\"\\t\", header=0, names = (\"query\", \"ts\", \"ui\"))\n",
        "df.head()\n",
        "df.info()"
      ]
    },
    {
      "cell_type": "markdown",
      "metadata": {
        "id": "2Qp3w5XeA23D"
      },
      "source": [
        "В файле data.tsv лежит семпл запросов к Яндекс картинкам за несколько недель.\n",
        "\n",
        " * query - текст запроса\n",
        " * ts - дата и время\n",
        " * ui - платформа"
      ]
    },
    {
      "cell_type": "markdown",
      "metadata": {
        "id": "upiVjWVeA23D"
      },
      "source": [
        "# 1. Выведите топ10 самых частотных запросов в каждой платформе (desktop, touch). Какие отличия вы видите?"
      ]
    },
    {
      "cell_type": "code",
      "execution_count": 2,
      "metadata": {
        "colab": {
          "base_uri": "https://localhost:8080/"
        },
        "id": "9LTv96jGA23D",
        "outputId": "0be4b90c-81ef-4fbb-bd31-9d1742bc7515"
      },
      "outputs": [
        {
          "output_type": "stream",
          "name": "stdout",
          "text": [
            "календарь 2021                     2804\n",
            "таблица менделеева                 2631\n",
            "картинки                           1647\n",
            "порно                              1342\n",
            "английский алфавит                 1293\n",
            "обои на рабочий стол               1143\n",
            "Одноклассники (социальная сеть)    1116\n",
            "секс                                895\n",
            "таблица квадратов                   877\n",
            "алфавит                             874\n",
            "Name: query, dtype: int64\n",
            "______________________\n",
            "порно                      7740\n",
            "секс                       6348\n",
            "с днём рождения женщине    4903\n",
            "с днём рождения            3967\n",
            "с днём рождения мужчине    3623\n",
            "хентай                     3157\n",
            "с днем рождения            3005\n",
            "xxx                        2429\n",
            "Порно                      2330\n",
            "календарь 2021             2237\n",
            "Name: query, dtype: int64\n"
          ]
        }
      ],
      "source": [
        "print(df[df[\"ui\"]==\"desktop\"][\"query\"].value_counts().head(10))\n",
        "print(\"______________________\")\n",
        "print(df[df[\"ui\"]==\"touch\"][\"query\"].value_counts().head(10))"
      ]
    },
    {
      "cell_type": "markdown",
      "metadata": {
        "id": "M4VYgw5HA23E"
      },
      "source": [
        "Мобильные устройства преимущественно используются для поиска контента 18+ и, в целом, количество запросов с мобильных устройств больше,  в свою очередь десктоп используется чаще для поиска какой-то иной, нужной информации, но контент 18+ ищут и при помощи десктопа тоже"
      ]
    },
    {
      "cell_type": "markdown",
      "metadata": {
        "id": "5iUQ81ETA23E"
      },
      "source": [
        "# 2. Посмотрите гистограммы времени запросов, чем отличается трафик запросов в течении дня для двух платформ?\n",
        "\n",
        " * столбец 'ts' преобразовать в datetime с помощью pd.to_datetime(d_df['ts'], unit='s')\n",
        " * время перевести в часы"
      ]
    },
    {
      "cell_type": "code",
      "execution_count": 12,
      "metadata": {
        "colab": {
          "base_uri": "https://localhost:8080/",
          "height": 448
        },
        "id": "oI5ZoryqA23E",
        "outputId": "e42d3459-6785-4671-b29d-73fc73ce0849"
      },
      "outputs": [
        {
          "output_type": "execute_result",
          "data": {
            "text/plain": [
              "<Axes: >"
            ]
          },
          "metadata": {},
          "execution_count": 12
        },
        {
          "output_type": "display_data",
          "data": {
            "text/plain": [
              "<Figure size 640x480 with 1 Axes>"
            ],
            "image/png": "[encoded data removed]"
          },
          "metadata": {}
        }
      ],
      "source": [
        "df[\"ts\"] = pd.to_datetime(df['ts'], unit='s')\n",
        "df[\"hours\"] = df[\"ts\"].dt.hour\n",
        "df[df[\"ui\"]==\"desktop\"][\"hours\"].hist(bins=24, color='purple')"
      ]
    },
    {
      "cell_type": "code",
      "execution_count": 13,
      "metadata": {
        "colab": {
          "base_uri": "https://localhost:8080/",
          "height": 448
        },
        "id": "gCjczTFRA23E",
        "outputId": "bd5c9698-ef66-4fa1-831c-123faec84c61"
      },
      "outputs": [
        {
          "output_type": "execute_result",
          "data": {
            "text/plain": [
              "<Axes: >"
            ]
          },
          "metadata": {},
          "execution_count": 13
        },
        {
          "output_type": "display_data",
          "data": {
            "text/plain": [
              "<Figure size 640x480 with 1 Axes>"
            ],
            "image/png": "[encoded data removed]"
          },
          "metadata": {}
        }
      ],
      "source": [
        "df[df[\"ui\"]==\"touch\"][\"hours\"].hist(bins=24,color='cyan')"
      ]
    },
    {
      "cell_type": "markdown",
      "metadata": {
        "id": "1LYfzzIcA23E"
      },
      "source": [
        "Наиболее частые запросы с десктопов поступают в районе 12 часов, после достижения этого времени количество запросов в час снижается, тогда как пик запросов на мобильных устройствах в 7-8 часов, затем идет падение активности и медленное возрастание к 17-18 часам, где мы наблюдаем второй пик ативности."
      ]
    },
    {
      "cell_type": "markdown",
      "metadata": {
        "id": "lquwqUAtA23E"
      },
      "source": [
        "# 3. Вычислите для времени запросов по темам для каждой платформы:\n",
        " * среднее и медиану\n",
        " * СКО\n",
        " * 95 % квантиль\n",
        "\n",
        "    "
      ]
    },
    {
      "cell_type": "code",
      "execution_count": 5,
      "metadata": {
        "colab": {
          "base_uri": "https://localhost:8080/"
        },
        "id": "a7ZZkb2WA23F",
        "outputId": "be46ebe0-fed1-4035-e78c-2f263ec319c3"
      },
      "outputs": [
        {
          "output_type": "stream",
          "name": "stdout",
          "text": [
            "                         mean  median       std\n",
            "query                                          \n",
            "+18                 13.272727    15.0  4.027180\n",
            "+18 video           19.000000    19.0  4.242641\n",
            "002                  8.250000     6.0  7.088723\n",
            "02 аниме            14.411765    15.0  3.285576\n",
            "02 милый во франсе  12.428571    11.0  5.191568\n",
            "...                       ...     ...       ...\n",
            "ёжик в тумане       11.928571    10.5  6.170205\n",
            "ёжики               11.909091    13.0  5.448937\n",
            "سكس                 13.000000    15.0  8.876936\n",
            "幼女                   8.000000     8.0  7.071068\n",
            "보지                   5.333333     5.0  0.577350\n",
            "\n",
            "[23956 rows x 3 columns]\n"
          ]
        }
      ],
      "source": [
        "print(df[df[\"ui\"]==\"desktop\"].groupby('query')[\"hours\"].agg(['mean','median',\"std\"]))"
      ]
    },
    {
      "cell_type": "code",
      "execution_count": 6,
      "metadata": {
        "colab": {
          "base_uri": "https://localhost:8080/"
        },
        "id": "GwcdeWnOA23F",
        "outputId": "8cc2c234-0d46-4968-b893-4621c8cf18f1"
      },
      "outputs": [
        {
          "output_type": "stream",
          "name": "stdout",
          "text": [
            "                         mean  median       std\n",
            "query                                          \n",
            "+18                 13.764706    14.0  5.268884\n",
            "+18 video           15.166667    16.0  3.886058\n",
            "002                 14.600000    16.0  4.702583\n",
            "02 аниме            14.533333    15.0  4.199617\n",
            "02 милый во франсе  12.347826    15.0  5.936089\n",
            "...                       ...     ...       ...\n",
            "سكس                 15.142857    17.0  6.269631\n",
            "幼女                  10.428571    12.5  6.790426\n",
            "视频                  12.333333    14.0  5.935107\n",
            "보지                  10.461538    12.0  5.253814\n",
            "🍑                   13.708333    13.5  5.352603\n",
            "\n",
            "[25544 rows x 3 columns]\n"
          ]
        }
      ],
      "source": [
        "print(df[df[\"ui\"]==\"touch\"].groupby('query')[\"hours\"].agg(['mean','median',\"std\"]))"
      ]
    },
    {
      "cell_type": "code",
      "execution_count": 7,
      "metadata": {
        "colab": {
          "base_uri": "https://localhost:8080/"
        },
        "id": "rkgvrxm4A23F",
        "outputId": "72ea83e5-a12e-4c15-b430-2a1e836efe3e"
      },
      "outputs": [
        {
          "output_type": "execute_result",
          "data": {
            "text/plain": [
              "query\n",
              "+18                   16.50\n",
              "+18 video             21.70\n",
              "002                   16.65\n",
              "02 аниме              18.35\n",
              "02 милый во франсе    19.10\n",
              "                      ...  \n",
              "ёжик в тумане         20.05\n",
              "ёжики                 18.00\n",
              "سكس                   21.00\n",
              "幼女                    12.50\n",
              "보지                     5.90\n",
              "Name: hours, Length: 23956, dtype: float64"
            ]
          },
          "metadata": {},
          "execution_count": 7
        }
      ],
      "source": [
        "df[df[\"ui\"]==\"desktop\"].groupby('query')[\"hours\"].quantile(.95)"
      ]
    },
    {
      "cell_type": "code",
      "execution_count": 8,
      "metadata": {
        "colab": {
          "base_uri": "https://localhost:8080/"
        },
        "id": "a5bI7yuvA23F",
        "outputId": "16914777-5514-4c5e-d207-2723f56b9536"
      },
      "outputs": [
        {
          "output_type": "execute_result",
          "data": {
            "text/plain": [
              "query\n",
              "+18                   21.70\n",
              "+18 video             20.70\n",
              "002                   20.30\n",
              "02 аниме              19.55\n",
              "02 милый во франсе    19.00\n",
              "                      ...  \n",
              "سكس                   22.00\n",
              "幼女                    18.35\n",
              "视频                    21.60\n",
              "보지                    16.80\n",
              "🍑                     20.85\n",
              "Name: hours, Length: 25544, dtype: float64"
            ]
          },
          "metadata": {},
          "execution_count": 8
        }
      ],
      "source": [
        "df[df[\"ui\"]==\"touch\"].groupby('query')[\"hours\"].quantile(.95)"
      ]
    },
    {
      "cell_type": "markdown",
      "metadata": {
        "id": "cXdSn4M5A23F"
      },
      "source": [
        "# 4. Создать сводную таблицу кол-ва общих запросов по двум платформам"
      ]
    },
    {
      "cell_type": "markdown",
      "metadata": {
        "id": "zoIRynLqA23F"
      },
      "source": [
        " * Желательно использовать функцию merge ()"
      ]
    },
    {
      "cell_type": "code",
      "source": [
        "desktop = df[df.ui=='desktop'][['query', 'ui']].groupby('query').count()\n",
        "touch = df[df.ui=='touch'][['query', 'ui']].groupby('query').count()\n",
        "result = pd.merge(desktop, touch, how= 'inner', on = \"query\")"
      ],
      "metadata": {
        "id": "Crufy2glGULF"
      },
      "execution_count": 9,
      "outputs": []
    },
    {
      "cell_type": "code",
      "source": [
        "result.columns = [\"desktop\", \"touch\"]\n",
        "result.sort_values(by=\"desktop\", ascending=False)"
      ],
      "metadata": {
        "id": "L2gK7NsZHXun",
        "colab": {
          "base_uri": "https://localhost:8080/",
          "height": 454
        },
        "outputId": "08c2b10f-7dc2-496a-8e0c-0606eeba1a5e"
      },
      "execution_count": 10,
      "outputs": [
        {
          "output_type": "execute_result",
          "data": {
            "text/plain": [
              "                            desktop  touch\n",
              "query                                     \n",
              "календарь 2021                 2804   2237\n",
              "таблица менделеева             2631   2097\n",
              "картинки                       1647   1658\n",
              "порно                          1342   7740\n",
              "английский алфавит             1293   1689\n",
              "...                             ...    ...\n",
              "грибы зонтики съедобные           1     16\n",
              "порно порно ролики                1     13\n",
              "грибы рядовки                     1     16\n",
              "григорий перельман                1     14\n",
              "салаты на праздничный стол        1     10\n",
              "\n",
              "[23763 rows x 2 columns]"
            ],
            "text/html": [
              "\n",
              "  <div id=\"df-093541cb-827a-4bff-84d4-6fe6d5877984\">\n",
              "    <div class=\"colab-df-container\">\n",
              "      <div>\n",
              "<style scoped>\n",
              "    .dataframe tbody tr th:only-of-type {\n",
              "        vertical-align: middle;\n",
              "    }\n",
              "\n",
              "    .dataframe tbody tr th {\n",
              "        vertical-align: top;\n",
              "    }\n",
              "\n",
              "    .dataframe thead th {\n",
              "        text-align: right;\n",
              "    }\n",
              "</style>\n",
              "<table border=\"1\" class=\"dataframe\">\n",
              "  <thead>\n",
              "    <tr style=\"text-align: right;\">\n",
              "      <th></th>\n",
              "      <th>desktop</th>\n",
              "      <th>touch</th>\n",
              "    </tr>\n",
              "    <tr>\n",
              "      <th>query</th>\n",
              "      <th></th>\n",
              "      <th></th>\n",
              "    </tr>\n",
              "  </thead>\n",
              "  <tbody>\n",
              "    <tr>\n",
              "      <th>календарь 2021</th>\n",
              "      <td>2804</td>\n",
              "      <td>2237</td>\n",
              "    </tr>\n",
              "    <tr>\n",
              "      <th>таблица менделеева</th>\n",
              "      <td>2631</td>\n",
              "      <td>2097</td>\n",
              "    </tr>\n",
              "    <tr>\n",
              "      <th>картинки</th>\n",
              "      <td>1647</td>\n",
              "      <td>1658</td>\n",
              "    </tr>\n",
              "    <tr>\n",
              "      <th>порно</th>\n",
              "      <td>1342</td>\n",
              "      <td>7740</td>\n",
              "    </tr>\n",
              "    <tr>\n",
              "      <th>английский алфавит</th>\n",
              "      <td>1293</td>\n",
              "      <td>1689</td>\n",
              "    </tr>\n",
              "    <tr>\n",
              "      <th>...</th>\n",
              "      <td>...</td>\n",
              "      <td>...</td>\n",
              "    </tr>\n",
              "    <tr>\n",
              "      <th>грибы зонтики съедобные</th>\n",
              "      <td>1</td>\n",
              "      <td>16</td>\n",
              "    </tr>\n",
              "    <tr>\n",
              "      <th>порно порно ролики</th>\n",
              "      <td>1</td>\n",
              "      <td>13</td>\n",
              "    </tr>\n",
              "    <tr>\n",
              "      <th>грибы рядовки</th>\n",
              "      <td>1</td>\n",
              "      <td>16</td>\n",
              "    </tr>\n",
              "    <tr>\n",
              "      <th>григорий перельман</th>\n",
              "      <td>1</td>\n",
              "      <td>14</td>\n",
              "    </tr>\n",
              "    <tr>\n",
              "      <th>салаты на праздничный стол</th>\n",
              "      <td>1</td>\n",
              "      <td>10</td>\n",
              "    </tr>\n",
              "  </tbody>\n",
              "</table>\n",
              "<p>23763 rows × 2 columns</p>\n",
              "</div>\n",
              "      <button class=\"colab-df-convert\" onclick=\"convertToInteractive('df-093541cb-827a-4bff-84d4-6fe6d5877984')\"\n",
              "              title=\"Convert this dataframe to an interactive table.\"\n",
              "              style=\"display:none;\">\n",
              "        \n",
              "  <svg xmlns=\"http://www.w3.org/2000/svg\" height=\"24px\"viewBox=\"0 0 24 24\"\n",
              "       width=\"24px\">\n",
              "    <path d=\"M0 0h24v24H0V0z\" fill=\"none\"/>\n",
              "    <path d=\"M18.56 5.44l.94 2.06.94-2.06 2.06-.94-2.06-.94-.94-2.06-.94 2.06-2.06.94zm-11 1L8.5 8.5l.94-2.06 2.06-.94-2.06-.94L8.5 2.5l-.94 2.06-2.06.94zm10 10l.94 2.06.94-2.06 2.06-.94-2.06-.94-.94-2.06-.94 2.06-2.06.94z\"/><path d=\"M17.41 7.96l-1.37-1.37c-.4-.4-.92-.59-1.43-.59-.52 0-1.04.2-1.43.59L10.3 9.45l-7.72 7.72c-.78.78-.78 2.05 0 2.83L4 21.41c.39.39.9.59 1.41.59.51 0 1.02-.2 1.41-.59l7.78-7.78 2.81-2.81c.8-.78.8-2.07 0-2.86zM5.41 20L4 18.59l7.72-7.72 1.47 1.35L5.41 20z\"/>\n",
              "  </svg>\n",
              "      </button>\n",
              "      \n",
              "  <style>\n",
              "    .colab-df-container {\n",
              "      display:flex;\n",
              "      flex-wrap:wrap;\n",
              "      gap: 12px;\n",
              "    }\n",
              "\n",
              "    .colab-df-convert {\n",
              "      background-color: #E8F0FE;\n",
              "      border: none;\n",
              "      border-radius: 50%;\n",
              "      cursor: pointer;\n",
              "      display: none;\n",
              "      fill: #1967D2;\n",
              "      height: 32px;\n",
              "      padding: 0 0 0 0;\n",
              "      width: 32px;\n",
              "    }\n",
              "\n",
              "    .colab-df-convert:hover {\n",
              "      background-color: #E2EBFA;\n",
              "      box-shadow: 0px 1px 2px rgba(60, 64, 67, 0.3), 0px 1px 3px 1px rgba(60, 64, 67, 0.15);\n",
              "      fill: #174EA6;\n",
              "    }\n",
              "\n",
              "    [theme=dark] .colab-df-convert {\n",
              "      background-color: #3B4455;\n",
              "      fill: #D2E3FC;\n",
              "    }\n",
              "\n",
              "    [theme=dark] .colab-df-convert:hover {\n",
              "      background-color: #434B5C;\n",
              "      box-shadow: 0px 1px 3px 1px rgba(0, 0, 0, 0.15);\n",
              "      filter: drop-shadow(0px 1px 2px rgba(0, 0, 0, 0.3));\n",
              "      fill: #FFFFFF;\n",
              "    }\n",
              "  </style>\n",
              "\n",
              "      <script>\n",
              "        const buttonEl =\n",
              "          document.querySelector('#df-093541cb-827a-4bff-84d4-6fe6d5877984 button.colab-df-convert');\n",
              "        buttonEl.style.display =\n",
              "          google.colab.kernel.accessAllowed ? 'block' : 'none';\n",
              "\n",
              "        async function convertToInteractive(key) {\n",
              "          const element = document.querySelector('#df-093541cb-827a-4bff-84d4-6fe6d5877984');\n",
              "          const dataTable =\n",
              "            await google.colab.kernel.invokeFunction('convertToInteractive',\n",
              "                                                     [key], {});\n",
              "          if (!dataTable) return;\n",
              "\n",
              "          const docLinkHtml = 'Like what you see? Visit the ' +\n",
              "            '<a target=\"_blank\" href=https://colab.research.google.com/notebooks/data_table.ipynb>data table notebook</a>'\n",
              "            + ' to learn more about interactive tables.';\n",
              "          element.innerHTML = '';\n",
              "          dataTable['output_type'] = 'display_data';\n",
              "          await google.colab.output.renderOutput(dataTable, element);\n",
              "          const docLink = document.createElement('div');\n",
              "          docLink.innerHTML = docLinkHtml;\n",
              "          element.appendChild(docLink);\n",
              "        }\n",
              "      </script>\n",
              "    </div>\n",
              "  </div>\n",
              "  "
            ]
          },
          "metadata": {},
          "execution_count": 10
        }
      ]
    },
    {
      "cell_type": "code",
      "execution_count": 11,
      "metadata": {
        "colab": {
          "base_uri": "https://localhost:8080/",
          "height": 237
        },
        "id": "D_HbN3ClA23F",
        "outputId": "410f0751-72e1-4cca-ee02-958054b13fef"
      },
      "outputs": [
        {
          "output_type": "execute_result",
          "data": {
            "text/plain": [
              "                    desktop  touch\n",
              "query                             \n",
              "+18                      11     34\n",
              "+18 video                 2     24\n",
              "002                       4     15\n",
              "02 аниме                 34     30\n",
              "02 милый во франсе        7     23"
            ],
            "text/html": [
              "\n",
              "  <div id=\"df-394dcbfc-a9db-417e-a6df-b542c7ec4e09\">\n",
              "    <div class=\"colab-df-container\">\n",
              "      <div>\n",
              "<style scoped>\n",
              "    .dataframe tbody tr th:only-of-type {\n",
              "        vertical-align: middle;\n",
              "    }\n",
              "\n",
              "    .dataframe tbody tr th {\n",
              "        vertical-align: top;\n",
              "    }\n",
              "\n",
              "    .dataframe thead th {\n",
              "        text-align: right;\n",
              "    }\n",
              "</style>\n",
              "<table border=\"1\" class=\"dataframe\">\n",
              "  <thead>\n",
              "    <tr style=\"text-align: right;\">\n",
              "      <th></th>\n",
              "      <th>desktop</th>\n",
              "      <th>touch</th>\n",
              "    </tr>\n",
              "    <tr>\n",
              "      <th>query</th>\n",
              "      <th></th>\n",
              "      <th></th>\n",
              "    </tr>\n",
              "  </thead>\n",
              "  <tbody>\n",
              "    <tr>\n",
              "      <th>+18</th>\n",
              "      <td>11</td>\n",
              "      <td>34</td>\n",
              "    </tr>\n",
              "    <tr>\n",
              "      <th>+18 video</th>\n",
              "      <td>2</td>\n",
              "      <td>24</td>\n",
              "    </tr>\n",
              "    <tr>\n",
              "      <th>002</th>\n",
              "      <td>4</td>\n",
              "      <td>15</td>\n",
              "    </tr>\n",
              "    <tr>\n",
              "      <th>02 аниме</th>\n",
              "      <td>34</td>\n",
              "      <td>30</td>\n",
              "    </tr>\n",
              "    <tr>\n",
              "      <th>02 милый во франсе</th>\n",
              "      <td>7</td>\n",
              "      <td>23</td>\n",
              "    </tr>\n",
              "  </tbody>\n",
              "</table>\n",
              "</div>\n",
              "      <button class=\"colab-df-convert\" onclick=\"convertToInteractive('df-394dcbfc-a9db-417e-a6df-b542c7ec4e09')\"\n",
              "              title=\"Convert this dataframe to an interactive table.\"\n",
              "              style=\"display:none;\">\n",
              "        \n",
              "  <svg xmlns=\"http://www.w3.org/2000/svg\" height=\"24px\"viewBox=\"0 0 24 24\"\n",
              "       width=\"24px\">\n",
              "    <path d=\"M0 0h24v24H0V0z\" fill=\"none\"/>\n",
              "    <path d=\"M18.56 5.44l.94 2.06.94-2.06 2.06-.94-2.06-.94-.94-2.06-.94 2.06-2.06.94zm-11 1L8.5 8.5l.94-2.06 2.06-.94-2.06-.94L8.5 2.5l-.94 2.06-2.06.94zm10 10l.94 2.06.94-2.06 2.06-.94-2.06-.94-.94-2.06-.94 2.06-2.06.94z\"/><path d=\"M17.41 7.96l-1.37-1.37c-.4-.4-.92-.59-1.43-.59-.52 0-1.04.2-1.43.59L10.3 9.45l-7.72 7.72c-.78.78-.78 2.05 0 2.83L4 21.41c.39.39.9.59 1.41.59.51 0 1.02-.2 1.41-.59l7.78-7.78 2.81-2.81c.8-.78.8-2.07 0-2.86zM5.41 20L4 18.59l7.72-7.72 1.47 1.35L5.41 20z\"/>\n",
              "  </svg>\n",
              "      </button>\n",
              "      \n",
              "  <style>\n",
              "    .colab-df-container {\n",
              "      display:flex;\n",
              "      flex-wrap:wrap;\n",
              "      gap: 12px;\n",
              "    }\n",
              "\n",
              "    .colab-df-convert {\n",
              "      background-color: #E8F0FE;\n",
              "      border: none;\n",
              "      border-radius: 50%;\n",
              "      cursor: pointer;\n",
              "      display: none;\n",
              "      fill: #1967D2;\n",
              "      height: 32px;\n",
              "      padding: 0 0 0 0;\n",
              "      width: 32px;\n",
              "    }\n",
              "\n",
              "    .colab-df-convert:hover {\n",
              "      background-color: #E2EBFA;\n",
              "      box-shadow: 0px 1px 2px rgba(60, 64, 67, 0.3), 0px 1px 3px 1px rgba(60, 64, 67, 0.15);\n",
              "      fill: #174EA6;\n",
              "    }\n",
              "\n",
              "    [theme=dark] .colab-df-convert {\n",
              "      background-color: #3B4455;\n",
              "      fill: #D2E3FC;\n",
              "    }\n",
              "\n",
              "    [theme=dark] .colab-df-convert:hover {\n",
              "      background-color: #434B5C;\n",
              "      box-shadow: 0px 1px 3px 1px rgba(0, 0, 0, 0.15);\n",
              "      filter: drop-shadow(0px 1px 2px rgba(0, 0, 0, 0.3));\n",
              "      fill: #FFFFFF;\n",
              "    }\n",
              "  </style>\n",
              "\n",
              "      <script>\n",
              "        const buttonEl =\n",
              "          document.querySelector('#df-394dcbfc-a9db-417e-a6df-b542c7ec4e09 button.colab-df-convert');\n",
              "        buttonEl.style.display =\n",
              "          google.colab.kernel.accessAllowed ? 'block' : 'none';\n",
              "\n",
              "        async function convertToInteractive(key) {\n",
              "          const element = document.querySelector('#df-394dcbfc-a9db-417e-a6df-b542c7ec4e09');\n",
              "          const dataTable =\n",
              "            await google.colab.kernel.invokeFunction('convertToInteractive',\n",
              "                                                     [key], {});\n",
              "          if (!dataTable) return;\n",
              "\n",
              "          const docLinkHtml = 'Like what you see? Visit the ' +\n",
              "            '<a target=\"_blank\" href=https://colab.research.google.com/notebooks/data_table.ipynb>data table notebook</a>'\n",
              "            + ' to learn more about interactive tables.';\n",
              "          element.innerHTML = '';\n",
              "          dataTable['output_type'] = 'display_data';\n",
              "          await google.colab.output.renderOutput(dataTable, element);\n",
              "          const docLink = document.createElement('div');\n",
              "          docLink.innerHTML = docLinkHtml;\n",
              "          element.appendChild(docLink);\n",
              "        }\n",
              "      </script>\n",
              "    </div>\n",
              "  </div>\n",
              "  "
            ]
          },
          "metadata": {},
          "execution_count": 11
        }
      ],
      "source": [
        "result.head()"
      ]
    },
    {
      "cell_type": "code",
      "source": [],
      "metadata": {
        "id": "fFa58EtCGlfL"
      },
      "execution_count": 11,
      "outputs": []
    }
  ],
  "metadata": {
    "kernelspec": {
      "display_name": "Python 3 (ipykernel)",
      "language": "python",
      "name": "python3"
    },
    "language_info": {
      "codemirror_mode": {
        "name": "ipython",
        "version": 3
      },
      "file_extension": ".py",
      "mimetype": "text/x-python",
      "name": "python",
      "nbconvert_exporter": "python",
      "pygments_lexer": "ipython3",
      "version": "3.9.7"
    },
    "colab": {
      "provenance": [],
      "include_colab_link": true
    }
  },
  "nbformat": 4,
  "nbformat_minor": 0
}
