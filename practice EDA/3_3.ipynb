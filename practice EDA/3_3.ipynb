{
  "cells": [
    {
      "cell_type": "markdown",
      "metadata": {
        "deletable": false,
        "editable": false,
        "nbgrader": {
          "cell_type": "markdown",
          "checksum": "20ca45b9bff14c61f7d0657a66e96b88",
          "grade": false,
          "grade_id": "cell-3602347a0b182c2e",
          "locked": true,
          "schema_version": 3,
          "solution": false,
          "task": false
        },
        "id": "PZHcAPCJ8aqn"
      },
      "source": [
        "<center>\n",
        "</center>\n",
        "\n",
        "\n",
        "# Контрольная работа :)"
      ]
    },
    {
      "cell_type": "code",
      "execution_count": 33,
      "metadata": {
        "id": "rYkWe6mB8aqq"
      },
      "outputs": [],
      "source": [
        "import numpy as np\n",
        "import pandas as pd\n",
        "\n",
        "from scipy import stats\n",
        "\n",
        "import seaborn as sns\n",
        "import matplotlib.pyplot as plt\n",
        "from scipy. stats import norm\n",
        "\n",
        "plt.style.use('ggplot') # стиль для графиков\n",
        "%matplotlib inline\n",
        "\n",
        "COLLAB = False"
      ]
    },
    {
      "cell_type": "markdown",
      "metadata": {
        "deletable": false,
        "editable": false,
        "nbgrader": {
          "cell_type": "markdown",
          "checksum": "43f7f429f44d154d6c72b7b236254c08",
          "grade": false,
          "grade_id": "cell-be89eebcb2f6ec8c",
          "locked": true,
          "schema_version": 3,
          "solution": false,
          "task": false
        },
        "id": "pKU_d9hP8aqr"
      },
      "source": [
        "В файле `cr.csv` лежат результаты контрольной работы, которая проводилась в Вышке на факультете \"Э\".  По мнению студентов эти оценки смещённые, несостоятельные и ужасно неэффективные. Но это уже совершенно другая история. Подгрузим файлик и посмотрим на него!  "
      ]
    },
    {
      "cell_type": "code",
      "source": [
        "if COLLAB:\n",
        "    from google.colab import drive\n",
        "    drive.mount('/content/gdrive')\n",
        "    df = pd.read_csv('/content/gdrive/MyDrive/DA/3/3/cr.csv', sep='\\t')\n",
        "else:\n",
        "    df = pd.read_csv('cr.csv', sep='\\t')\n",
        "\n",
        "print(df.shape)\n",
        "display(df.head())"
      ],
      "metadata": {
        "colab": {
          "base_uri": "https://localhost:8080/",
          "height": 242
        },
        "id": "f38JDLkaBsB6",
        "outputId": "dcaeb40c-d8d0-45e4-b260-81ba74a9480d"
      },
      "execution_count": 34,
      "outputs": [
        {
          "output_type": "stream",
          "name": "stdout",
          "text": [
            "Drive already mounted at /content/gdrive; to attempt to forcibly remount, call drive.mount(\"/content/gdrive\", force_remount=True).\n",
            "(389, 20)\n"
          ]
        },
        {
          "output_type": "display_data",
          "data": {
            "text/plain": [
              "       contest_login  fraud   k1a   k1b   k1c   k1d   k1e   k1f    k1   k2a  \\\n",
              "0  eds_python_2020_1    0.0  10.0  10.0  20.0  30.0   4.0  22.0  10.1  20.0   \n",
              "1  eds_python_2020_2    1.0   9.0  10.0  20.0   NaN  16.0  12.0   6.7   NaN   \n",
              "2  eds_python_2020_3    0.0   2.0  10.0  20.0   NaN  20.0  30.0   8.2  20.0   \n",
              "3  eds_python_2020_4    1.0  10.0  10.0  20.0   NaN  16.0  14.0   7.0  20.0   \n",
              "4  eds_python_2020_5    2.0  10.0  10.0  12.0   0.0  16.0  22.0   7.0  20.0   \n",
              "\n",
              "    k2b   k2c   k2d   k2e   k2f    k2   k3a   k3b   k3c   k3  \n",
              "0  10.0  20.0  20.0  20.0  20.0  11.0  35.0   0.0  27.0  6.2  \n",
              "1   5.0   NaN  20.0  20.0  20.0   6.5  35.0  29.0  22.0  8.6  \n",
              "2   5.0   NaN  20.0  20.0  20.0   8.5  28.0   2.0   0.0  3.0  \n",
              "3  10.0   NaN  20.0  20.0  20.0   9.0  30.0  38.0   0.0  6.8  \n",
              "4  10.0   NaN  20.0  20.0  20.0   9.0   0.0   0.0   0.0  0.0  "
            ],
            "text/html": [
              "\n",
              "  <div id=\"df-af13864d-fd1f-43dd-8f8b-ea01ce421f4c\">\n",
              "    <div class=\"colab-df-container\">\n",
              "      <div>\n",
              "<style scoped>\n",
              "    .dataframe tbody tr th:only-of-type {\n",
              "        vertical-align: middle;\n",
              "    }\n",
              "\n",
              "    .dataframe tbody tr th {\n",
              "        vertical-align: top;\n",
              "    }\n",
              "\n",
              "    .dataframe thead th {\n",
              "        text-align: right;\n",
              "    }\n",
              "</style>\n",
              "<table border=\"1\" class=\"dataframe\">\n",
              "  <thead>\n",
              "    <tr style=\"text-align: right;\">\n",
              "      <th></th>\n",
              "      <th>contest_login</th>\n",
              "      <th>fraud</th>\n",
              "      <th>k1a</th>\n",
              "      <th>k1b</th>\n",
              "      <th>k1c</th>\n",
              "      <th>k1d</th>\n",
              "      <th>k1e</th>\n",
              "      <th>k1f</th>\n",
              "      <th>k1</th>\n",
              "      <th>k2a</th>\n",
              "      <th>k2b</th>\n",
              "      <th>k2c</th>\n",
              "      <th>k2d</th>\n",
              "      <th>k2e</th>\n",
              "      <th>k2f</th>\n",
              "      <th>k2</th>\n",
              "      <th>k3a</th>\n",
              "      <th>k3b</th>\n",
              "      <th>k3c</th>\n",
              "      <th>k3</th>\n",
              "    </tr>\n",
              "  </thead>\n",
              "  <tbody>\n",
              "    <tr>\n",
              "      <th>0</th>\n",
              "      <td>eds_python_2020_1</td>\n",
              "      <td>0.0</td>\n",
              "      <td>10.0</td>\n",
              "      <td>10.0</td>\n",
              "      <td>20.0</td>\n",
              "      <td>30.0</td>\n",
              "      <td>4.0</td>\n",
              "      <td>22.0</td>\n",
              "      <td>10.1</td>\n",
              "      <td>20.0</td>\n",
              "      <td>10.0</td>\n",
              "      <td>20.0</td>\n",
              "      <td>20.0</td>\n",
              "      <td>20.0</td>\n",
              "      <td>20.0</td>\n",
              "      <td>11.0</td>\n",
              "      <td>35.0</td>\n",
              "      <td>0.0</td>\n",
              "      <td>27.0</td>\n",
              "      <td>6.2</td>\n",
              "    </tr>\n",
              "    <tr>\n",
              "      <th>1</th>\n",
              "      <td>eds_python_2020_2</td>\n",
              "      <td>1.0</td>\n",
              "      <td>9.0</td>\n",
              "      <td>10.0</td>\n",
              "      <td>20.0</td>\n",
              "      <td>NaN</td>\n",
              "      <td>16.0</td>\n",
              "      <td>12.0</td>\n",
              "      <td>6.7</td>\n",
              "      <td>NaN</td>\n",
              "      <td>5.0</td>\n",
              "      <td>NaN</td>\n",
              "      <td>20.0</td>\n",
              "      <td>20.0</td>\n",
              "      <td>20.0</td>\n",
              "      <td>6.5</td>\n",
              "      <td>35.0</td>\n",
              "      <td>29.0</td>\n",
              "      <td>22.0</td>\n",
              "      <td>8.6</td>\n",
              "    </tr>\n",
              "    <tr>\n",
              "      <th>2</th>\n",
              "      <td>eds_python_2020_3</td>\n",
              "      <td>0.0</td>\n",
              "      <td>2.0</td>\n",
              "      <td>10.0</td>\n",
              "      <td>20.0</td>\n",
              "      <td>NaN</td>\n",
              "      <td>20.0</td>\n",
              "      <td>30.0</td>\n",
              "      <td>8.2</td>\n",
              "      <td>20.0</td>\n",
              "      <td>5.0</td>\n",
              "      <td>NaN</td>\n",
              "      <td>20.0</td>\n",
              "      <td>20.0</td>\n",
              "      <td>20.0</td>\n",
              "      <td>8.5</td>\n",
              "      <td>28.0</td>\n",
              "      <td>2.0</td>\n",
              "      <td>0.0</td>\n",
              "      <td>3.0</td>\n",
              "    </tr>\n",
              "    <tr>\n",
              "      <th>3</th>\n",
              "      <td>eds_python_2020_4</td>\n",
              "      <td>1.0</td>\n",
              "      <td>10.0</td>\n",
              "      <td>10.0</td>\n",
              "      <td>20.0</td>\n",
              "      <td>NaN</td>\n",
              "      <td>16.0</td>\n",
              "      <td>14.0</td>\n",
              "      <td>7.0</td>\n",
              "      <td>20.0</td>\n",
              "      <td>10.0</td>\n",
              "      <td>NaN</td>\n",
              "      <td>20.0</td>\n",
              "      <td>20.0</td>\n",
              "      <td>20.0</td>\n",
              "      <td>9.0</td>\n",
              "      <td>30.0</td>\n",
              "      <td>38.0</td>\n",
              "      <td>0.0</td>\n",
              "      <td>6.8</td>\n",
              "    </tr>\n",
              "    <tr>\n",
              "      <th>4</th>\n",
              "      <td>eds_python_2020_5</td>\n",
              "      <td>2.0</td>\n",
              "      <td>10.0</td>\n",
              "      <td>10.0</td>\n",
              "      <td>12.0</td>\n",
              "      <td>0.0</td>\n",
              "      <td>16.0</td>\n",
              "      <td>22.0</td>\n",
              "      <td>7.0</td>\n",
              "      <td>20.0</td>\n",
              "      <td>10.0</td>\n",
              "      <td>NaN</td>\n",
              "      <td>20.0</td>\n",
              "      <td>20.0</td>\n",
              "      <td>20.0</td>\n",
              "      <td>9.0</td>\n",
              "      <td>0.0</td>\n",
              "      <td>0.0</td>\n",
              "      <td>0.0</td>\n",
              "      <td>0.0</td>\n",
              "    </tr>\n",
              "  </tbody>\n",
              "</table>\n",
              "</div>\n",
              "      <button class=\"colab-df-convert\" onclick=\"convertToInteractive('df-af13864d-fd1f-43dd-8f8b-ea01ce421f4c')\"\n",
              "              title=\"Convert this dataframe to an interactive table.\"\n",
              "              style=\"display:none;\">\n",
              "        \n",
              "  <svg xmlns=\"http://www.w3.org/2000/svg\" height=\"24px\"viewBox=\"0 0 24 24\"\n",
              "       width=\"24px\">\n",
              "    <path d=\"M0 0h24v24H0V0z\" fill=\"none\"/>\n",
              "    <path d=\"M18.56 5.44l.94 2.06.94-2.06 2.06-.94-2.06-.94-.94-2.06-.94 2.06-2.06.94zm-11 1L8.5 8.5l.94-2.06 2.06-.94-2.06-.94L8.5 2.5l-.94 2.06-2.06.94zm10 10l.94 2.06.94-2.06 2.06-.94-2.06-.94-.94-2.06-.94 2.06-2.06.94z\"/><path d=\"M17.41 7.96l-1.37-1.37c-.4-.4-.92-.59-1.43-.59-.52 0-1.04.2-1.43.59L10.3 9.45l-7.72 7.72c-.78.78-.78 2.05 0 2.83L4 21.41c.39.39.9.59 1.41.59.51 0 1.02-.2 1.41-.59l7.78-7.78 2.81-2.81c.8-.78.8-2.07 0-2.86zM5.41 20L4 18.59l7.72-7.72 1.47 1.35L5.41 20z\"/>\n",
              "  </svg>\n",
              "      </button>\n",
              "      \n",
              "  <style>\n",
              "    .colab-df-container {\n",
              "      display:flex;\n",
              "      flex-wrap:wrap;\n",
              "      gap: 12px;\n",
              "    }\n",
              "\n",
              "    .colab-df-convert {\n",
              "      background-color: #E8F0FE;\n",
              "      border: none;\n",
              "      border-radius: 50%;\n",
              "      cursor: pointer;\n",
              "      display: none;\n",
              "      fill: #1967D2;\n",
              "      height: 32px;\n",
              "      padding: 0 0 0 0;\n",
              "      width: 32px;\n",
              "    }\n",
              "\n",
              "    .colab-df-convert:hover {\n",
              "      background-color: #E2EBFA;\n",
              "      box-shadow: 0px 1px 2px rgba(60, 64, 67, 0.3), 0px 1px 3px 1px rgba(60, 64, 67, 0.15);\n",
              "      fill: #174EA6;\n",
              "    }\n",
              "\n",
              "    [theme=dark] .colab-df-convert {\n",
              "      background-color: #3B4455;\n",
              "      fill: #D2E3FC;\n",
              "    }\n",
              "\n",
              "    [theme=dark] .colab-df-convert:hover {\n",
              "      background-color: #434B5C;\n",
              "      box-shadow: 0px 1px 3px 1px rgba(0, 0, 0, 0.15);\n",
              "      filter: drop-shadow(0px 1px 2px rgba(0, 0, 0, 0.3));\n",
              "      fill: #FFFFFF;\n",
              "    }\n",
              "  </style>\n",
              "\n",
              "      <script>\n",
              "        const buttonEl =\n",
              "          document.querySelector('#df-af13864d-fd1f-43dd-8f8b-ea01ce421f4c button.colab-df-convert');\n",
              "        buttonEl.style.display =\n",
              "          google.colab.kernel.accessAllowed ? 'block' : 'none';\n",
              "\n",
              "        async function convertToInteractive(key) {\n",
              "          const element = document.querySelector('#df-af13864d-fd1f-43dd-8f8b-ea01ce421f4c');\n",
              "          const dataTable =\n",
              "            await google.colab.kernel.invokeFunction('convertToInteractive',\n",
              "                                                     [key], {});\n",
              "          if (!dataTable) return;\n",
              "\n",
              "          const docLinkHtml = 'Like what you see? Visit the ' +\n",
              "            '<a target=\"_blank\" href=https://colab.research.google.com/notebooks/data_table.ipynb>data table notebook</a>'\n",
              "            + ' to learn more about interactive tables.';\n",
              "          element.innerHTML = '';\n",
              "          dataTable['output_type'] = 'display_data';\n",
              "          await google.colab.output.renderOutput(dataTable, element);\n",
              "          const docLink = document.createElement('div');\n",
              "          docLink.innerHTML = docLinkHtml;\n",
              "          element.appendChild(docLink);\n",
              "        }\n",
              "      </script>\n",
              "    </div>\n",
              "  </div>\n",
              "  "
            ]
          },
          "metadata": {}
        }
      ]
    },
    {
      "cell_type": "markdown",
      "metadata": {
        "deletable": false,
        "editable": false,
        "nbgrader": {
          "cell_type": "markdown",
          "checksum": "a6395cc2bcb2b3158b507c44ba141615",
          "grade": false,
          "grade_id": "cell-0fa267ffee2624a4",
          "locked": true,
          "schema_version": 3,
          "solution": false,
          "task": false
        },
        "id": "ABeT8dNf8aqs"
      },
      "source": [
        "__Описание колонок:__\n",
        "\n",
        "\n",
        "* `contest_login` - уникальный идентификатор студента\n",
        "* `fraud` - в списывании скольки задач был уличён студент \n",
        "* `k1` - результат за первую контрольную, `k1a - k1f` в разбивке по задачам\n",
        "* `k2` - результат за вторую контрольную, `k2a - k2f` в разбивке по задачам\n",
        "* `k3` - результат за третью контрольную, `k3a - k3с` в разбивке по задачам"
      ]
    },
    {
      "cell_type": "markdown",
      "metadata": {
        "deletable": false,
        "editable": false,
        "nbgrader": {
          "cell_type": "markdown",
          "checksum": "a609f2701de2c58fb402623ada75f2d6",
          "grade": false,
          "grade_id": "cell-12cb86d2c52c88ee",
          "locked": true,
          "schema_version": 3,
          "solution": false,
          "task": false
        },
        "id": "HJi07_nc8aqs"
      },
      "source": [
        "__а) Распределение результатов контрольной__ \n",
        "\n",
        "- Запишите все оценки за первую контрольную в переменную `x`, все пропуски удалите\n",
        "- Найдите среднее и стандартное отклонение (используйте несмещённую оценку) \n",
        "- Постройте гистограмму результатов за первую контрольную \n",
        "- На этой же картинке постройте плотность нормального распределения со средним и стандартным отклонением, посчитанными выше\n",
        "\n",
        "Похоже ли эмпирическое распределение на нормальное? "
      ]
    },
    {
      "cell_type": "code",
      "execution_count": 46,
      "metadata": {
        "deletable": false,
        "nbgrader": {
          "cell_type": "code",
          "checksum": "04205b8269710e3852ef0ef2ec0c8bd5",
          "grade": false,
          "grade_id": "cell-4caa86c30a9f3dab",
          "locked": false,
          "schema_version": 3,
          "solution": true,
          "task": false
        },
        "colab": {
          "base_uri": "https://localhost:8080/",
          "height": 415
        },
        "id": "3JTKeTr98aqs",
        "outputId": "592fd8db-f226-4982-a696-c9e13953a1e4"
      },
      "outputs": [
        {
          "output_type": "display_data",
          "data": {
            "text/plain": [
              "<Figure size 1200x400 with 2 Axes>"
            ],
            "image/png": "[encoded data removed]"
          },
          "metadata": {}
        }
      ],
      "source": [
        "x = df.loc[:,\"k1\"]\n",
        "x = x.dropna()\n",
        "x_mean = x.mean()\n",
        "x_std = x.std(ddof=1)\n",
        "\n",
        "fig, axes = plt.subplots(1,2, figsize = (12,4))\n",
        "title = [\"Kernel density estimate\", \"Normal distribution\"]\n",
        "color = [\"cyan\", \"pink\"]\n",
        "\n",
        "for i in [0,1]:\n",
        "    if i == 0:\n",
        "        sns.histplot(x, bins = 30, kde = True, color = color[i], alpha=0.2, ax = axes[i]).set(title=title[i])\n",
        "    else:\n",
        "        x.hist(bins=30,density = True,  color = color[i], ax = axes[i])\n",
        "        xs = np.linspace(-1, 13, 300)\n",
        "        ys = stats.norm(loc = x_mean, scale = x_std).pdf(xs)\n",
        "        axes[i].set_title(title[i])\n",
        "        plt.plot(xs, ys, color=\"black\");\n",
        "plt.show()"
      ]
    },
    {
      "cell_type": "markdown",
      "source": [
        "**ОТВЕТ:** Да, эмпирическое распределение похоже на нормальное"
      ],
      "metadata": {
        "id": "VQcgBcIYJns9"
      }
    },
    {
      "cell_type": "code",
      "execution_count": null,
      "metadata": {
        "deletable": false,
        "editable": false,
        "nbgrader": {
          "cell_type": "code",
          "checksum": "3ff1917b94e62866efaa8363e004bf67",
          "grade": true,
          "grade_id": "cell-188c6da24aeaf801",
          "locked": true,
          "points": 1,
          "schema_version": 3,
          "solution": false,
          "task": false
        },
        "id": "9zexzQhG8aqt"
      },
      "outputs": [],
      "source": [
        "# проверка, что среднее и стандартное откланение посчитаны корректно\n",
        "assert np.abs(x_mean - 5.4478149100) < 1e-5"
      ]
    },
    {
      "cell_type": "markdown",
      "metadata": {
        "deletable": false,
        "editable": false,
        "nbgrader": {
          "cell_type": "markdown",
          "checksum": "0eb5d3cee661fe63afa59b5828a76ebe",
          "grade": false,
          "grade_id": "cell-3ae3a6b4603b4e78",
          "locked": true,
          "schema_version": 3,
          "solution": false,
          "task": false
        },
        "id": "_8DOpfHr8aqt"
      },
      "source": [
        "По аналогии с тем, как это было сделано на лекции, проверьте с помощью теста Колмогорова-Смирнова гипотезу о нормальности: \n",
        "\n",
        "- Используйте функцию `kstest` из пакета `scipy`\n",
        "- С помощью `.pvalue` вытащите из результатов теста p-значение, запишите его в переменную `pvalue`\n",
        "- По аналогии запишите в `K` значение статистики Колмогорова\n",
        "- Если p-значение оказалось больше $0.05$, гипотеза о нормальности данных не отвергается, и мы можем дальше использовать эту предпосылку"
      ]
    },
    {
      "cell_type": "code",
      "execution_count": 58,
      "metadata": {
        "deletable": false,
        "nbgrader": {
          "cell_type": "code",
          "checksum": "50486aafcbdbbf6ce11745ee37673006",
          "grade": false,
          "grade_id": "cell-69e2fa22be264f6f",
          "locked": false,
          "schema_version": 3,
          "solution": true,
          "task": false
        },
        "id": "2aF3lgHD8aqt",
        "colab": {
          "base_uri": "https://localhost:8080/"
        },
        "outputId": "7cd52913-0f1c-4030-a21e-8f79bd1b2b11"
      },
      "outputs": [
        {
          "output_type": "stream",
          "name": "stdout",
          "text": [
            "pvalue = 0.2500068105451755\n",
            "K = 0.05124747789637904\n"
          ]
        }
      ],
      "source": [
        "test = stats.kstest(x,\"norm\",args=(x_mean, x_std))\n",
        "pvalue = test.pvalue\n",
        "K = test.statistic\n",
        "\n",
        "print(\"pvalue =\", pvalue)\n",
        "print(\"K =\", K)"
      ]
    },
    {
      "cell_type": "markdown",
      "source": [
        "**ОТВЕТ:** pvalue > 0.05,  гипотеза о нормальности данных не отвергается"
      ],
      "metadata": {
        "id": "Q2a4TBd0MRWC"
      }
    },
    {
      "cell_type": "code",
      "execution_count": 51,
      "metadata": {
        "deletable": false,
        "editable": false,
        "nbgrader": {
          "cell_type": "code",
          "checksum": "585101e0939743c4d976b2f492a30960",
          "grade": true,
          "grade_id": "cell-447597c99551cd8a",
          "locked": true,
          "points": 1,
          "schema_version": 3,
          "solution": false,
          "task": false
        },
        "id": "eD0eYPqB8aqt"
      },
      "outputs": [],
      "source": [
        "# проверка, что pvalue найдено корректно\n",
        "assert np.abs(K - 0.051247) < 1e-5"
      ]
    },
    {
      "cell_type": "markdown",
      "metadata": {
        "deletable": false,
        "editable": false,
        "nbgrader": {
          "cell_type": "markdown",
          "checksum": "73238ad01c1a0a12f9a77d0bfa6b3e06",
          "grade": false,
          "grade_id": "cell-8ebc6cda31688260",
          "locked": true,
          "schema_version": 3,
          "solution": false,
          "task": false
        },
        "id": "q4fpp1MZ8aqu"
      },
      "source": [
        "Предположим невероятное! А именно, независимость и одинаковую распределённость наших наблюдений (никто не списывал контрольную друг у друга)."
      ]
    },
    {
      "cell_type": "markdown",
      "metadata": {
        "deletable": false,
        "editable": false,
        "nbgrader": {
          "cell_type": "markdown",
          "checksum": "8f76e098fcb040b85147b0f3426470d5",
          "grade": false,
          "grade_id": "cell-fb3d48dd25fb1f07",
          "locked": true,
          "schema_version": 3,
          "solution": false,
          "task": false
        },
        "id": "nlx3iJ9H8aqu"
      },
      "source": [
        "__б) Интервал для среднего.__ \n",
        "\n",
        "Постройте точный $95\\%$-й доверительный интервал для ожидамоего результата за первую контрольную. В качестве оценки стандартного отклонения используйте несмещённый вариант, `ddof=1`. В переменные `left` и `right` запишите границы получившегося интервала. В переменную `delta` его ширину. "
      ]
    },
    {
      "cell_type": "code",
      "execution_count": 59,
      "metadata": {
        "deletable": false,
        "nbgrader": {
          "cell_type": "code",
          "checksum": "70eb28b4aaeb46af2f9696cd4f691f2f",
          "grade": false,
          "grade_id": "cell-9e40f504dc8a1f04",
          "locked": false,
          "schema_version": 3,
          "solution": true,
          "task": false
        },
        "id": "wshDeccw8aqu",
        "colab": {
          "base_uri": "https://localhost:8080/"
        },
        "outputId": "ea4d3537-0e5e-48c9-e625-fa2ef31c1213"
      },
      "outputs": [
        {
          "output_type": "stream",
          "name": "stdout",
          "text": [
            "left side = 5.1324721374428055\n",
            "right side = 5.7631576826086075\n",
            "delta = 0.630685545165802\n"
          ]
        }
      ],
      "source": [
        "n =  x.size\n",
        "t_rv = stats.t(n - 1)\n",
        "alpha = 0.05 \n",
        "\n",
        "t_crit = t_rv.ppf(1 - alpha/2)\n",
        "var_hat = x.var(ddof = 1)\n",
        "\n",
        "left = x_mean - t_crit * np.sqrt(var_hat / n)\n",
        "right = x_mean + t_crit * np.sqrt(var_hat / n)                        \n",
        "delta = right-left\n",
        "\n",
        "print(\"left side =\", left)\n",
        "print(\"right side =\", right)\n",
        "print( \"delta =\", delta)"
      ]
    },
    {
      "cell_type": "code",
      "execution_count": 54,
      "metadata": {
        "deletable": false,
        "editable": false,
        "nbgrader": {
          "cell_type": "code",
          "checksum": "a7bcae5e85f2a9fdc2d47a4723ff8bcc",
          "grade": true,
          "grade_id": "cell-c42aece4c34d6d52",
          "locked": true,
          "points": 1,
          "schema_version": 3,
          "solution": false,
          "task": false
        },
        "id": "WOzevk9z8aqu"
      },
      "outputs": [],
      "source": [
        "# проверка, что границы доверительного интервала найдены верно\n",
        "assert np.abs(left - 5.13247213744281) < 1e-5"
      ]
    },
    {
      "cell_type": "markdown",
      "metadata": {
        "deletable": false,
        "editable": false,
        "nbgrader": {
          "cell_type": "markdown",
          "checksum": "c0e10ef4b641d40f0c88c89c8e1261fc",
          "grade": false,
          "grade_id": "cell-c8cb65b81fd4f4fe",
          "locked": true,
          "schema_version": 3,
          "solution": false,
          "task": false
        },
        "id": "GWxOnwsT8aqu"
      },
      "source": [
        "__в) Ангелы и демоны__\n",
        "\n",
        "Переменная`fraud` - в списывании скольки задач был уличён студент. Разобьём наши наблюдения на две группы: Ангелы и Демоны. У Ангелов `fraud == 0`, у Демонов `fraud > 0`. \n",
        "\n",
        "Запишите оценки за первую контрольную для ангелов в переменную `angels`, для демонов в `demons`. Все пропуски из выборки удалите. Постройте на общем фоне гистограмму распределения оценок за первую контрольную у Ангелов и Демонов. "
      ]
    },
    {
      "cell_type": "code",
      "execution_count": 78,
      "metadata": {
        "deletable": false,
        "nbgrader": {
          "cell_type": "code",
          "checksum": "6c0b23dd967a4f205f44779962b2a42b",
          "grade": false,
          "grade_id": "cell-c0be9e8dcdcc6943",
          "locked": false,
          "schema_version": 3,
          "solution": true,
          "task": false
        },
        "id": "TNm8sHFQ8aqv"
      },
      "outputs": [],
      "source": [
        "angels = df[df.fraud == 0].k1.dropna()\n",
        "demons = df[df.fraud > 0].k1.dropna()"
      ]
    },
    {
      "cell_type": "code",
      "source": [
        "fig, ax = plt.subplots()\n",
        "\n",
        "color = [\"cyan\", \"orange\"]\n",
        "labels = [\"angels\", \"demons\"]\n",
        "for i, x in enumerate([angels, demons]):\n",
        "    sns.histplot(x, bins=30, color = color[i],alpha = 0.3, ax=ax, label=labels[i])\n",
        "ax.set(title = \"Angels and demons kr1 marks\",  )\n",
        "ax.legend()\n",
        "plt.show()"
      ],
      "metadata": {
        "colab": {
          "base_uri": "https://localhost:8080/",
          "height": 477
        },
        "id": "RTnV9bhvO2Kk",
        "outputId": "d1e5edba-ee9b-43d8-983b-a4f4cc21e509"
      },
      "execution_count": 93,
      "outputs": [
        {
          "output_type": "display_data",
          "data": {
            "text/plain": [
              "<Figure size 640x480 with 1 Axes>"
            ],
            "image/png": "[encoded data removed]"
          },
          "metadata": {}
        }
      ]
    },
    {
      "cell_type": "code",
      "execution_count": 67,
      "metadata": {
        "deletable": false,
        "editable": false,
        "nbgrader": {
          "cell_type": "code",
          "checksum": "5eaa66ef7fd354bd1b43f0bd0fbd6102",
          "grade": true,
          "grade_id": "cell-325feda5583e0804",
          "locked": true,
          "points": 1,
          "schema_version": 3,
          "solution": false,
          "task": false
        },
        "id": "kNHIgCjf8aqv"
      },
      "outputs": [],
      "source": [
        "# проверка того, сколько в выборке оказалось ангелов и демонов\n",
        "assert len(angels) == 109"
      ]
    },
    {
      "cell_type": "markdown",
      "metadata": {
        "deletable": false,
        "editable": false,
        "nbgrader": {
          "cell_type": "markdown",
          "checksum": "0fdb96345d0a8b195881a90b068e23c0",
          "grade": false,
          "grade_id": "cell-0c028b3ac8a73ac4",
          "locked": true,
          "schema_version": 3,
          "solution": false,
          "task": false
        },
        "id": "d0T_Db4j8aqv"
      },
      "source": [
        "__г) Интервал для разницы средних__ \n",
        "\n",
        "Постройте примерный $95\\%$-й доверительный интервал для разницы ожидаемого результата за первую контрольную у Ангелов и Демонов без предположения о равенстве дисперсий (интервал Уэлча). Для оценки всех дисперсий используйте несмещённый вариант. Заполните все переменные, перечисленные ниже. "
      ]
    },
    {
      "cell_type": "code",
      "execution_count": 94,
      "metadata": {
        "deletable": false,
        "nbgrader": {
          "cell_type": "code",
          "checksum": "2328767bd68116cdbc607d64c62f1708",
          "grade": false,
          "grade_id": "cell-3f035845607657b9",
          "locked": false,
          "schema_version": 3,
          "solution": true,
          "task": false
        },
        "colab": {
          "base_uri": "https://localhost:8080/"
        },
        "id": "CPyEfMk08aqv",
        "outputId": "a7d7a364-350e-4d4a-ac07-0429e4df6ed1"
      },
      "outputs": [
        {
          "output_type": "stream",
          "name": "stdout",
          "text": [
            "left side = -0.8045581262764355\n",
            "right side = 0.5469728051755166\n",
            "delta = 1.3515309314519521\n"
          ]
        }
      ],
      "source": [
        "diff = angels.mean() - demons.mean()\n",
        "nx, ny = angels.size, demons.size\n",
        "diff_sd = np.sqrt(angels.var(ddof=1)/nx + demons.var(ddof=1)/ny)\n",
        "\n",
        "u = (angels.var(ddof=1) / nx + demons.var(ddof=1) / ny) ** 2\n",
        "d = (angels.var(ddof=1)**2) / (nx**2 * (nx - 1)) + (demons.var(ddof=1)**2)/ (ny**2* (ny - 1))\n",
        "nu =  u/d \n",
        "\n",
        "left, right = stats.t.interval(0.95, df=nu, loc=diff, scale=diff_sd)\n",
        "delta = right - left     \n",
        "\n",
        "print(\"left side =\", left)\n",
        "print(\"right side =\", right)\n",
        "print( \"delta =\", delta)"
      ]
    },
    {
      "cell_type": "code",
      "execution_count": 95,
      "metadata": {
        "deletable": false,
        "editable": false,
        "nbgrader": {
          "cell_type": "code",
          "checksum": "62f8fa99b2fb73511c4ddc4c63277b34",
          "grade": true,
          "grade_id": "cell-59bb7c6ce3e23ce7",
          "locked": true,
          "points": 2,
          "schema_version": 3,
          "solution": false,
          "task": false
        },
        "id": "jMol7_HH8aqv"
      },
      "outputs": [],
      "source": [
        "# проверка, что границы доверительного интервала найдены верно\n",
        "assert np.abs(left + 0.8045581262764373) < 1e-5"
      ]
    },
    {
      "cell_type": "markdown",
      "metadata": {
        "deletable": false,
        "editable": false,
        "nbgrader": {
          "cell_type": "markdown",
          "checksum": "6e25be1a6ef849cbf62ea4a3996214bc",
          "grade": false,
          "grade_id": "cell-66a3e9ada3ad850a",
          "locked": true,
          "schema_version": 3,
          "solution": false,
          "task": false
        },
        "id": "FhS9cIfR8aqv"
      },
      "source": [
        "Входит ли в получившийся доверительный интервал ноль? Как думаете, что это означает? "
      ]
    },
    {
      "cell_type": "markdown",
      "source": [
        "**ОТВЕТ:** Да, ноль входит в доверительный интервал, что означет, что мы не отвергаем гипотезу о равенстве средних"
      ],
      "metadata": {
        "id": "6vC7OQH5TGdt"
      }
    },
    {
      "cell_type": "markdown",
      "metadata": {
        "deletable": false,
        "editable": false,
        "nbgrader": {
          "cell_type": "markdown",
          "checksum": "063bd8b6e45cccc3e8cae735b5ff739a",
          "grade": false,
          "grade_id": "cell-0d191b73acb7ee38",
          "locked": true,
          "schema_version": 3,
          "solution": false,
          "task": false
        },
        "id": "uYTQE1578aqw"
      },
      "source": [
        "__д) Интервал для дисперсии__ \n",
        "\n",
        "Предположим, что математическое ожидание результата за контрольную зависит от уровня подготовки, а дисперсия результата — от нервов. Постройте для отношения нервозности Демонов и Ангелов $95\\%$ доверительный интервал. Для оценки всех дисперсий используйте несмещённый вариант. "
      ]
    },
    {
      "cell_type": "code",
      "execution_count": 99,
      "metadata": {
        "deletable": false,
        "nbgrader": {
          "cell_type": "code",
          "checksum": "8ea1121c2ed8a94df21d96016401ccb1",
          "grade": false,
          "grade_id": "cell-8dae4d42e098b2a2",
          "locked": false,
          "schema_version": 3,
          "solution": true,
          "task": false
        },
        "colab": {
          "base_uri": "https://localhost:8080/"
        },
        "id": "rwHOk8rq8aqw",
        "outputId": "d38a8e8a-3a5f-47fd-d388-befa7f1ad58a"
      },
      "outputs": [
        {
          "output_type": "stream",
          "name": "stdout",
          "text": [
            "left side = 0.6120428247687729\n",
            "right side = 1.1623835577954729\n",
            "delta = 0.5503407330267\n"
          ]
        }
      ],
      "source": [
        "alpha = 0.05\n",
        "\n",
        "x = angels\n",
        "y = demons\n",
        "\n",
        "n, m = x.size - 1, y.size - 1\n",
        "sn, sm = x.var(ddof=1), y.var(ddof=1)\n",
        "\n",
        "left =  sm / sn * stats.f(n, m).ppf(alpha/2)\n",
        "right = sm / sn * stats.f(n, m).ppf(1 - alpha/2)\n",
        "delta = right-left\n",
        "print(\"left side =\", left)\n",
        "print(\"right side =\", right)\n",
        "print( \"delta =\", delta)"
      ]
    },
    {
      "cell_type": "code",
      "execution_count": 98,
      "metadata": {
        "deletable": false,
        "editable": false,
        "nbgrader": {
          "cell_type": "code",
          "checksum": "f83b5b1cc445e7b6350148d0a4740c64",
          "grade": true,
          "grade_id": "cell-febf3991d9995f7a",
          "locked": true,
          "points": 1,
          "schema_version": 3,
          "solution": false,
          "task": false
        },
        "id": "Y0ZElGSB8aqw"
      },
      "outputs": [],
      "source": [
        "# проверка, что границы доверительного интервала найдены верно\n",
        "assert np.abs(left - 0.6120428247687726) < 1e-5"
      ]
    },
    {
      "cell_type": "markdown",
      "metadata": {
        "deletable": false,
        "editable": false,
        "nbgrader": {
          "cell_type": "markdown",
          "checksum": "35287e8c0aaa3c65baeb855d439e24f1",
          "grade": false,
          "grade_id": "cell-c10fcf23f98971bb",
          "locked": true,
          "schema_version": 3,
          "solution": false,
          "task": false
        },
        "id": "99fOr_ID8aqw"
      },
      "source": [
        "Вошла ли в доверительный интервал единица? Как думаете, что это означает? "
      ]
    },
    {
      "cell_type": "markdown",
      "source": [
        "**ОТВЕТ:** Да, единица входит в доверительный интервал, что означет, что мы не \n",
        "отвергаем гипотезу о равенстве дисперсий."
      ],
      "metadata": {
        "id": "3KX8ZkI1Vd_G"
      }
    },
    {
      "cell_type": "markdown",
      "metadata": {
        "deletable": false,
        "editable": false,
        "nbgrader": {
          "cell_type": "markdown",
          "checksum": "ae95060e4a23bc109c2fdc3ed5cbd9ec",
          "grade": false,
          "grade_id": "cell-ccc6bfa3d204c0f2",
          "locked": true,
          "schema_version": 3,
          "solution": false,
          "task": false
        },
        "id": "qHOFGPNh8aqw"
      },
      "source": [
        "__е) Ангелы и демоны решают задачки__ \n",
        "\n",
        "Нарисуйте картинку для корреляционной матрицы по задачам первой контрольной для всех наблюдений, отдельно для Ангелов и Демонов. Пропуски заполните нулями. Будем считать, что если у студента нет оценки, он не выполнял это задание. Для подсчёта корреляций используйте метод `.corr`. Для отрисовки матриц функцию `heatmap` из пакета `seaborn`. Для ангелов неплохо подойдёт цветовая схема `YlGnBu`. Для демонов подходит схема `gist_heat_r`."
      ]
    },
    {
      "cell_type": "code",
      "execution_count": 100,
      "metadata": {
        "deletable": false,
        "nbgrader": {
          "cell_type": "code",
          "checksum": "66d170dacef5856b3ee90336f7989e09",
          "grade": false,
          "grade_id": "cell-f841ee7c14086e18",
          "locked": false,
          "schema_version": 3,
          "solution": true,
          "task": false
        },
        "id": "hlO4kVVC8aqw"
      },
      "outputs": [],
      "source": [
        "tasks = ['k1a', 'k1b', 'k1c', 'k1d', 'k1e', 'k1f']\n",
        "angels = df[df.fraud == 0][tasks].fillna(0)\n",
        "demons = df[df.fraud > 0][tasks].fillna(0)"
      ]
    },
    {
      "cell_type": "code",
      "source": [
        "from matplotlib.cm import ColormapRegistry\n",
        "fig, axes = plt.subplots(1,2, figsize = (12,4))\n",
        "title = [\"Angels task correlation\", \"Demons task correlation\"]\n",
        "colormap = [\"YlGnBu\", 'gist_heat_r']\n",
        "\n",
        "for i, x in enumerate([angels,demons]):\n",
        "    sns.heatmap(x.corr(), cmap=colormap[i], ax=axes[i], annot=True).set(title = title[i])\n",
        "plt.show()"
      ],
      "metadata": {
        "colab": {
          "base_uri": "https://localhost:8080/",
          "height": 392
        },
        "id": "jA3zDfKhXV2b",
        "outputId": "1a94d861-1589-46ca-d794-4fef0a329e73"
      },
      "execution_count": 102,
      "outputs": [
        {
          "output_type": "display_data",
          "data": {
            "text/plain": [
              "<Figure size 1200x400 with 4 Axes>"
            ],
            "image/png": "[encoded data removed]"
          },
          "metadata": {}
        }
      ]
    },
    {
      "cell_type": "markdown",
      "metadata": {
        "deletable": false,
        "editable": false,
        "nbgrader": {
          "cell_type": "markdown",
          "checksum": "10c0c590e2bfadab933281d130dc1c9d",
          "grade": false,
          "grade_id": "cell-29626c8b8ffd6af1",
          "locked": true,
          "schema_version": 3,
          "solution": false,
          "task": false
        },
        "id": "WIIn5wSO8aqw"
      },
      "source": [
        "Между баллом за какие задачи самая высокая корреляция у Ангелов? В грейдер отправьте название колонок в порядке возрастания через запятую. __Например:__ `(\"k1a\", \"k1f\")`. "
      ]
    },
    {
      "cell_type": "code",
      "execution_count": null,
      "metadata": {
        "deletable": false,
        "nbgrader": {
          "cell_type": "code",
          "checksum": "9256fca064648cb0aeb0899c71fc3d00",
          "grade": false,
          "grade_id": "cell-54809ad94755877b",
          "locked": false,
          "schema_version": 3,
          "solution": true,
          "task": false
        },
        "id": "2WGE5Sb28aqx"
      },
      "outputs": [],
      "source": [
        "top_corr_angels = (\"k1b\", \"k1c\")\n",
        "top_corr_demons = (\"k1e\", \"k1f\")"
      ]
    },
    {
      "cell_type": "markdown",
      "metadata": {
        "deletable": false,
        "editable": false,
        "nbgrader": {
          "cell_type": "markdown",
          "checksum": "7a7df45c4a71172c69544a9c20dcf790",
          "grade": false,
          "grade_id": "cell-c1c9ce54e1c34630",
          "locked": true,
          "schema_version": 3,
          "solution": false,
          "task": false
        },
        "id": "PPRKAzs08aqx"
      },
      "source": [
        "Как думаете, какие задачи было тяжелее всего списать? "
      ]
    },
    {
      "cell_type": "code",
      "source": [
        "fig, axes = plt.subplots(1,6, figsize = (20,2))\n",
        "for i, k in enumerate(tasks):\n",
        "    sns.histplot(demons[k], ax = axes[i], alpha = 0.4, color = \"orange\")"
      ],
      "metadata": {
        "colab": {
          "base_uri": "https://localhost:8080/",
          "height": 196
        },
        "id": "2kgtyu4IZIs6",
        "outputId": "79ea31d0-64ff-494c-f83f-601c0755b546"
      },
      "execution_count": 115,
      "outputs": [
        {
          "output_type": "display_data",
          "data": {
            "text/plain": [
              "<Figure size 2000x200 with 6 Axes>"
            ],
            "image/png": "[encoded data removed]"
          },
          "metadata": {}
        }
      ]
    },
    {
      "cell_type": "markdown",
      "source": [
        "**ОТВЕТ:** Похоже, что k1d и k1b"
      ],
      "metadata": {
        "id": "SoYz0XVoYW90"
      }
    },
    {
      "cell_type": "markdown",
      "metadata": {
        "deletable": false,
        "editable": false,
        "nbgrader": {
          "cell_type": "markdown",
          "checksum": "e6ab5253dba5643bd1bf843ac2058c6e",
          "grade": false,
          "grade_id": "cell-883157a3a5a40be9",
          "locked": true,
          "schema_version": 3,
          "solution": false,
          "task": false
        },
        "id": "PiTrWVMQ8aqx"
      },
      "source": [
        "__ё) Доля написавших третью контрольную.__\n",
        "\n",
        "Без буквы `ё` никуда, скажут нам [Пафнутий Чебышёв](https://ru.wikipedia.org/wiki/%D0%A7%D0%B5%D0%B1%D1%8B%D1%88%D1%91%D0%B2,_%D0%9F%D0%B0%D1%84%D0%BD%D1%83%D1%82%D0%B8%D0%B9_%D0%9B%D1%8C%D0%B2%D0%BE%D0%B2%D0%B8%D1%87) и [Лёв Толстой](https://arzamas.academy/special/ruslit/writers/tolstoy).  \n",
        "\n",
        "У студентов был выбор: писать или не писать третью контрольную. Если в колонке `k3` стоит $0$, значит студент не стал это делать. Постройте асимптотический $95\\%$-й доверительный интервал для разницы долей Ангелов и Демонов, которые решили писать третью контрольную. \n",
        "\n",
        "__Примечание:__ На практике, если мы пользуемся асимптотическими доверительными интервалами, мы можем искать границы двумя способами:\n",
        "\n",
        "* __Первый__ состоит в том, что мы оцениваем стандартное отклонение с помощью $\\sqrt{\\hat{p} \\cdot (1 - \\hat{p})} = \\sqrt{\\frac{1}{n} \\cdot \\sum_{i=1}^n (x_i - \\bar{x})^2}$. \n",
        "* __Второй способ__ состоит в том, чтобы оценить стандартное отклонение как  $\\sqrt{\\frac{1}{n-1} \\cdot \\sum_{i=1}^n (x_i - \\bar{x})^2}$. \n",
        "\n",
        "В плане асимптотики это не влияет на выводы, так как обе этих оценки состоятельно оценивают дисперсию. Можно пользоваться любым. Однако, чтобы с грейдером не было проблем и задание зачлось, воспользуйтесь первым способом. "
      ]
    },
    {
      "cell_type": "code",
      "execution_count": 120,
      "metadata": {
        "deletable": false,
        "nbgrader": {
          "cell_type": "code",
          "checksum": "04a67297c1a4265eb642c8657a9dc8c6",
          "grade": false,
          "grade_id": "cell-27c36da495c9f1b9",
          "locked": false,
          "schema_version": 3,
          "solution": true,
          "task": false
        },
        "id": "35VcGnbc8aqx",
        "colab": {
          "base_uri": "https://localhost:8080/"
        },
        "outputId": "a88e0a46-71ba-4f3e-b323-c9434e593997"
      },
      "outputs": [
        {
          "output_type": "stream",
          "name": "stdout",
          "text": [
            "left side = -0.1884946955049297\n",
            "right side = 0.03341212669759032\n",
            "delta = 0.22190682220252\n"
          ]
        }
      ],
      "source": [
        "na, nd = angels.shape[0], demons.shape[0]\n",
        "\n",
        "angels_k3 = df[(df.fraud == 0)&(df.k3 != 0)]\n",
        "demons_k3 =  df[(df.fraud > 0)&(df.k3 != 0)]\n",
        "angels_mu_hat = angels_k3.shape[0] / na\n",
        "demons_mu_hat = demons_k3.shape[0]/ nd\n",
        "mu_hat = angels_mu_hat - demons_mu_hat\n",
        "\n",
        "std_hat = np.sqrt(angels_mu_hat * (1 - angels_mu_hat)/na + demons_mu_hat * (1 - demons_mu_hat)/nd)\n",
        "\n",
        "alpha = 0.05\n",
        "left, right = stats.norm.interval(1 - alpha, loc = mu_hat, scale = std_hat)\n",
        "delta = right-left\n",
        "print(\"left side =\", left)\n",
        "print(\"right side =\", right)\n",
        "print( \"delta =\", delta)"
      ]
    },
    {
      "cell_type": "code",
      "execution_count": null,
      "metadata": {
        "deletable": false,
        "editable": false,
        "nbgrader": {
          "cell_type": "code",
          "checksum": "a2f3f3298bd64ba91c05198dca9dd9f2",
          "grade": true,
          "grade_id": "cell-8e20dc8eae1d7215",
          "locked": true,
          "points": 1,
          "schema_version": 3,
          "solution": false,
          "task": false
        },
        "id": "wQuqewi08aqx"
      },
      "outputs": [],
      "source": [
        "# проверка, что границы доверительного интервала найдены верно\n",
        "assert np.abs(left + 0.1885) < 1e-3"
      ]
    },
    {
      "cell_type": "markdown",
      "metadata": {
        "deletable": false,
        "editable": false,
        "nbgrader": {
          "cell_type": "markdown",
          "checksum": "305582da29ec7a31d2f90c0f06fb9651",
          "grade": false,
          "grade_id": "cell-e474bad5c9133fa8",
          "locked": true,
          "schema_version": 3,
          "solution": false,
          "task": false
        },
        "id": "cdOURFk48aqx"
      },
      "source": [
        "Входит ли в доверительный интервал ноль? Как думаете, что это означает? "
      ]
    },
    {
      "cell_type": "markdown",
      "source": [
        "**ОТВЕТ:** Да, ноль вошел в доверительный интервал, что означает, что мы не отвергаем гипотезу о равенстве средних для долей Ангелов и Демонов, которые писали третью контрольную"
      ],
      "metadata": {
        "id": "Vv3WaY8IcfUI"
      }
    },
    {
      "cell_type": "markdown",
      "metadata": {
        "deletable": false,
        "editable": false,
        "nbgrader": {
          "cell_type": "markdown",
          "checksum": "85e3ab45a0c0e7a5455403c2f2824bb3",
          "grade": false,
          "grade_id": "cell-0e6bd521a8522d4b",
          "locked": true,
          "schema_version": 3,
          "solution": false,
          "task": false
        },
        "id": "hZTLNUeV8aqy"
      },
      "source": [
        "__ж) Снова разница средних__ \n",
        "\n",
        "Посмотрим на результаты студентов в динамике. Постройте точный $95\\%$ доверительный интервал для средней разницы оценок за вторую и первую контрольные. Пропуски в данных заполните нулями. "
      ]
    },
    {
      "cell_type": "code",
      "execution_count": 121,
      "metadata": {
        "deletable": false,
        "nbgrader": {
          "cell_type": "code",
          "checksum": "00506bb1365beb2e76ed5c4f0d126019",
          "grade": false,
          "grade_id": "cell-0781fc2725266cb8",
          "locked": false,
          "schema_version": 3,
          "solution": true,
          "task": false
        },
        "id": "W-frONAM8aqy",
        "colab": {
          "base_uri": "https://localhost:8080/"
        },
        "outputId": "2f970a49-05e2-403d-8163-80b359c99db5"
      },
      "outputs": [
        {
          "output_type": "stream",
          "name": "stdout",
          "text": [
            "left side = -1.4562881732820105\n",
            "right side = -0.7072079706768586\n",
            "delta = 0.749080202605152\n"
          ]
        }
      ],
      "source": [
        "k1 = df['k1'].fillna(0)\n",
        "k2 = df['k2'].fillna(0)\n",
        "diff = k2 - k1\n",
        "\n",
        "alpha = 0.05\n",
        "t_rv = stats.t(k1.size - 1)\n",
        "t_crit = t_rv.ppf(1 - alpha/2)\n",
        "\n",
        "left = diff.mean() - t_crit * diff.std(ddof=1) / np.sqrt(diff.size)\n",
        "right = diff.mean() + t_crit * diff.std(ddof=1)/np.sqrt(diff.size)\n",
        "delta = right - left \n",
        "print(\"left side =\", left)\n",
        "print(\"right side =\", right)\n",
        "print( \"delta =\", delta)"
      ]
    },
    {
      "cell_type": "code",
      "execution_count": 122,
      "metadata": {
        "deletable": false,
        "editable": false,
        "nbgrader": {
          "cell_type": "code",
          "checksum": "e83675f27e578b2b047e25e1f75c7bd4",
          "grade": true,
          "grade_id": "cell-ca8717f63e57ee77",
          "locked": true,
          "points": 1,
          "schema_version": 3,
          "solution": false,
          "task": false
        },
        "id": "3fUI_Wzj8aqy"
      },
      "outputs": [],
      "source": [
        "# проверка, что границы доверительного интервала найдены верно\n",
        "assert np.abs(left + 1.4562881732820103) < 1e-5"
      ]
    },
    {
      "cell_type": "markdown",
      "metadata": {
        "deletable": false,
        "editable": false,
        "nbgrader": {
          "cell_type": "markdown",
          "checksum": "9e70820055d9cf699f61b64bdee48755",
          "grade": false,
          "grade_id": "cell-d60ae7faf8d2aa78",
          "locked": true,
          "schema_version": 3,
          "solution": false,
          "task": false
        },
        "id": "lPYjsS988aqz"
      },
      "source": [
        "Входит ли в доверительный интервал ноль? Как думаете, что это означает? "
      ]
    },
    {
      "cell_type": "markdown",
      "source": [
        "**ОТВЕТ:** Нет, ноль не вошел в доверительный интервал. В среднем, на уровне значимости 5%, оценки за первую контрольную были хуже, чем за вторую"
      ],
      "metadata": {
        "id": "MQVVZc3odwq0"
      }
    },
    {
      "cell_type": "markdown",
      "metadata": {
        "deletable": false,
        "editable": false,
        "nbgrader": {
          "cell_type": "markdown",
          "checksum": "077635f824d87fa65f1974a77ad1e58f",
          "grade": false,
          "grade_id": "cell-701c121e9d85cfbe",
          "locked": true,
          "schema_version": 3,
          "solution": false,
          "task": false
        },
        "id": "ltYV7WhS8aqz"
      },
      "source": [
        "Это домашка подошла к концу. Поздравляю! Теперь вы умеете строить точные доверительные интервалы для нормальных выборок."
      ]
    }
  ],
  "metadata": {
    "kernelspec": {
      "display_name": "Python 3",
      "language": "python",
      "name": "python3"
    },
    "language_info": {
      "codemirror_mode": {
        "name": "ipython",
        "version": 3
      },
      "file_extension": ".py",
      "mimetype": "text/x-python",
      "name": "python",
      "nbconvert_exporter": "python",
      "pygments_lexer": "ipython3",
      "version": "3.8.5"
    },
    "colab": {
      "provenance": []
    }
  },
  "nbformat": 4,
  "nbformat_minor": 0
}
