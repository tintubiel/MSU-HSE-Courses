{
  "cells": [
    {
      "cell_type": "markdown",
      "metadata": {
        "id": "mpBYFuaWgr2A"
      },
      "source": [
        "<center>\n",
        "<img src=\"logo.png\" height=\"900\"> \n",
        "</center>\n",
        "\n",
        "\n",
        "# Много гипотез"
      ]
    },
    {
      "cell_type": "markdown",
      "metadata": {
        "id": "DwM60RQVgr2F"
      },
      "source": [
        "В этом домашнем задании мы будем проверять гипотезы. Всего в этой лабораторной работе $7$ задач. "
      ]
    },
    {
      "cell_type": "code",
      "execution_count": 93,
      "metadata": {
        "id": "xfMWxtp6gr2F"
      },
      "outputs": [],
      "source": [
        "import numpy as np\n",
        "import pandas as pd\n",
        "\n",
        "from scipy import stats as sts\n",
        "\n",
        "import seaborn as sns\n",
        "import matplotlib.pyplot as plt\n",
        "\n",
        "plt.style.use('ggplot')\n",
        "%matplotlib inline\n",
        "\n",
        "COLLAB = False"
      ]
    },
    {
      "cell_type": "markdown",
      "metadata": {
        "id": "AVQfsLaCgr2H"
      },
      "source": [
        "## Задание 1 (мудрость)\n",
        "\n",
        "> Помните, что для человека звук его имени является самым сладким и самым важным звуком человеческой речи. (Дейл Карнеги)\n",
        "\n",
        "Доверяй, но проверяй. Решим задачку по психологии! Все цитаты в пабликах вконтакте делятся на два вида: мудрые и недостаточно мудрые. Если цитата мудрая, то её можно лайкнуть. Поговаривают, что если в цитате есть личные местоимения, то пользователь автоматически сопоставляет себя автору этой цитаты и вероятность того, что она будет лайкнута, повышается. Например, цитату \n",
        "\n",
        "> Можно простить человеку все, кроме отсутствия. (Экзюпери) \n",
        "\n",
        "мне не очень хотелось бы лайкать. А вот цитата \n",
        "\n",
        "> Мне наплевать, что вы обо мне думаете. Я о вас вообще не думаю. (Булгаков) \n",
        "\n",
        "совершенно другое дело. \n",
        "\n",
        "В табличке `df_vk_wise` лежат данные о мудрых цитатах из [мудрого паблика.](https://vk.com/ooioioioioioo) В колонке `I` находится переменная, которая принимает значение `True`, когда в тексте цитаты было личное местоимение \"Я\".\n",
        "\n",
        "Срежем первые $50$ постов, так как под ними количество репостов и лайков ещё окончательно не выставлено, и будем работать с остатками. "
      ]
    },
    {
      "cell_type": "code",
      "source": [
        "if COLLAB:\n",
        "    from google.colab import drive\n",
        "    drive.mount('/content/gdrive')\n",
        "    df = pd.read_csv('/content/gdrive/MyDrive/DA/4/df_vk_wise.csv')[50:]\n",
        "else:\n",
        "    df = pd.read_csv('df_vk_wise.csv')[50:]\n",
        "print(df.shape)\n",
        "df.head()"
      ],
      "metadata": {
        "colab": {
          "base_uri": "https://localhost:8080/",
          "height": 242
        },
        "id": "EGc5NS5HhIbC",
        "outputId": "82392e0a-5d95-479b-e144-086e073b4b41"
      },
      "execution_count": 94,
      "outputs": [
        {
          "output_type": "stream",
          "name": "stdout",
          "text": [
            "Drive already mounted at /content/gdrive; to attempt to forcibly remount, call drive.mount(\"/content/gdrive\", force_remount=True).\n",
            "(9075, 4)\n"
          ]
        },
        {
          "output_type": "execute_result",
          "data": {
            "text/plain": [
              "    likes  reposts                                               text      I\n",
              "50    549       25  Я, говорит, люблю человечество, но дивлюсь на ...   True\n",
              "51    607       22  Нельзя любить то, что я люблю, да ещё так, как...   True\n",
              "52    914       37  Если испытываешь по-настоящему глубокое чувств...  False\n",
              "53    989       34  — Я тебя люблю, — сказал я. \\n— Это пройдет, —...   True\n",
              "54   1229       32  Он очаровательно рассказывает мне о том, как о...  False"
            ],
            "text/html": [
              "\n",
              "  <div id=\"df-bffb96c6-64ed-4e6a-85ce-2969beb863b1\">\n",
              "    <div class=\"colab-df-container\">\n",
              "      <div>\n",
              "<style scoped>\n",
              "    .dataframe tbody tr th:only-of-type {\n",
              "        vertical-align: middle;\n",
              "    }\n",
              "\n",
              "    .dataframe tbody tr th {\n",
              "        vertical-align: top;\n",
              "    }\n",
              "\n",
              "    .dataframe thead th {\n",
              "        text-align: right;\n",
              "    }\n",
              "</style>\n",
              "<table border=\"1\" class=\"dataframe\">\n",
              "  <thead>\n",
              "    <tr style=\"text-align: right;\">\n",
              "      <th></th>\n",
              "      <th>likes</th>\n",
              "      <th>reposts</th>\n",
              "      <th>text</th>\n",
              "      <th>I</th>\n",
              "    </tr>\n",
              "  </thead>\n",
              "  <tbody>\n",
              "    <tr>\n",
              "      <th>50</th>\n",
              "      <td>549</td>\n",
              "      <td>25</td>\n",
              "      <td>Я, говорит, люблю человечество, но дивлюсь на ...</td>\n",
              "      <td>True</td>\n",
              "    </tr>\n",
              "    <tr>\n",
              "      <th>51</th>\n",
              "      <td>607</td>\n",
              "      <td>22</td>\n",
              "      <td>Нельзя любить то, что я люблю, да ещё так, как...</td>\n",
              "      <td>True</td>\n",
              "    </tr>\n",
              "    <tr>\n",
              "      <th>52</th>\n",
              "      <td>914</td>\n",
              "      <td>37</td>\n",
              "      <td>Если испытываешь по-настоящему глубокое чувств...</td>\n",
              "      <td>False</td>\n",
              "    </tr>\n",
              "    <tr>\n",
              "      <th>53</th>\n",
              "      <td>989</td>\n",
              "      <td>34</td>\n",
              "      <td>— Я тебя люблю, — сказал я. \\n— Это пройдет, —...</td>\n",
              "      <td>True</td>\n",
              "    </tr>\n",
              "    <tr>\n",
              "      <th>54</th>\n",
              "      <td>1229</td>\n",
              "      <td>32</td>\n",
              "      <td>Он очаровательно рассказывает мне о том, как о...</td>\n",
              "      <td>False</td>\n",
              "    </tr>\n",
              "  </tbody>\n",
              "</table>\n",
              "</div>\n",
              "      <button class=\"colab-df-convert\" onclick=\"convertToInteractive('df-bffb96c6-64ed-4e6a-85ce-2969beb863b1')\"\n",
              "              title=\"Convert this dataframe to an interactive table.\"\n",
              "              style=\"display:none;\">\n",
              "        \n",
              "  <svg xmlns=\"http://www.w3.org/2000/svg\" height=\"24px\"viewBox=\"0 0 24 24\"\n",
              "       width=\"24px\">\n",
              "    <path d=\"M0 0h24v24H0V0z\" fill=\"none\"/>\n",
              "    <path d=\"M18.56 5.44l.94 2.06.94-2.06 2.06-.94-2.06-.94-.94-2.06-.94 2.06-2.06.94zm-11 1L8.5 8.5l.94-2.06 2.06-.94-2.06-.94L8.5 2.5l-.94 2.06-2.06.94zm10 10l.94 2.06.94-2.06 2.06-.94-2.06-.94-.94-2.06-.94 2.06-2.06.94z\"/><path d=\"M17.41 7.96l-1.37-1.37c-.4-.4-.92-.59-1.43-.59-.52 0-1.04.2-1.43.59L10.3 9.45l-7.72 7.72c-.78.78-.78 2.05 0 2.83L4 21.41c.39.39.9.59 1.41.59.51 0 1.02-.2 1.41-.59l7.78-7.78 2.81-2.81c.8-.78.8-2.07 0-2.86zM5.41 20L4 18.59l7.72-7.72 1.47 1.35L5.41 20z\"/>\n",
              "  </svg>\n",
              "      </button>\n",
              "      \n",
              "  <style>\n",
              "    .colab-df-container {\n",
              "      display:flex;\n",
              "      flex-wrap:wrap;\n",
              "      gap: 12px;\n",
              "    }\n",
              "\n",
              "    .colab-df-convert {\n",
              "      background-color: #E8F0FE;\n",
              "      border: none;\n",
              "      border-radius: 50%;\n",
              "      cursor: pointer;\n",
              "      display: none;\n",
              "      fill: #1967D2;\n",
              "      height: 32px;\n",
              "      padding: 0 0 0 0;\n",
              "      width: 32px;\n",
              "    }\n",
              "\n",
              "    .colab-df-convert:hover {\n",
              "      background-color: #E2EBFA;\n",
              "      box-shadow: 0px 1px 2px rgba(60, 64, 67, 0.3), 0px 1px 3px 1px rgba(60, 64, 67, 0.15);\n",
              "      fill: #174EA6;\n",
              "    }\n",
              "\n",
              "    [theme=dark] .colab-df-convert {\n",
              "      background-color: #3B4455;\n",
              "      fill: #D2E3FC;\n",
              "    }\n",
              "\n",
              "    [theme=dark] .colab-df-convert:hover {\n",
              "      background-color: #434B5C;\n",
              "      box-shadow: 0px 1px 3px 1px rgba(0, 0, 0, 0.15);\n",
              "      filter: drop-shadow(0px 1px 2px rgba(0, 0, 0, 0.3));\n",
              "      fill: #FFFFFF;\n",
              "    }\n",
              "  </style>\n",
              "\n",
              "      <script>\n",
              "        const buttonEl =\n",
              "          document.querySelector('#df-bffb96c6-64ed-4e6a-85ce-2969beb863b1 button.colab-df-convert');\n",
              "        buttonEl.style.display =\n",
              "          google.colab.kernel.accessAllowed ? 'block' : 'none';\n",
              "\n",
              "        async function convertToInteractive(key) {\n",
              "          const element = document.querySelector('#df-bffb96c6-64ed-4e6a-85ce-2969beb863b1');\n",
              "          const dataTable =\n",
              "            await google.colab.kernel.invokeFunction('convertToInteractive',\n",
              "                                                     [key], {});\n",
              "          if (!dataTable) return;\n",
              "\n",
              "          const docLinkHtml = 'Like what you see? Visit the ' +\n",
              "            '<a target=\"_blank\" href=https://colab.research.google.com/notebooks/data_table.ipynb>data table notebook</a>'\n",
              "            + ' to learn more about interactive tables.';\n",
              "          element.innerHTML = '';\n",
              "          dataTable['output_type'] = 'display_data';\n",
              "          await google.colab.output.renderOutput(dataTable, element);\n",
              "          const docLink = document.createElement('div');\n",
              "          docLink.innerHTML = docLinkHtml;\n",
              "          element.appendChild(docLink);\n",
              "        }\n",
              "      </script>\n",
              "    </div>\n",
              "  </div>\n",
              "  "
            ]
          },
          "metadata": {},
          "execution_count": 94
        }
      ]
    },
    {
      "cell_type": "markdown",
      "metadata": {
        "id": "sYyLZpkLgr2I"
      },
      "source": [
        "Постройте гистограмму для числа лайков постов, содержащих личные местоимения и не содержащих. Как думаете, есть ли с распределением лайков какие-то проблемы?"
      ]
    },
    {
      "cell_type": "code",
      "execution_count": 95,
      "metadata": {
        "deletable": false,
        "nbgrader": {
          "cell_type": "code",
          "checksum": "3959fa2c8afbb37a435b22f39831c1b4",
          "grade": false,
          "grade_id": "cell-5b1acf05ccd983b3",
          "locked": false,
          "schema_version": 3,
          "solution": true,
          "task": false
        },
        "colab": {
          "base_uri": "https://localhost:8080/",
          "height": 415
        },
        "id": "Q1PwUa_Pgr2I",
        "outputId": "76e741f1-77aa-4912-8ac8-d8769e91f9bf"
      },
      "outputs": [
        {
          "output_type": "display_data",
          "data": {
            "text/plain": [
              "<Figure size 1200x400 with 2 Axes>"
            ],
            "image/png": "[encoded data removed]"
          },
          "metadata": {}
        }
      ],
      "source": [
        "fig, axes = plt.subplots(1,2, figsize = (12,4))\n",
        "title = [\"With I\", \"Without I\"]\n",
        "color = [\"cyan\", \"pink\"]\n",
        "\n",
        "for i,x in enumerate([True, False]):\n",
        "    sns.histplot(df[df['I'] == x]['likes'], bins = 30, color = color[i], alpha=0.4, ax = axes[i]).set(title=title[i])\n",
        "plt.show()"
      ]
    },
    {
      "cell_type": "markdown",
      "metadata": {
        "id": "m6hg-oDlgr2J"
      },
      "source": [
        "Да, проблемы есть. Это выбросы. Хвосты на гистограммах оказываются очень длинными. Найдите медианы и средние для числа лайков. Сравните их между собой. "
      ]
    },
    {
      "cell_type": "code",
      "execution_count": 96,
      "metadata": {
        "deletable": false,
        "nbgrader": {
          "cell_type": "code",
          "checksum": "920d011f18252d1f5ad8a0acbd77af8b",
          "grade": false,
          "grade_id": "cell-84afb85a40373b11",
          "locked": false,
          "schema_version": 3,
          "solution": true,
          "task": false
        },
        "colab": {
          "base_uri": "https://localhost:8080/"
        },
        "id": "cccYw8BAgr2J",
        "outputId": "eef682b0-e73e-47f5-e153-2ba1fd23ffa3"
      },
      "outputs": [
        {
          "output_type": "stream",
          "name": "stdout",
          "text": [
            "With I\n",
            "median 2588.5 , mean 2879.1828885400314\n",
            "\n",
            "Without I\n",
            "median 2497.0 , mean 2784.0432051478474\n",
            "\n"
          ]
        }
      ],
      "source": [
        "for i,x in enumerate([True, False]):\n",
        "    print(title[i])\n",
        "    print(\"median\", df[df['I'] == x]['likes'].median(),\", mean\", df[df['I'] == x]['likes'].mean())\n",
        "    print()"
      ]
    },
    {
      "cell_type": "markdown",
      "metadata": {
        "id": "khxnjGgfgr2J"
      },
      "source": [
        "Проверьте гипотезу о равенстве среднего числа лайков. Используйте для этого $z$-тест, основанный на ЦПТ. Дисперсию расчитывайте по выборке, используя несмещённую оценку `(ddof=1)`. Запишите наблюдаемое значение статистики в переменную `z_obs`. "
      ]
    },
    {
      "cell_type": "code",
      "execution_count": 97,
      "metadata": {
        "deletable": false,
        "nbgrader": {
          "cell_type": "code",
          "checksum": "7f93ee1688388c6a8b8449e05da2fe98",
          "grade": false,
          "grade_id": "cell-1acfb89f07181a0a",
          "locked": false,
          "schema_version": 3,
          "solution": true,
          "task": false
        },
        "colab": {
          "base_uri": "https://localhost:8080/"
        },
        "id": "yvNihuIZgr2K",
        "outputId": "91daef6e-4cc3-4812-cfa7-d2989e48befd"
      },
      "outputs": [
        {
          "output_type": "stream",
          "name": "stdout",
          "text": [
            "z_obs =  2.6644610922505323\n"
          ]
        }
      ],
      "source": [
        "alpha = 0.05 \n",
        "df_true = df[df['I'] == True]['likes']\n",
        "df_false = df[df['I'] == False]['likes']\n",
        " \n",
        "mean = df_true.mean() - df_false.mean()\n",
        "std = np.sqrt(df_true.var(ddof=1) / df_true.size + df_false.var(ddof=1) / df_false.size)\n",
        "\n",
        "alpha = 0.05 \n",
        "\n",
        "z_obs = mean / std\n",
        "print(\"z_obs = \", z_obs)"
      ]
    },
    {
      "cell_type": "markdown",
      "metadata": {
        "id": "WDNg2xaHgr2K"
      },
      "source": [
        "Найдите критическое значение статистики. Сравните его с наблюдаемым. Рассчитайте p-value для ситуации с двусторонней альтернативой. Сделайте вывод о выдвинутой гипотезе. Критическое значение статистики запишите в переменную `z_crit`, а p-значение в переменную `pval`. "
      ]
    },
    {
      "cell_type": "code",
      "execution_count": 98,
      "metadata": {
        "deletable": false,
        "nbgrader": {
          "cell_type": "code",
          "checksum": "46bd437560b80a2b837cc3e7d7415f62",
          "grade": false,
          "grade_id": "cell-9ebff976022e649a",
          "locked": false,
          "schema_version": 3,
          "solution": true,
          "task": false
        },
        "id": "YPgxTQS2gr2K",
        "colab": {
          "base_uri": "https://localhost:8080/"
        },
        "outputId": "3ea42fc2-9d9f-4ce0-e888-bcfffc3d492a"
      },
      "outputs": [
        {
          "output_type": "stream",
          "name": "stdout",
          "text": [
            "z_crit =  1.959963984540054\n",
            "pval =  0.007711178605442903\n"
          ]
        }
      ],
      "source": [
        "z_crit = sts.norm().ppf(1 - alpha/2)\n",
        "pval = 2 * (1 - sts.norm().cdf(z_obs))\n",
        "\n",
        "print(\"z_crit = \", z_crit)\n",
        "print(\"pval = \", pval)"
      ]
    },
    {
      "cell_type": "markdown",
      "source": [
        "**ОТВЕТ:** Наблюдаемое значение больше критического. На уровне значимости 5% гипотеза  о равенстве средних отвергается"
      ],
      "metadata": {
        "id": "Z70Fnd_XnVAl"
      }
    },
    {
      "cell_type": "code",
      "execution_count": 99,
      "metadata": {
        "deletable": false,
        "editable": false,
        "nbgrader": {
          "cell_type": "code",
          "checksum": "2a9b5192c35b42a4c281ed60e5bd03ec",
          "grade": true,
          "grade_id": "cell-839825aaa8c13ab0",
          "locked": true,
          "points": 1,
          "schema_version": 3,
          "solution": false,
          "task": false
        },
        "id": "CebZDDglgr2L"
      },
      "outputs": [],
      "source": [
        "# проверка того, что задание решено верно\n",
        "assert np.abs(z_obs - 2.6644610922505323) < 1e-5"
      ]
    },
    {
      "cell_type": "markdown",
      "metadata": {
        "id": "FO8htSh6gr2L"
      },
      "source": [
        "Можно заметить, что у распределения числа репостов длинные хвосты. В данных есть выбросы, которые завышают среднее значение. Если выбросы сильные, то ЦПТ может ломаться. Из-за этого имеет смысл в данном случае проверять гипотезу о равенстве медиан, которые устойчивы к выбросам.\n",
        "\n",
        "-------------------"
      ]
    },
    {
      "cell_type": "markdown",
      "metadata": {
        "id": "1eFZV570gr2L"
      },
      "source": [
        "## Задание 2  (Тайлер) \n",
        "\n",
        "__Люди всё время меня спрашивают, знаю ли я Тайлера Дёрдена?__ Да, знаю. Он делает лучшее мыло в стране. \n",
        "\n",
        "__а)__ Тайлер считает партию изделий хорошей, если дисперсия размера не превышает $25$ грамм$^2$. Пока Тайлер летел в самолёте, он измерил $10$ кусков мыла. Выборочная дисперсия оказалась равна $27$ грамм$^2$. Можно ли продавать эту партию или её надо списать в брак? \n",
        "\n",
        "При проверке этой гипотезы найдите $p$-значение и запишите его в переменную `pval1`. Наблюдаемое значение статистики запишите в переменную `chi_obs`. Используйте уровень значимости $1\\%$."
      ]
    },
    {
      "cell_type": "code",
      "execution_count": 100,
      "metadata": {
        "deletable": false,
        "nbgrader": {
          "cell_type": "code",
          "checksum": "9b8826d6e3062cc4de98fdd59e1d6ca9",
          "grade": false,
          "grade_id": "cell-2e30e820f90148d5",
          "locked": false,
          "schema_version": 3,
          "solution": true,
          "task": false
        },
        "id": "bNuWw8wmgr2L",
        "colab": {
          "base_uri": "https://localhost:8080/"
        },
        "outputId": "419a54bb-19b6-4c4d-c0b2-9f3ea4d9abd1"
      },
      "outputs": [
        {
          "output_type": "stream",
          "name": "stdout",
          "text": [
            "chi_obs =  9.72\n",
            "chi_crit =  21.665994333461924\n",
            "pval1 =  0.37362476510008014\n"
          ]
        }
      ],
      "source": [
        "var_exp = 25\n",
        "var_obs = 27\n",
        "n = 10\n",
        "\n",
        "alpha = 0.01\n",
        "chi_obs = (n - 1) *  var_obs/var_exp\n",
        "chi_crit = sts.chi2(n - 1).ppf(1 - alpha)\n",
        "pval1 = 1 - sts.chi2.cdf(chi_obs, n - 1)\n",
        "\n",
        "print(\"chi_obs = \", chi_obs)\n",
        "print(\"chi_crit = \", chi_crit)\n",
        "print(\"pval1 = \", pval1)"
      ]
    },
    {
      "cell_type": "markdown",
      "source": [
        "**ОТВЕТ:** Наблюдаемое значение меньше критического. На уровне значимости 1% нет оснований отвергать гипотезу о равенстве дисперсий"
      ],
      "metadata": {
        "id": "zKkTNbXHnqV_"
      }
    },
    {
      "cell_type": "markdown",
      "metadata": {
        "id": "XnE7NSDTgr2L"
      },
      "source": [
        "__б)__ Для того, чтобы уменьшить количество бракованного мыла, Тайлер собирается внедрить новую технологию производства. Тайлер произвёл по старой технологии $100$ кусков мыла. Стандартное отклонение этой партии составило $6$ грамм. Для  новой технологии стандартное отклонение, посчитанное по $100$ кускам мыла, составило $5$ грамм. Правда ли, что новая технология обладает меньшей дисперсией и её нужно внедрить на производстве?\n",
        "\n",
        "При проверке этой гипотезы найдите $p$-значение и запишите его в переменную `pval2`. Используйте уровень значимости $1\\%$."
      ]
    },
    {
      "cell_type": "code",
      "execution_count": 101,
      "metadata": {
        "deletable": false,
        "nbgrader": {
          "cell_type": "code",
          "checksum": "72a130a7ef8f3bae0797aa938d6cfe08",
          "grade": false,
          "grade_id": "cell-88a96be4941d7e62",
          "locked": false,
          "schema_version": 3,
          "solution": true,
          "task": false
        },
        "id": "Ix8si6KBgr2M",
        "colab": {
          "base_uri": "https://localhost:8080/"
        },
        "outputId": "f33851eb-a272-48f5-c49e-c3dc752d8269"
      },
      "outputs": [
        {
          "output_type": "stream",
          "name": "stdout",
          "text": [
            "F_obs =  1.44\n",
            "F_crit =  1.601498294840046\n",
            "pval2 =  0.03557344796202422\n"
          ]
        }
      ],
      "source": [
        "std_old = 6\n",
        "std_new = 5\n",
        "n = 100\n",
        "\n",
        "alpha = 0.01\n",
        "F_obs = std_old ** 2 / std_new ** 2\n",
        "F_crit = sts.f(n - 1, n - 1).ppf(1 - alpha)\n",
        "pval2 = 1 - sts.f(n - 1, n - 1).cdf(F_obs)\n",
        "\n",
        "print(\"F_obs = \", F_obs )\n",
        "print(\"F_crit = \", F_crit)\n",
        "print(\"pval2 = \", pval2)"
      ]
    },
    {
      "cell_type": "markdown",
      "source": [
        "**ОТВЕТ:** Наблюдаемое значение меньше критического. На уровне значимости 1% нет оснований отвергать гипотезу о равенстве дисперсий"
      ],
      "metadata": {
        "id": "XD3W7jyQp9Bn"
      }
    },
    {
      "cell_type": "code",
      "execution_count": 102,
      "metadata": {
        "deletable": false,
        "editable": false,
        "nbgrader": {
          "cell_type": "code",
          "checksum": "b1739595ab5d48865bfc97bafc11bc33",
          "grade": true,
          "grade_id": "cell-167632eabf2289bb",
          "locked": true,
          "points": 1,
          "schema_version": 3,
          "solution": false,
          "task": false
        },
        "id": "2u5ke2Cfgr2M"
      },
      "outputs": [],
      "source": [
        "# проверка того, что задание решено верно\n",
        "assert np.abs(chi_obs - 9.72) < 1e-1\n",
        "assert np.abs(F_obs - 1.44) < 1e-1"
      ]
    },
    {
      "cell_type": "markdown",
      "metadata": {
        "id": "NjZM768Qgr2M"
      },
      "source": [
        "## Задание 3 (рейтинги президентов) \n",
        "\n",
        "В таблице `presidents.csv` представлены рейтинги различных президентов США. Социальные опросы проводились раз в квартал. Опрашивалась случайная выборка граждан. У каждого спрашивалось одобряет ли он деятельность президента.\n",
        "\n",
        "__Люди всё время меня спрашивают, знаю ли я Никсона.__ Да, Ричард Никсон был президентом США с 20 января 1969 года по 9 августа 1974 года. 17 июня 1972 года произошёл Уотергейтский скандал. Давайте проанализируем, что при этом произошло с его рейтингом."
      ]
    },
    {
      "cell_type": "code",
      "source": [
        "if COLLAB:\n",
        "    from google.colab import drive\n",
        "    drive.mount('/content/gdrive')\n",
        "    df = pd.read_csv('/content/gdrive/MyDrive/DA/4/presidents.csv')\n",
        "else:\n",
        "    df = pd.read_csv('presidents.csv')\n",
        "\n",
        "print(df.shape)\n",
        "df.head()"
      ],
      "metadata": {
        "colab": {
          "base_uri": "https://localhost:8080/",
          "height": 242
        },
        "id": "gcwkbsgzmmp-",
        "outputId": "d1470070-8920-43ba-aa45-ebf61139b696"
      },
      "execution_count": 103,
      "outputs": [
        {
          "output_type": "stream",
          "name": "stdout",
          "text": [
            "Drive already mounted at /content/gdrive; to attempt to forcibly remount, call drive.mount(\"/content/gdrive\", force_remount=True).\n",
            "(30, 5)\n"
          ]
        },
        {
          "output_type": "execute_result",
          "data": {
            "text/plain": [
              "   year  Qtr1  Qtr2  Qtr3  Qtr4\n",
              "0  1945   NaN    87  82.0  75.0\n",
              "1  1946  63.0    50  43.0  32.0\n",
              "2  1947  35.0    60  54.0  55.0\n",
              "3  1948  36.0    39   NaN   NaN\n",
              "4  1949  69.0    57  57.0  51.0"
            ],
            "text/html": [
              "\n",
              "  <div id=\"df-417e2a09-15ff-4fc9-bdec-129aaa71dc24\">\n",
              "    <div class=\"colab-df-container\">\n",
              "      <div>\n",
              "<style scoped>\n",
              "    .dataframe tbody tr th:only-of-type {\n",
              "        vertical-align: middle;\n",
              "    }\n",
              "\n",
              "    .dataframe tbody tr th {\n",
              "        vertical-align: top;\n",
              "    }\n",
              "\n",
              "    .dataframe thead th {\n",
              "        text-align: right;\n",
              "    }\n",
              "</style>\n",
              "<table border=\"1\" class=\"dataframe\">\n",
              "  <thead>\n",
              "    <tr style=\"text-align: right;\">\n",
              "      <th></th>\n",
              "      <th>year</th>\n",
              "      <th>Qtr1</th>\n",
              "      <th>Qtr2</th>\n",
              "      <th>Qtr3</th>\n",
              "      <th>Qtr4</th>\n",
              "    </tr>\n",
              "  </thead>\n",
              "  <tbody>\n",
              "    <tr>\n",
              "      <th>0</th>\n",
              "      <td>1945</td>\n",
              "      <td>NaN</td>\n",
              "      <td>87</td>\n",
              "      <td>82.0</td>\n",
              "      <td>75.0</td>\n",
              "    </tr>\n",
              "    <tr>\n",
              "      <th>1</th>\n",
              "      <td>1946</td>\n",
              "      <td>63.0</td>\n",
              "      <td>50</td>\n",
              "      <td>43.0</td>\n",
              "      <td>32.0</td>\n",
              "    </tr>\n",
              "    <tr>\n",
              "      <th>2</th>\n",
              "      <td>1947</td>\n",
              "      <td>35.0</td>\n",
              "      <td>60</td>\n",
              "      <td>54.0</td>\n",
              "      <td>55.0</td>\n",
              "    </tr>\n",
              "    <tr>\n",
              "      <th>3</th>\n",
              "      <td>1948</td>\n",
              "      <td>36.0</td>\n",
              "      <td>39</td>\n",
              "      <td>NaN</td>\n",
              "      <td>NaN</td>\n",
              "    </tr>\n",
              "    <tr>\n",
              "      <th>4</th>\n",
              "      <td>1949</td>\n",
              "      <td>69.0</td>\n",
              "      <td>57</td>\n",
              "      <td>57.0</td>\n",
              "      <td>51.0</td>\n",
              "    </tr>\n",
              "  </tbody>\n",
              "</table>\n",
              "</div>\n",
              "      <button class=\"colab-df-convert\" onclick=\"convertToInteractive('df-417e2a09-15ff-4fc9-bdec-129aaa71dc24')\"\n",
              "              title=\"Convert this dataframe to an interactive table.\"\n",
              "              style=\"display:none;\">\n",
              "        \n",
              "  <svg xmlns=\"http://www.w3.org/2000/svg\" height=\"24px\"viewBox=\"0 0 24 24\"\n",
              "       width=\"24px\">\n",
              "    <path d=\"M0 0h24v24H0V0z\" fill=\"none\"/>\n",
              "    <path d=\"M18.56 5.44l.94 2.06.94-2.06 2.06-.94-2.06-.94-.94-2.06-.94 2.06-2.06.94zm-11 1L8.5 8.5l.94-2.06 2.06-.94-2.06-.94L8.5 2.5l-.94 2.06-2.06.94zm10 10l.94 2.06.94-2.06 2.06-.94-2.06-.94-.94-2.06-.94 2.06-2.06.94z\"/><path d=\"M17.41 7.96l-1.37-1.37c-.4-.4-.92-.59-1.43-.59-.52 0-1.04.2-1.43.59L10.3 9.45l-7.72 7.72c-.78.78-.78 2.05 0 2.83L4 21.41c.39.39.9.59 1.41.59.51 0 1.02-.2 1.41-.59l7.78-7.78 2.81-2.81c.8-.78.8-2.07 0-2.86zM5.41 20L4 18.59l7.72-7.72 1.47 1.35L5.41 20z\"/>\n",
              "  </svg>\n",
              "      </button>\n",
              "      \n",
              "  <style>\n",
              "    .colab-df-container {\n",
              "      display:flex;\n",
              "      flex-wrap:wrap;\n",
              "      gap: 12px;\n",
              "    }\n",
              "\n",
              "    .colab-df-convert {\n",
              "      background-color: #E8F0FE;\n",
              "      border: none;\n",
              "      border-radius: 50%;\n",
              "      cursor: pointer;\n",
              "      display: none;\n",
              "      fill: #1967D2;\n",
              "      height: 32px;\n",
              "      padding: 0 0 0 0;\n",
              "      width: 32px;\n",
              "    }\n",
              "\n",
              "    .colab-df-convert:hover {\n",
              "      background-color: #E2EBFA;\n",
              "      box-shadow: 0px 1px 2px rgba(60, 64, 67, 0.3), 0px 1px 3px 1px rgba(60, 64, 67, 0.15);\n",
              "      fill: #174EA6;\n",
              "    }\n",
              "\n",
              "    [theme=dark] .colab-df-convert {\n",
              "      background-color: #3B4455;\n",
              "      fill: #D2E3FC;\n",
              "    }\n",
              "\n",
              "    [theme=dark] .colab-df-convert:hover {\n",
              "      background-color: #434B5C;\n",
              "      box-shadow: 0px 1px 3px 1px rgba(0, 0, 0, 0.15);\n",
              "      filter: drop-shadow(0px 1px 2px rgba(0, 0, 0, 0.3));\n",
              "      fill: #FFFFFF;\n",
              "    }\n",
              "  </style>\n",
              "\n",
              "      <script>\n",
              "        const buttonEl =\n",
              "          document.querySelector('#df-417e2a09-15ff-4fc9-bdec-129aaa71dc24 button.colab-df-convert');\n",
              "        buttonEl.style.display =\n",
              "          google.colab.kernel.accessAllowed ? 'block' : 'none';\n",
              "\n",
              "        async function convertToInteractive(key) {\n",
              "          const element = document.querySelector('#df-417e2a09-15ff-4fc9-bdec-129aaa71dc24');\n",
              "          const dataTable =\n",
              "            await google.colab.kernel.invokeFunction('convertToInteractive',\n",
              "                                                     [key], {});\n",
              "          if (!dataTable) return;\n",
              "\n",
              "          const docLinkHtml = 'Like what you see? Visit the ' +\n",
              "            '<a target=\"_blank\" href=https://colab.research.google.com/notebooks/data_table.ipynb>data table notebook</a>'\n",
              "            + ' to learn more about interactive tables.';\n",
              "          element.innerHTML = '';\n",
              "          dataTable['output_type'] = 'display_data';\n",
              "          await google.colab.output.renderOutput(dataTable, element);\n",
              "          const docLink = document.createElement('div');\n",
              "          docLink.innerHTML = docLinkHtml;\n",
              "          element.appendChild(docLink);\n",
              "        }\n",
              "      </script>\n",
              "    </div>\n",
              "  </div>\n",
              "  "
            ]
          },
          "metadata": {},
          "execution_count": 103
        }
      ]
    },
    {
      "cell_type": "markdown",
      "metadata": {
        "id": "cmluxRwWgr2M"
      },
      "source": [
        "Чтобы привести таблицу к удобному виду используйте функцию `pd.melt`. Вытащите из таблички рейтинг Никсона с 1 квартала 1969 года по 2 квартал 1972 года (включая его). Запишите эти данные в переменную `x`. Рейтинг с 3 квартала 1972 года по 2 квартал 1974 года поместите в переменную `y`. Пропуски в данных удалите из выборки."
      ]
    },
    {
      "cell_type": "code",
      "execution_count": 104,
      "metadata": {
        "deletable": false,
        "nbgrader": {
          "cell_type": "code",
          "checksum": "22ec9a50950897f91ca39c4631a6200c",
          "grade": false,
          "grade_id": "cell-0c35f4bdddbb0029",
          "locked": false,
          "schema_version": 3,
          "solution": true,
          "task": false
        },
        "id": "txeD_sRIgr2M"
      },
      "outputs": [],
      "source": [
        "df_melt = pd.melt(df, id_vars = ['year'])\n",
        "x1 = df_melt[(df_melt['year'] >= 1969) & (df_melt['year'] <= 1971)][\"value\"]\n",
        "x2 = df_melt[df_melt['year'] == 1972].query(\"variable in['Qtr1','Qtr2']\")[\"value\"]\n",
        "x = pd.concat([x1, x2]).dropna()\n",
        "\n",
        "y1 = df_melt[df_melt['year'] == 1972].query(\"variable in['Qtr3','Qtr4']\")[\"value\"]\n",
        "y2 = df_melt[df_melt['year'] == 1973][\"value\"]\n",
        "y3 = df_melt[df_melt['year'] == 1974].query(\"variable in['Qtr1','Qtr2']\")[\"value\"]\n",
        "y = pd.concat([y1, y2, y3]).dropna()"
      ]
    },
    {
      "cell_type": "markdown",
      "metadata": {
        "id": "LLZ2yPb9gr2M"
      },
      "source": [
        "Правда ли, что после скандала средний рейтинг Никсона рухнул? Предполагайте, что рейтинг распределён нормально, а также, что дисперсия рейтинга не изменилась из-за скандала. Наблюдаемое значение статистики запишите в переменную `obs`, в переменную `pval` запишите $p$-значение."
      ]
    },
    {
      "cell_type": "code",
      "execution_count": 105,
      "metadata": {
        "deletable": false,
        "nbgrader": {
          "cell_type": "code",
          "checksum": "2472ad8779c6b2e9af75ad034a8f98ae",
          "grade": false,
          "grade_id": "cell-468606ed00795265",
          "locked": false,
          "schema_version": 3,
          "solution": true,
          "task": false
        },
        "id": "LXLByFAcgr2N",
        "colab": {
          "base_uri": "https://localhost:8080/"
        },
        "outputId": "6dc38459-a72a-4a73-82c3-efa2c343adc3"
      },
      "outputs": [
        {
          "output_type": "stream",
          "name": "stdout",
          "text": [
            "obs =  3.5640741313229793\n",
            "pval =  0.0011087344846424374\n"
          ]
        }
      ],
      "source": [
        "diff = x.mean() - y.mean() \n",
        "nx, ny = x.size, y.size\n",
        "\n",
        "diff_var = ((nx - 1)*x.var(ddof=1) + (ny - 1)*y.var(ddof=1))/(nx + ny - 2)\n",
        "diff_std = np.sqrt(diff_var/nx + diff_var/ny) \n",
        "obs = diff / diff_std   \n",
        "pval = 1 - sts.t(df=nx + ny -2).cdf(obs)\n",
        "\n",
        "print(\"obs = \", obs )\n",
        "print(\"pval = \", pval)"
      ]
    },
    {
      "cell_type": "markdown",
      "source": [
        "**ОТВЕТ:** Гипотеза о том, что дисперсия рейтинга не изменилась из-за скандала отвергается."
      ],
      "metadata": {
        "id": "ZoVir13nq1hL"
      }
    },
    {
      "cell_type": "code",
      "execution_count": 106,
      "metadata": {
        "deletable": false,
        "editable": false,
        "nbgrader": {
          "cell_type": "code",
          "checksum": "425fc259b1e678f51b14bc6d4e8a9fe3",
          "grade": true,
          "grade_id": "cell-9012c13c9eb644cf",
          "locked": true,
          "points": 1,
          "schema_version": 3,
          "solution": false,
          "task": false
        },
        "id": "TTOkKQpFgr2N"
      },
      "outputs": [],
      "source": [
        "# проверка того, что задание решено верно\n",
        "assert np.abs(obs - 3.5640741313229793) < 1e-5"
      ]
    },
    {
      "cell_type": "markdown",
      "metadata": {
        "id": "uOtVEQ5kgr2N"
      },
      "source": [
        "## Задание 4 (сон)\n",
        "\n",
        "Проводится эксперимент о пользе нового снотворного. Для его проведения используется группа из $10$ студентов. В первый день каждый из них ложится спать. На утро измеряется, сколько он проспал. Из результата вычитают $8$ (нормальное число часов сна). На второй день каждому дают таблетку. Утром снова измеряют сколько человек проспал, и вычитают $8$. Результаты эксперимента записаны в табличку `sleep.csv`."
      ]
    },
    {
      "cell_type": "code",
      "source": [
        "if COLLAB:\n",
        "    from google.colab import drive\n",
        "    drive.mount('/content/gdrive')\n",
        "    df = pd.read_csv('/content/gdrive/MyDrive/DA/4/sleep.csv')\n",
        "else:\n",
        "    df = pd.read_csv('sleep.csv')\n",
        "\n",
        "print(df.shape)\n",
        "df.head()"
      ],
      "metadata": {
        "colab": {
          "base_uri": "https://localhost:8080/",
          "height": 242
        },
        "id": "GaUVxBhbPZ_a",
        "outputId": "53f3add1-38c4-418c-e9c7-9b334cedf1c8"
      },
      "execution_count": 107,
      "outputs": [
        {
          "output_type": "stream",
          "name": "stdout",
          "text": [
            "Drive already mounted at /content/gdrive; to attempt to forcibly remount, call drive.mount(\"/content/gdrive\", force_remount=True).\n",
            "(20, 3)\n"
          ]
        },
        {
          "output_type": "execute_result",
          "data": {
            "text/plain": [
              "   extra  group  ID\n",
              "0    0.7      1   1\n",
              "1   -1.6      1   2\n",
              "2   -0.2      1   3\n",
              "3   -1.2      1   4\n",
              "4   -0.1      1   5"
            ],
            "text/html": [
              "\n",
              "  <div id=\"df-9f568447-5b86-4eaa-8e08-edda373d4f65\">\n",
              "    <div class=\"colab-df-container\">\n",
              "      <div>\n",
              "<style scoped>\n",
              "    .dataframe tbody tr th:only-of-type {\n",
              "        vertical-align: middle;\n",
              "    }\n",
              "\n",
              "    .dataframe tbody tr th {\n",
              "        vertical-align: top;\n",
              "    }\n",
              "\n",
              "    .dataframe thead th {\n",
              "        text-align: right;\n",
              "    }\n",
              "</style>\n",
              "<table border=\"1\" class=\"dataframe\">\n",
              "  <thead>\n",
              "    <tr style=\"text-align: right;\">\n",
              "      <th></th>\n",
              "      <th>extra</th>\n",
              "      <th>group</th>\n",
              "      <th>ID</th>\n",
              "    </tr>\n",
              "  </thead>\n",
              "  <tbody>\n",
              "    <tr>\n",
              "      <th>0</th>\n",
              "      <td>0.7</td>\n",
              "      <td>1</td>\n",
              "      <td>1</td>\n",
              "    </tr>\n",
              "    <tr>\n",
              "      <th>1</th>\n",
              "      <td>-1.6</td>\n",
              "      <td>1</td>\n",
              "      <td>2</td>\n",
              "    </tr>\n",
              "    <tr>\n",
              "      <th>2</th>\n",
              "      <td>-0.2</td>\n",
              "      <td>1</td>\n",
              "      <td>3</td>\n",
              "    </tr>\n",
              "    <tr>\n",
              "      <th>3</th>\n",
              "      <td>-1.2</td>\n",
              "      <td>1</td>\n",
              "      <td>4</td>\n",
              "    </tr>\n",
              "    <tr>\n",
              "      <th>4</th>\n",
              "      <td>-0.1</td>\n",
              "      <td>1</td>\n",
              "      <td>5</td>\n",
              "    </tr>\n",
              "  </tbody>\n",
              "</table>\n",
              "</div>\n",
              "      <button class=\"colab-df-convert\" onclick=\"convertToInteractive('df-9f568447-5b86-4eaa-8e08-edda373d4f65')\"\n",
              "              title=\"Convert this dataframe to an interactive table.\"\n",
              "              style=\"display:none;\">\n",
              "        \n",
              "  <svg xmlns=\"http://www.w3.org/2000/svg\" height=\"24px\"viewBox=\"0 0 24 24\"\n",
              "       width=\"24px\">\n",
              "    <path d=\"M0 0h24v24H0V0z\" fill=\"none\"/>\n",
              "    <path d=\"M18.56 5.44l.94 2.06.94-2.06 2.06-.94-2.06-.94-.94-2.06-.94 2.06-2.06.94zm-11 1L8.5 8.5l.94-2.06 2.06-.94-2.06-.94L8.5 2.5l-.94 2.06-2.06.94zm10 10l.94 2.06.94-2.06 2.06-.94-2.06-.94-.94-2.06-.94 2.06-2.06.94z\"/><path d=\"M17.41 7.96l-1.37-1.37c-.4-.4-.92-.59-1.43-.59-.52 0-1.04.2-1.43.59L10.3 9.45l-7.72 7.72c-.78.78-.78 2.05 0 2.83L4 21.41c.39.39.9.59 1.41.59.51 0 1.02-.2 1.41-.59l7.78-7.78 2.81-2.81c.8-.78.8-2.07 0-2.86zM5.41 20L4 18.59l7.72-7.72 1.47 1.35L5.41 20z\"/>\n",
              "  </svg>\n",
              "      </button>\n",
              "      \n",
              "  <style>\n",
              "    .colab-df-container {\n",
              "      display:flex;\n",
              "      flex-wrap:wrap;\n",
              "      gap: 12px;\n",
              "    }\n",
              "\n",
              "    .colab-df-convert {\n",
              "      background-color: #E8F0FE;\n",
              "      border: none;\n",
              "      border-radius: 50%;\n",
              "      cursor: pointer;\n",
              "      display: none;\n",
              "      fill: #1967D2;\n",
              "      height: 32px;\n",
              "      padding: 0 0 0 0;\n",
              "      width: 32px;\n",
              "    }\n",
              "\n",
              "    .colab-df-convert:hover {\n",
              "      background-color: #E2EBFA;\n",
              "      box-shadow: 0px 1px 2px rgba(60, 64, 67, 0.3), 0px 1px 3px 1px rgba(60, 64, 67, 0.15);\n",
              "      fill: #174EA6;\n",
              "    }\n",
              "\n",
              "    [theme=dark] .colab-df-convert {\n",
              "      background-color: #3B4455;\n",
              "      fill: #D2E3FC;\n",
              "    }\n",
              "\n",
              "    [theme=dark] .colab-df-convert:hover {\n",
              "      background-color: #434B5C;\n",
              "      box-shadow: 0px 1px 3px 1px rgba(0, 0, 0, 0.15);\n",
              "      filter: drop-shadow(0px 1px 2px rgba(0, 0, 0, 0.3));\n",
              "      fill: #FFFFFF;\n",
              "    }\n",
              "  </style>\n",
              "\n",
              "      <script>\n",
              "        const buttonEl =\n",
              "          document.querySelector('#df-9f568447-5b86-4eaa-8e08-edda373d4f65 button.colab-df-convert');\n",
              "        buttonEl.style.display =\n",
              "          google.colab.kernel.accessAllowed ? 'block' : 'none';\n",
              "\n",
              "        async function convertToInteractive(key) {\n",
              "          const element = document.querySelector('#df-9f568447-5b86-4eaa-8e08-edda373d4f65');\n",
              "          const dataTable =\n",
              "            await google.colab.kernel.invokeFunction('convertToInteractive',\n",
              "                                                     [key], {});\n",
              "          if (!dataTable) return;\n",
              "\n",
              "          const docLinkHtml = 'Like what you see? Visit the ' +\n",
              "            '<a target=\"_blank\" href=https://colab.research.google.com/notebooks/data_table.ipynb>data table notebook</a>'\n",
              "            + ' to learn more about interactive tables.';\n",
              "          element.innerHTML = '';\n",
              "          dataTable['output_type'] = 'display_data';\n",
              "          await google.colab.output.renderOutput(dataTable, element);\n",
              "          const docLink = document.createElement('div');\n",
              "          docLink.innerHTML = docLinkHtml;\n",
              "          element.appendChild(docLink);\n",
              "        }\n",
              "      </script>\n",
              "    </div>\n",
              "  </div>\n",
              "  "
            ]
          },
          "metadata": {},
          "execution_count": 107
        }
      ]
    },
    {
      "cell_type": "markdown",
      "metadata": {
        "id": "Z-ZoLqZ1gr2N"
      },
      "source": [
        "Правда ли, что сон студентов до приёма снотворного не отличается от нормы (отклонение от 8 часов равно нулю). Проверьте эту гипотезу на $5\\%$ уровне значимости, в переменную `pval1` запишите p-значение. "
      ]
    },
    {
      "cell_type": "markdown",
      "source": [
        "$$\n",
        "\\begin{aligned}\n",
        "&H_0: \\hspace{2mm} p_1 = p_2 \\hspace{2mm} \\text{Студенты до приема имели нормальную продолжительность сна} \\\\\n",
        "&H_1: \\hspace{2mm} p_1 \\ne p_2  \\hspace{2mm} \\text{Продолжительность сна студентов до приема отклонялась от нормы}\n",
        "\\end{aligned}\n",
        "$$"
      ],
      "metadata": {
        "id": "qkhmNb8-4VKo"
      }
    },
    {
      "cell_type": "code",
      "execution_count": 108,
      "metadata": {
        "deletable": false,
        "nbgrader": {
          "cell_type": "code",
          "checksum": "84c67f6747d67cca7633914c28107c96",
          "grade": false,
          "grade_id": "cell-c04ca7c5b2d46f59",
          "locked": false,
          "schema_version": 3,
          "solution": true,
          "task": false
        },
        "id": "Jjh4ZZxRgr2N",
        "colab": {
          "base_uri": "https://localhost:8080/"
        },
        "outputId": "9c82816d-3399-40c7-b963-d9e4caad0680"
      },
      "outputs": [
        {
          "output_type": "stream",
          "name": "stdout",
          "text": [
            "tobs1 = 1.3257101407138212\n",
            "pval1 = 0.2175977800684489\n"
          ]
        }
      ],
      "source": [
        "group_1 = df[df.group == 1]['extra']\n",
        "n = group_1.count()\n",
        "\n",
        "mu = 0\n",
        "x_bar = group_1.mean()\n",
        "se = group_1.var(ddof=1)\n",
        "\n",
        "tobs1 = (x_bar - mu) / np.sqrt(se / n)\n",
        "pval1 = sts.ttest_1samp(group_1,0, alternative='two-sided')[1]\n",
        "print(\"tobs1 =\", tobs1 )\n",
        "print(\"pval1 =\", pval1)"
      ]
    },
    {
      "cell_type": "markdown",
      "source": [
        "**ОТВЕТ:** Т.к. pvalue1 больше уровня значимости у нас нет оснований отвергнуть нулевую гипотезу.\n"
      ],
      "metadata": {
        "id": "yYI07sjQt1j2"
      }
    },
    {
      "cell_type": "markdown",
      "metadata": {
        "id": "Lw4C4yS3gr2N"
      },
      "source": [
        "Правда ли, что благодаря таблеткам студенты стали спать больше (односторонняя альтернатива)? Запишите в переменную `pval2` соотвествующее p-значение. "
      ]
    },
    {
      "cell_type": "markdown",
      "source": [
        "$$\n",
        "\\begin{aligned}\n",
        "&H_0: \\hspace{2mm} p_1 = p_2 \\hspace{2mm} \\text{Студенты до и после приема спали одинаково долго} \\\\\n",
        "&H_1: \\hspace{2mm} p_1 > p_2  \\hspace{2mm} \\text{Студенты спали дольше}\n",
        "\\end{aligned}\n",
        "$$\n",
        "\n"
      ],
      "metadata": {
        "id": "fcU3MK7l4JIn"
      }
    },
    {
      "cell_type": "code",
      "execution_count": 109,
      "metadata": {
        "deletable": false,
        "nbgrader": {
          "cell_type": "code",
          "checksum": "5df1edb5b8b18a467151f30e3ad24e05",
          "grade": false,
          "grade_id": "cell-4c7c2e8e8b3c5de8",
          "locked": false,
          "schema_version": 3,
          "solution": true,
          "task": false
        },
        "id": "4_YMlGYtgr2N",
        "colab": {
          "base_uri": "https://localhost:8080/"
        },
        "outputId": "e1a26b03-adda-40bd-ff32-b408b85e4863"
      },
      "outputs": [
        {
          "output_type": "stream",
          "name": "stdout",
          "text": [
            "tobs2 =  4.062127683382037\n",
            "pval2 =  0.0014164450986920984\n"
          ]
        }
      ],
      "source": [
        "group_2 = df[df.group == 2]['extra']\n",
        "n = group_2.count() #group 2\n",
        "\n",
        "diff = group_2.values - group_1.values\n",
        "diff_mean = diff.mean()\n",
        "diff_var = diff.var(ddof=1)\n",
        "\n",
        "tobs2 = (diff_mean - 0) / np.sqrt(diff_var / n)\n",
        "pval2 = 1 - sts.t(df = len(diff) - 1).cdf(tobs2)\n",
        "\n",
        "print(\"tobs2 = \", tobs2 )\n",
        "print(\"pval2 = \", pval2)"
      ]
    },
    {
      "cell_type": "markdown",
      "source": [
        "**ОТВЕТ:** Т.к. pvalue2 меньше уровня значимости. На основании имеющихся данных мы отвергаем нулевую гипотезу.\n"
      ],
      "metadata": {
        "id": "avmXf0ZEz9_2"
      }
    },
    {
      "cell_type": "code",
      "execution_count": 110,
      "metadata": {
        "deletable": false,
        "editable": false,
        "nbgrader": {
          "cell_type": "code",
          "checksum": "72bfc924a2bb01c46b9bf61fddb2620b",
          "grade": true,
          "grade_id": "cell-2167298693b77a31",
          "locked": true,
          "points": 1,
          "schema_version": 3,
          "solution": false,
          "task": false
        },
        "id": "BHAYgxgKgr2O"
      },
      "outputs": [],
      "source": [
        "# проверка того, что задание решено верно\n",
        "assert np.abs(tobs1 - 1.325710) < 1e-5\n",
        "assert np.abs(tobs2 - 4.062127) < 1e-5\n",
        "\n",
        "# другие подобные тесты скрыты от вас "
      ]
    },
    {
      "cell_type": "markdown",
      "metadata": {
        "id": "4s9i9JKLgr2O"
      },
      "source": [
        "## Задание 5 (say my name)\n",
        "\n",
        "__Люди всё время меня спрашивают, знает ли меня Барсик.__  Многие владельцы кошек уверены, что их питомцы могут понимать достаточно большое количество слов, а также узнавать собственное имя. Однако долгое время никто не пытался доказать это экспериментально. Разобраться с этой проблемой [решили учёные из Токийского университета.](https://nplus1.ru/news/2019/04/04/cat-name?utm_source=obrazovach&utm_medium=social&utm_campaign=yaponskie-uchenye-dokazali--chto-domashnie-k)\n",
        "\n",
        "Было проведено четыре эксперимента с участием домашних кошек и кошек из кошачьих кафе. Учёные использовали метод привыкания-отвыкания (habituation-dishabituation), который часто используется в экспериментах с участием маленьких детей. \n",
        "\n",
        "В соответствии с гипотезой, которая лежит в основе этого метода, определить реакцию на какой-либо стимул можно, представив его после схожих с ним стимулов. К примеру, для того, чтобы выяснить, может ли младенец узнать свое имя, ему представляют несколько слов подряд: с каждым новым словом его реакция снижается, но появление имени должно (в случае, если ребенок действительно узнает свое имя) ее вернуть. Этот же метод применили и к кошкам: реакция кошек на слова характеризовалась поворотом головы, движением ушей, вокализацией, движениями хвоста или перемещениями.\n",
        "\n",
        "В первом эксперименте исследователи проследили за реакцией кошек на собственное имя, произнесенное хозяином, после четырех существительных (16 кошек, живущих дома с двумя другими кошками или меньше). Данные об этом эксперименте находятся в табличке `cats_names.csv`. "
      ]
    },
    {
      "cell_type": "code",
      "source": [
        "if COLLAB:\n",
        "    df = pd.read_csv('/content/gdrive/MyDrive/DA/4/cats_names.csv', sep='\\t')\n",
        "else:\n",
        "    df = pd.read_csv('cats_names.csv', sep='\\t')\n",
        "print(df.shape)\n",
        "df.head()\n"
      ],
      "metadata": {
        "colab": {
          "base_uri": "https://localhost:8080/",
          "height": 224
        },
        "id": "0QDUYHrsQaJa",
        "outputId": "56164767-4272-4a20-a0b7-30f8a0561a13"
      },
      "execution_count": 111,
      "outputs": [
        {
          "output_type": "stream",
          "name": "stdout",
          "text": [
            "(80, 8)\n"
          ]
        },
        {
          "output_type": "execute_result",
          "data": {
            "text/plain": [
              "  name          stimuli  Ear moving  Head moving  Tail moving  Vocalising  \\\n",
              "0   Cr           Noun 1           1            0            0           0   \n",
              "1   Cr           Noun 2           1            1            0           0   \n",
              "2   Cr           Noun 3           1            1            0           0   \n",
              "3   Cr           Noun 4           0            0            0           0   \n",
              "4   Cr  Test Cat's Name           1            0            0           0   \n",
              "\n",
              "   Displacement  Total Score  \n",
              "0             0            1  \n",
              "1             0            2  \n",
              "2             0            2  \n",
              "3             0            0  \n",
              "4             0            1  "
            ],
            "text/html": [
              "\n",
              "  <div id=\"df-371316e3-8c0e-4f86-8bd3-5c5de80aa1c1\">\n",
              "    <div class=\"colab-df-container\">\n",
              "      <div>\n",
              "<style scoped>\n",
              "    .dataframe tbody tr th:only-of-type {\n",
              "        vertical-align: middle;\n",
              "    }\n",
              "\n",
              "    .dataframe tbody tr th {\n",
              "        vertical-align: top;\n",
              "    }\n",
              "\n",
              "    .dataframe thead th {\n",
              "        text-align: right;\n",
              "    }\n",
              "</style>\n",
              "<table border=\"1\" class=\"dataframe\">\n",
              "  <thead>\n",
              "    <tr style=\"text-align: right;\">\n",
              "      <th></th>\n",
              "      <th>name</th>\n",
              "      <th>stimuli</th>\n",
              "      <th>Ear moving</th>\n",
              "      <th>Head moving</th>\n",
              "      <th>Tail moving</th>\n",
              "      <th>Vocalising</th>\n",
              "      <th>Displacement</th>\n",
              "      <th>Total Score</th>\n",
              "    </tr>\n",
              "  </thead>\n",
              "  <tbody>\n",
              "    <tr>\n",
              "      <th>0</th>\n",
              "      <td>Cr</td>\n",
              "      <td>Noun 1</td>\n",
              "      <td>1</td>\n",
              "      <td>0</td>\n",
              "      <td>0</td>\n",
              "      <td>0</td>\n",
              "      <td>0</td>\n",
              "      <td>1</td>\n",
              "    </tr>\n",
              "    <tr>\n",
              "      <th>1</th>\n",
              "      <td>Cr</td>\n",
              "      <td>Noun 2</td>\n",
              "      <td>1</td>\n",
              "      <td>1</td>\n",
              "      <td>0</td>\n",
              "      <td>0</td>\n",
              "      <td>0</td>\n",
              "      <td>2</td>\n",
              "    </tr>\n",
              "    <tr>\n",
              "      <th>2</th>\n",
              "      <td>Cr</td>\n",
              "      <td>Noun 3</td>\n",
              "      <td>1</td>\n",
              "      <td>1</td>\n",
              "      <td>0</td>\n",
              "      <td>0</td>\n",
              "      <td>0</td>\n",
              "      <td>2</td>\n",
              "    </tr>\n",
              "    <tr>\n",
              "      <th>3</th>\n",
              "      <td>Cr</td>\n",
              "      <td>Noun 4</td>\n",
              "      <td>0</td>\n",
              "      <td>0</td>\n",
              "      <td>0</td>\n",
              "      <td>0</td>\n",
              "      <td>0</td>\n",
              "      <td>0</td>\n",
              "    </tr>\n",
              "    <tr>\n",
              "      <th>4</th>\n",
              "      <td>Cr</td>\n",
              "      <td>Test Cat's Name</td>\n",
              "      <td>1</td>\n",
              "      <td>0</td>\n",
              "      <td>0</td>\n",
              "      <td>0</td>\n",
              "      <td>0</td>\n",
              "      <td>1</td>\n",
              "    </tr>\n",
              "  </tbody>\n",
              "</table>\n",
              "</div>\n",
              "      <button class=\"colab-df-convert\" onclick=\"convertToInteractive('df-371316e3-8c0e-4f86-8bd3-5c5de80aa1c1')\"\n",
              "              title=\"Convert this dataframe to an interactive table.\"\n",
              "              style=\"display:none;\">\n",
              "        \n",
              "  <svg xmlns=\"http://www.w3.org/2000/svg\" height=\"24px\"viewBox=\"0 0 24 24\"\n",
              "       width=\"24px\">\n",
              "    <path d=\"M0 0h24v24H0V0z\" fill=\"none\"/>\n",
              "    <path d=\"M18.56 5.44l.94 2.06.94-2.06 2.06-.94-2.06-.94-.94-2.06-.94 2.06-2.06.94zm-11 1L8.5 8.5l.94-2.06 2.06-.94-2.06-.94L8.5 2.5l-.94 2.06-2.06.94zm10 10l.94 2.06.94-2.06 2.06-.94-2.06-.94-.94-2.06-.94 2.06-2.06.94z\"/><path d=\"M17.41 7.96l-1.37-1.37c-.4-.4-.92-.59-1.43-.59-.52 0-1.04.2-1.43.59L10.3 9.45l-7.72 7.72c-.78.78-.78 2.05 0 2.83L4 21.41c.39.39.9.59 1.41.59.51 0 1.02-.2 1.41-.59l7.78-7.78 2.81-2.81c.8-.78.8-2.07 0-2.86zM5.41 20L4 18.59l7.72-7.72 1.47 1.35L5.41 20z\"/>\n",
              "  </svg>\n",
              "      </button>\n",
              "      \n",
              "  <style>\n",
              "    .colab-df-container {\n",
              "      display:flex;\n",
              "      flex-wrap:wrap;\n",
              "      gap: 12px;\n",
              "    }\n",
              "\n",
              "    .colab-df-convert {\n",
              "      background-color: #E8F0FE;\n",
              "      border: none;\n",
              "      border-radius: 50%;\n",
              "      cursor: pointer;\n",
              "      display: none;\n",
              "      fill: #1967D2;\n",
              "      height: 32px;\n",
              "      padding: 0 0 0 0;\n",
              "      width: 32px;\n",
              "    }\n",
              "\n",
              "    .colab-df-convert:hover {\n",
              "      background-color: #E2EBFA;\n",
              "      box-shadow: 0px 1px 2px rgba(60, 64, 67, 0.3), 0px 1px 3px 1px rgba(60, 64, 67, 0.15);\n",
              "      fill: #174EA6;\n",
              "    }\n",
              "\n",
              "    [theme=dark] .colab-df-convert {\n",
              "      background-color: #3B4455;\n",
              "      fill: #D2E3FC;\n",
              "    }\n",
              "\n",
              "    [theme=dark] .colab-df-convert:hover {\n",
              "      background-color: #434B5C;\n",
              "      box-shadow: 0px 1px 3px 1px rgba(0, 0, 0, 0.15);\n",
              "      filter: drop-shadow(0px 1px 2px rgba(0, 0, 0, 0.3));\n",
              "      fill: #FFFFFF;\n",
              "    }\n",
              "  </style>\n",
              "\n",
              "      <script>\n",
              "        const buttonEl =\n",
              "          document.querySelector('#df-371316e3-8c0e-4f86-8bd3-5c5de80aa1c1 button.colab-df-convert');\n",
              "        buttonEl.style.display =\n",
              "          google.colab.kernel.accessAllowed ? 'block' : 'none';\n",
              "\n",
              "        async function convertToInteractive(key) {\n",
              "          const element = document.querySelector('#df-371316e3-8c0e-4f86-8bd3-5c5de80aa1c1');\n",
              "          const dataTable =\n",
              "            await google.colab.kernel.invokeFunction('convertToInteractive',\n",
              "                                                     [key], {});\n",
              "          if (!dataTable) return;\n",
              "\n",
              "          const docLinkHtml = 'Like what you see? Visit the ' +\n",
              "            '<a target=\"_blank\" href=https://colab.research.google.com/notebooks/data_table.ipynb>data table notebook</a>'\n",
              "            + ' to learn more about interactive tables.';\n",
              "          element.innerHTML = '';\n",
              "          dataTable['output_type'] = 'display_data';\n",
              "          await google.colab.output.renderOutput(dataTable, element);\n",
              "          const docLink = document.createElement('div');\n",
              "          docLink.innerHTML = docLinkHtml;\n",
              "          element.appendChild(docLink);\n",
              "        }\n",
              "      </script>\n",
              "    </div>\n",
              "  </div>\n",
              "  "
            ]
          },
          "metadata": {},
          "execution_count": 111
        }
      ]
    },
    {
      "cell_type": "markdown",
      "metadata": {
        "id": "qVCgOpi9gr2O"
      },
      "source": [
        "Будем проверять гипотезу о том, что кошки понимают своё имя с помощью упрощённой процедуры: \n",
        "\n",
        "- Вытащим из таблички все строчки, где экспериментаторы называли $4-$ое существительное. Они помечены в колонке `stimuli` как `Noun 4`. Если в колонке `Total Score` стоит положительное число, будем считать, что кошка среагировала на слово. В вектор `noun4` запишем единицу. В противном случае — ноль. \n",
        "- Вытащим по аналогии информацию о том, откликнулась ли кошка на своё имя (пометка `Test Cat's Name`) в колонке `stimuli`. Запишем её в вектор `name`.\n",
        "- Используем тест о равенстве пропорций для зависимых выборок, чтобы ответить на вопрос \"А правда ли кошка откликается на своё имя?\" В переменную `pval` запишем $p$-значение, полученное при проверке этой гипотезы. "
      ]
    },
    {
      "cell_type": "markdown",
      "source": [
        "$$\n",
        "\\begin{aligned}\n",
        "&H_0: \\hspace{2mm} p_1 = p_2 \\hspace{2mm} \\text{Кошка откликается на свое имя также часто как и на 4е существительное} \\\\\n",
        "&H_1: \\hspace{2mm} p_1 > p_2  \\hspace{2mm} \\text{Кошка откликается чаще на свое имя}\n",
        "\\end{aligned}\n",
        "$$"
      ],
      "metadata": {
        "id": "CpMYag5O80f6"
      }
    },
    {
      "cell_type": "code",
      "execution_count": 118,
      "metadata": {
        "deletable": false,
        "nbgrader": {
          "cell_type": "code",
          "checksum": "c019c2956f7e14de25568795f31f7dcc",
          "grade": false,
          "grade_id": "cell-4ab37a21e0f8a42c",
          "locked": false,
          "schema_version": 3,
          "solution": true,
          "task": false
        },
        "id": "rY52hILfgr2O",
        "colab": {
          "base_uri": "https://localhost:8080/"
        },
        "outputId": "83ffd095-8e86-49db-c4f9-e0f8f7f7d07b"
      },
      "outputs": [
        {
          "output_type": "stream",
          "name": "stdout",
          "text": [
            "z_obs = 1.7888543819998317\n",
            "pval = 0.03681913506015133\n"
          ]
        }
      ],
      "source": [
        "noun4 = (df[df['stimuli'] == 'Noun 4']['Total Score'] > 0).astype(int).values  \n",
        "name = (df[df['stimuli'] == 'Test Cat\\'s Name']['Total Score'] > 0).astype(int).values \n",
        "\n",
        "c, b = 5, 1\n",
        "z_obs = (c - b) / np.sqrt(c + b - (c - b)**2 / len(name))\n",
        "pval =  1 - sts.norm.cdf(z_obs)\n",
        "print(\"z_obs =\", z_obs )\n",
        "print(\"pval =\", pval)"
      ]
    },
    {
      "cell_type": "code",
      "execution_count": 115,
      "metadata": {
        "deletable": false,
        "editable": false,
        "nbgrader": {
          "cell_type": "code",
          "checksum": "017ca952bd4b618680f94b4eb603e091",
          "grade": true,
          "grade_id": "cell-473051ae67ddc9a6",
          "locked": true,
          "points": 1,
          "schema_version": 3,
          "solution": false,
          "task": false
        },
        "id": "B5DDZdWkgr2O"
      },
      "outputs": [],
      "source": [
        "# проверка того, что задание решено верно\n",
        "assert sum(name) == 14\n",
        "assert np.abs(z_obs - 1.7888543819998317) < 1e-5"
      ]
    },
    {
      "cell_type": "markdown",
      "source": [
        "**ОТВЕТ:** На уровне значимости 5% мы отвергаем нулевую гипотезу."
      ],
      "metadata": {
        "id": "Q42oZ9IO9onb"
      }
    },
    {
      "cell_type": "markdown",
      "metadata": {
        "id": "iHFGPi4fgr2V"
      },
      "source": [
        "Выводы учёных могут отличаться от наших. Результат проверки гипотезы зависит от многих внешних факторов. Например, от громкости произнесённого кошачьего имени. Все такие факторы надо как-то изолировать.\n",
        "\n",
        "[В оригинальном исследовании](https://www.nature.com/articles/s41598-019-40616-4) учёные реализовывали более сложные статистические процедуры. Они пытались проконтролировать все внешние факторы, которые могли бы повлиять на результаты эксперимента. О том, как это можно делать, мы с вами поговорим в будущем. \n",
        "\n",
        "![](https://cdn.nplus1.ru/images/2019/04/04/47a222337ec0984bcec1644f12b4c328.gif)"
      ]
    },
    {
      "cell_type": "markdown",
      "metadata": {
        "id": "v9FSCmEHgr2V"
      },
      "source": [
        "## Задание 6\n",
        "\n",
        "Лекции по матану на экономическом факультете читают два преподавателя: Злой и Добрый. Каждый год они чередуются. Среди студентов ходит слух, что в год, когда преподаёт Злой, отчисляют куда больше народу. В таблице `matan.csv` лежит информация по $418$ студентам экономического факультета. \n",
        "\n",
        "В столбце `is_angry` стоит единица, если этому студенту преподавал Злой. В столбце `target_1` стоит единица, если человек закончил первый курс. Проверьте гипотезу о том, что Злой отчисляет больше народу. В переменную `pval` запишите $p$-значение, получившееся при проверке гипотезы. "
      ]
    },
    {
      "cell_type": "code",
      "source": [
        "if COLLAB:\n",
        "    df = pd.read_csv('/content/gdrive/MyDrive/DA/4/matan.csv', sep='\\t')\n",
        "else:\n",
        "    df = pd.read_csv('matan.csv', sep='\\t')\n",
        "print(df.shape)\n",
        "df.head()"
      ],
      "metadata": {
        "colab": {
          "base_uri": "https://localhost:8080/",
          "height": 224
        },
        "id": "31q3bKYMQ8sj",
        "outputId": "a0392ad7-83a5-4a97-839e-70036df34250"
      },
      "execution_count": 119,
      "outputs": [
        {
          "output_type": "stream",
          "name": "stdout",
          "text": [
            "(418, 2)\n"
          ]
        },
        {
          "output_type": "execute_result",
          "data": {
            "text/plain": [
              "   is_angry  target_1\n",
              "0         0       1.0\n",
              "1         0       1.0\n",
              "2         0       1.0\n",
              "3         0       0.0\n",
              "4         0       1.0"
            ],
            "text/html": [
              "\n",
              "  <div id=\"df-3f61e13f-8668-4773-9d32-171e386e4e3b\">\n",
              "    <div class=\"colab-df-container\">\n",
              "      <div>\n",
              "<style scoped>\n",
              "    .dataframe tbody tr th:only-of-type {\n",
              "        vertical-align: middle;\n",
              "    }\n",
              "\n",
              "    .dataframe tbody tr th {\n",
              "        vertical-align: top;\n",
              "    }\n",
              "\n",
              "    .dataframe thead th {\n",
              "        text-align: right;\n",
              "    }\n",
              "</style>\n",
              "<table border=\"1\" class=\"dataframe\">\n",
              "  <thead>\n",
              "    <tr style=\"text-align: right;\">\n",
              "      <th></th>\n",
              "      <th>is_angry</th>\n",
              "      <th>target_1</th>\n",
              "    </tr>\n",
              "  </thead>\n",
              "  <tbody>\n",
              "    <tr>\n",
              "      <th>0</th>\n",
              "      <td>0</td>\n",
              "      <td>1.0</td>\n",
              "    </tr>\n",
              "    <tr>\n",
              "      <th>1</th>\n",
              "      <td>0</td>\n",
              "      <td>1.0</td>\n",
              "    </tr>\n",
              "    <tr>\n",
              "      <th>2</th>\n",
              "      <td>0</td>\n",
              "      <td>1.0</td>\n",
              "    </tr>\n",
              "    <tr>\n",
              "      <th>3</th>\n",
              "      <td>0</td>\n",
              "      <td>0.0</td>\n",
              "    </tr>\n",
              "    <tr>\n",
              "      <th>4</th>\n",
              "      <td>0</td>\n",
              "      <td>1.0</td>\n",
              "    </tr>\n",
              "  </tbody>\n",
              "</table>\n",
              "</div>\n",
              "      <button class=\"colab-df-convert\" onclick=\"convertToInteractive('df-3f61e13f-8668-4773-9d32-171e386e4e3b')\"\n",
              "              title=\"Convert this dataframe to an interactive table.\"\n",
              "              style=\"display:none;\">\n",
              "        \n",
              "  <svg xmlns=\"http://www.w3.org/2000/svg\" height=\"24px\"viewBox=\"0 0 24 24\"\n",
              "       width=\"24px\">\n",
              "    <path d=\"M0 0h24v24H0V0z\" fill=\"none\"/>\n",
              "    <path d=\"M18.56 5.44l.94 2.06.94-2.06 2.06-.94-2.06-.94-.94-2.06-.94 2.06-2.06.94zm-11 1L8.5 8.5l.94-2.06 2.06-.94-2.06-.94L8.5 2.5l-.94 2.06-2.06.94zm10 10l.94 2.06.94-2.06 2.06-.94-2.06-.94-.94-2.06-.94 2.06-2.06.94z\"/><path d=\"M17.41 7.96l-1.37-1.37c-.4-.4-.92-.59-1.43-.59-.52 0-1.04.2-1.43.59L10.3 9.45l-7.72 7.72c-.78.78-.78 2.05 0 2.83L4 21.41c.39.39.9.59 1.41.59.51 0 1.02-.2 1.41-.59l7.78-7.78 2.81-2.81c.8-.78.8-2.07 0-2.86zM5.41 20L4 18.59l7.72-7.72 1.47 1.35L5.41 20z\"/>\n",
              "  </svg>\n",
              "      </button>\n",
              "      \n",
              "  <style>\n",
              "    .colab-df-container {\n",
              "      display:flex;\n",
              "      flex-wrap:wrap;\n",
              "      gap: 12px;\n",
              "    }\n",
              "\n",
              "    .colab-df-convert {\n",
              "      background-color: #E8F0FE;\n",
              "      border: none;\n",
              "      border-radius: 50%;\n",
              "      cursor: pointer;\n",
              "      display: none;\n",
              "      fill: #1967D2;\n",
              "      height: 32px;\n",
              "      padding: 0 0 0 0;\n",
              "      width: 32px;\n",
              "    }\n",
              "\n",
              "    .colab-df-convert:hover {\n",
              "      background-color: #E2EBFA;\n",
              "      box-shadow: 0px 1px 2px rgba(60, 64, 67, 0.3), 0px 1px 3px 1px rgba(60, 64, 67, 0.15);\n",
              "      fill: #174EA6;\n",
              "    }\n",
              "\n",
              "    [theme=dark] .colab-df-convert {\n",
              "      background-color: #3B4455;\n",
              "      fill: #D2E3FC;\n",
              "    }\n",
              "\n",
              "    [theme=dark] .colab-df-convert:hover {\n",
              "      background-color: #434B5C;\n",
              "      box-shadow: 0px 1px 3px 1px rgba(0, 0, 0, 0.15);\n",
              "      filter: drop-shadow(0px 1px 2px rgba(0, 0, 0, 0.3));\n",
              "      fill: #FFFFFF;\n",
              "    }\n",
              "  </style>\n",
              "\n",
              "      <script>\n",
              "        const buttonEl =\n",
              "          document.querySelector('#df-3f61e13f-8668-4773-9d32-171e386e4e3b button.colab-df-convert');\n",
              "        buttonEl.style.display =\n",
              "          google.colab.kernel.accessAllowed ? 'block' : 'none';\n",
              "\n",
              "        async function convertToInteractive(key) {\n",
              "          const element = document.querySelector('#df-3f61e13f-8668-4773-9d32-171e386e4e3b');\n",
              "          const dataTable =\n",
              "            await google.colab.kernel.invokeFunction('convertToInteractive',\n",
              "                                                     [key], {});\n",
              "          if (!dataTable) return;\n",
              "\n",
              "          const docLinkHtml = 'Like what you see? Visit the ' +\n",
              "            '<a target=\"_blank\" href=https://colab.research.google.com/notebooks/data_table.ipynb>data table notebook</a>'\n",
              "            + ' to learn more about interactive tables.';\n",
              "          element.innerHTML = '';\n",
              "          dataTable['output_type'] = 'display_data';\n",
              "          await google.colab.output.renderOutput(dataTable, element);\n",
              "          const docLink = document.createElement('div');\n",
              "          docLink.innerHTML = docLinkHtml;\n",
              "          element.appendChild(docLink);\n",
              "        }\n",
              "      </script>\n",
              "    </div>\n",
              "  </div>\n",
              "  "
            ]
          },
          "metadata": {},
          "execution_count": 119
        }
      ]
    },
    {
      "cell_type": "markdown",
      "source": [
        "$$\n",
        "\\begin{aligned}\n",
        "&H_0: \\hspace{2mm} p_1 = p_2 \\hspace{2mm} \\text{Злой и добрый отчисляют одинаково} \\\\\n",
        "&H_1: \\hspace{2mm} p_1 > p_2  \\hspace{2mm} \\text{Злой отчисляет больше}\n",
        "\\end{aligned}\n",
        "$$"
      ],
      "metadata": {
        "id": "LBKLdCuO-XHO"
      }
    },
    {
      "cell_type": "code",
      "execution_count": 122,
      "metadata": {
        "deletable": false,
        "nbgrader": {
          "cell_type": "code",
          "checksum": "3ac2faf1e5b216db1ab097b8d456f1f6",
          "grade": false,
          "grade_id": "cell-06da65b1aca523bb",
          "locked": false,
          "schema_version": 3,
          "solution": true,
          "task": false
        },
        "id": "FHnlfQltgr2V",
        "colab": {
          "base_uri": "https://localhost:8080/"
        },
        "outputId": "683e1ec9-1d8a-4f10-b1dc-f19ebe6689a4"
      },
      "outputs": [
        {
          "output_type": "stream",
          "name": "stdout",
          "text": [
            "z_obs = 0.298976965745299\n",
            "pval = 0.38247881042266096\n"
          ]
        }
      ],
      "source": [
        "pos = df[df['is_angry'] == 0]['target_1'].dropna()\n",
        "neg = df[df['is_angry'] == 1]['target_1'].dropna()\n",
        "\n",
        "n = (pos.sum() + neg.sum()) / (pos.shape[0] + neg.shape[0])\n",
        "z_obs  = (neg.mean() - pos.mean()) / np.sqrt(n * (1 - n) * (1 / neg.shape[0] + 1 / pos.shape[0]))\n",
        "pval = 1 - sts.norm.cdf(z_obs)\n",
        "\n",
        "print(\"z_obs =\", z_obs )\n",
        "print(\"pval =\", pval)"
      ]
    },
    {
      "cell_type": "markdown",
      "source": [
        "**ОТВЕТ:** У нас нет оснований отвергать нулевую гипотезу. "
      ],
      "metadata": {
        "id": "xF0Nuv1h_mn1"
      }
    },
    {
      "cell_type": "code",
      "execution_count": 123,
      "metadata": {
        "deletable": false,
        "editable": false,
        "nbgrader": {
          "cell_type": "code",
          "checksum": "056a15214049be745202f8fcdb082a37",
          "grade": true,
          "grade_id": "cell-1ddb2c839f78df02",
          "locked": true,
          "points": 1,
          "schema_version": 3,
          "solution": false,
          "task": false
        },
        "id": "RfARqkUvgr2V"
      },
      "outputs": [],
      "source": [
        "# проверка того, что задание решено верно\n",
        "assert np.abs(np.abs(z_obs) - 0.29897)  < 1e-5"
      ]
    },
    {
      "cell_type": "markdown",
      "metadata": {
        "id": "-z_-kZZJgr2W"
      },
      "source": [
        "## Задание 7\n",
        "\n",
        "Вася решил проверить известное утверждение о том, что бутерброд падает маслом вниз. Для этого он провёл серию из $200$ испытаний. Бутерброд упал маслом вниз $105$ раз. Маслом вверх $95$ раз. Можно ли утверждать, что бутерброд падает маслом вниз так же часто, как и маслом вверх на уровне значимости $5\\%$? В качестве ответа сохраните в `pval` $p$-значение. \n",
        "\n",
        "__Примечание:__ для поиска дисперсии используйте смещённый вариант. Либо по формуле $\\frac{p\\cdot(1-p)}{n}$ либо с помощью `std(ddof=0)`. При поиске `pval` обратите внимание, что алтернатива двусторонняя. А ещё [прочитайте историю](https://absentis.livejournal.com/27153.html) про то, почему Коперник мазал бутеры маслом. "
      ]
    },
    {
      "cell_type": "markdown",
      "source": [
        "$$\n",
        "\\begin{aligned}\n",
        "&H_0: \\hspace{2mm} p_1 = p_2 \\hspace{2mm} \\text{Бутерброд одинаково часто падает маслом и хлебом вниз} \\\\\n",
        "&H_1: \\hspace{2mm} p_1 \\ne p_2  \\hspace{2mm} \\text{Есть различия}\n",
        "\\end{aligned}\n",
        "$$"
      ],
      "metadata": {
        "id": "YZctxpIdAN5F"
      }
    },
    {
      "cell_type": "code",
      "execution_count": 125,
      "metadata": {
        "deletable": false,
        "nbgrader": {
          "cell_type": "code",
          "checksum": "32402f85ea10dfa3f248e44f703663e5",
          "grade": false,
          "grade_id": "cell-db59ee9982bc3985",
          "locked": false,
          "schema_version": 3,
          "solution": true,
          "task": false
        },
        "id": "VqhmmLJDgr2W",
        "colab": {
          "base_uri": "https://localhost:8080/"
        },
        "outputId": "6ea2d4bd-b621-4dd1-f4c3-f2028e4cbe0c"
      },
      "outputs": [
        {
          "output_type": "stream",
          "name": "stdout",
          "text": [
            "z_obs = 0.7079923254047893\n",
            "z_crit = 1.959963984540054\n",
            "pval = 0.47895002342035786\n"
          ]
        }
      ],
      "source": [
        "alpha = 0.05\n",
        "n = 200\n",
        "m = 105\n",
        "\n",
        "pval = 2 * (1 - sts.norm.cdf(z_obs)) #для двусторонней альтернативы\n",
        "z_obs = (m / n - 0.5) / np.sqrt(m / n * (1 - m / n) / n)\n",
        "z_crit = sts.norm.ppf(1 - alpha / 2)\n",
        "print(\"z_obs =\", z_obs )\n",
        "print(\"z_crit =\", z_crit )\n",
        "print(\"pval =\", pval)"
      ]
    },
    {
      "cell_type": "markdown",
      "source": [
        "**ОТВЕТ:** Наблюдаемое значение меньше критического, у нас нет оснований отвергать нулевую гипотезу. "
      ],
      "metadata": {
        "id": "V-qQmFJJ_0hs"
      }
    },
    {
      "cell_type": "code",
      "execution_count": null,
      "metadata": {
        "deletable": false,
        "editable": false,
        "nbgrader": {
          "cell_type": "code",
          "checksum": "6afd2f5b522bf443507836a8f3bb9378",
          "grade": true,
          "grade_id": "cell-0e69143702359946",
          "locked": true,
          "points": 1,
          "schema_version": 3,
          "solution": false,
          "task": false
        },
        "id": "pXFOCqJQgr2W"
      },
      "outputs": [],
      "source": [
        "# проверка того, что задание решено верно\n",
        "assert np.abs(z_obs - 0.70799) < 1e-5"
      ]
    }
  ],
  "metadata": {
    "kernelspec": {
      "display_name": "Python 3 (ipykernel)",
      "language": "python",
      "name": "python3"
    },
    "language_info": {
      "codemirror_mode": {
        "name": "ipython",
        "version": 3
      },
      "file_extension": ".py",
      "mimetype": "text/x-python",
      "name": "python",
      "nbconvert_exporter": "python",
      "pygments_lexer": "ipython3",
      "version": "3.9.13"
    },
    "colab": {
      "provenance": []
    }
  },
  "nbformat": 4,
  "nbformat_minor": 0
}