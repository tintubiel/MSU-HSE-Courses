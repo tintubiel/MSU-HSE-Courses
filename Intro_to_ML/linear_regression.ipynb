{
  "nbformat": 4,
  "nbformat_minor": 0,
  "metadata": {
    "colab": {
      "provenance": [],
      "include_colab_link": true
    },
    "kernelspec": {
      "name": "python3",
      "display_name": "Python 3"
    },
    "language_info": {
      "name": "python"
    }
  },
  "cells": [
    {
      "cell_type": "markdown",
      "metadata": {
        "id": "view-in-github",
        "colab_type": "text"
      },
      "source": [
        "<a href=\"https://colab.research.google.com/github/tintubiel/MSU_ML_MFK/blob/main/linear_regression.ipynb\" target=\"_parent\"><img src=\"https://colab.research.google.com/assets/colab-badge.svg\" alt=\"Open In Colab\"/></a>"
      ]
    },
    {
      "cell_type": "markdown",
      "source": [
        "\n",
        "\n",
        "# 1. Линейная регрессия\n",
        "\n",
        "Вам предложен шаблон класса LinearRegression. Реализуйте методы  .fit() и .predict() соответствующие изложенной выше модели. В рамках выполнения этого задания можно пользоваться только библиотекой numpy. Использование любых других библиотек приведёт к ошибке при проверке задания автоматизированной системой. Также мы просим Вас не менять название класса и обозначенных методов, это также приведёт к ошибке. Добавлять свои методы в класс можно.\n",
        "\n",
        "Полученные коэффициенты модели должны храниться в поле .coef_\n",
        "\n",
        "\n",
        "Шаблон класса LinearRegression приведён ниже. Заполните все необходимые пропуски и отправьте получившийся файл в яндекс.контест. Не забудьте про все необходимые импорты."
      ],
      "metadata": {
        "id": "lEUdoNRoPVtP"
      }
    },
    {
      "cell_type": "code",
      "source": [
        "import numpy as np\n",
        "from numpy.linalg import inv\n",
        "\n",
        "class LinearRegression:\n",
        "  def __init__(self,**kwargs):\n",
        "    self.coef_ = None\n",
        "\n",
        "  def fit(self, x: np.array, y: np.array):\n",
        "    x_train = np.hstack((x,np.ones(x.shape[0]).reshape(x.shape[0],1)))\n",
        "    first_part = inv(np.dot(np.transpose(x_train),x_train))\n",
        "    second_part = np.dot(np.transpose(x_train),y)\n",
        "    self.coef_ = np.dot(first_part,second_part)\n",
        "    return self.coef_\n",
        "\n",
        "  def predict(self, x: np.array):\n",
        "    x_test = np.hstack((x,np.ones(x.shape[0]).reshape(x.shape[0],1)))\n",
        "    y_pred = np.dot(x_test,self.coef_)\n",
        "    return y_pred"
      ],
      "metadata": {
        "id": "dU3HOMJgPqBr"
      },
      "execution_count": null,
      "outputs": []
    },
    {
      "cell_type": "code",
      "source": [
        "x1 = np.linspace(0,100,100).reshape(100,1)\n",
        "x2 = x1*3+5\n",
        "\n",
        "x_train=x1[:int(3*len(x1)/4)]\n",
        "x_test = x1[int(3*len(x1)/4):]\n",
        "y_train=x2[:int(3*len(x1)/4)]\n",
        "y_test = x2[int(3*len(x1)/4):]"
      ],
      "metadata": {
        "id": "3WBAUAY4JvY-"
      },
      "execution_count": null,
      "outputs": []
    },
    {
      "cell_type": "code",
      "source": [
        "model=LinearRegression()\n",
        "\n",
        "model.fit(x_train,y_train)\n",
        "y_pred = model.predict(x_test)"
      ],
      "metadata": {
        "id": "306Iu_MtLD9R"
      },
      "execution_count": null,
      "outputs": []
    },
    {
      "cell_type": "code",
      "source": [
        "from sklearn.metrics import mean_squared_error\n",
        "mse = mean_squared_error(y_test, y_pred)\n",
        "print(mse)"
      ],
      "metadata": {
        "id": "qehQgmO9N7O3",
        "outputId": "7f3c601f-3eb4-4d08-f2f1-658544476728",
        "colab": {
          "base_uri": "https://localhost:8080/"
        }
      },
      "execution_count": null,
      "outputs": [
        {
          "output_type": "stream",
          "name": "stdout",
          "text": [
            "8.077935669463161e-28\n"
          ]
        }
      ]
    },
    {
      "cell_type": "markdown",
      "source": [
        "#2. Метрика R-квадрат\n",
        "\n",
        "Одна из метрик оценки качества регрессии - это коэффициент детерминации, или, т.н. r-квадрат. Подробнее об этой метрике можно прочитать в лекции.\n",
        "\n",
        "Вам предлагается написать функцию r2(y_true, y_pred) для подсчета коэффициента детерминации."
      ],
      "metadata": {
        "id": "OSBDH5SzOuNa"
      }
    },
    {
      "cell_type": "code",
      "source": [
        "import numpy as np\n",
        "\n",
        "def r2(y_true, y_pred):\n",
        "  d_e = np.mean((y_pred-y_true)**2)\n",
        "  d_z = np.mean((y_true - np.mean(y_true))**2)\n",
        "  return 1-(d_e/d_z)"
      ],
      "metadata": {
        "id": "dOd7eiwONEDc"
      },
      "execution_count": 2,
      "outputs": []
    },
    {
      "cell_type": "code",
      "source": [],
      "metadata": {
        "id": "U_-f3rBYQRr-"
      },
      "execution_count": null,
      "outputs": []
    }
  ]
}
