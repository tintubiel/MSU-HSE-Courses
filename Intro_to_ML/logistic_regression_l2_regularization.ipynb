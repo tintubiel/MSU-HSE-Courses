{
  "nbformat": 4,
  "nbformat_minor": 0,
  "metadata": {
    "colab": {
      "provenance": [],
      "collapsed_sections": [],
      "include_colab_link": true
    },
    "kernelspec": {
      "name": "python3",
      "display_name": "Python 3"
    },
    "language_info": {
      "name": "python"
    }
  },
  "cells": [
    {
      "cell_type": "markdown",
      "metadata": {
        "id": "view-in-github",
        "colab_type": "text"
      },
      "source": [
        "<a href=\"https://colab.research.google.com/github/tintubiel/MSU_ML_MFK/blob/main/logistic_regression_l2_regularization.ipynb\" target=\"_parent\"><img src=\"https://colab.research.google.com/assets/colab-badge.svg\" alt=\"Open In Colab\"/></a>"
      ]
    },
    {
      "cell_type": "markdown",
      "source": [
        "# L2-регуляризация\n",
        "\n",
        "Регуляризация - это один из способов борьбы с переобучением моделей. Делается это в основном при помощи добавления к функции потерь некоторых слагаемых. Существуют стандартные методы регуляризации. Один из таких методов - это так называемая L2-регуляризация. Состоит идея L2-регуляризации в следующем:\n",
        "\n",
        "Мы добавляем к функции потерь специальное слагаемое, равное половине квадрата 2-нормы (длины вектора) весов модели, умноженного на некоторый коэффициент. То есть наша новая лосс функция выглядит так:\n",
        "\n",
        "$$\\hat{H} = H + \\frac{β}{2}|\\vec{\\omega}|^2$$\n",
        "\n",
        "Градиенты такой функции тоже нехитрым образом преобразуются:\n",
        "$$\\frac{∂ \\hat{H}}{∂ \\omega} = \\frac{∂H}{∂ \\omega} + β\\omega$$\n",
        "Поскольку $|\\vec{\\omega}|^2 = \\omega_0^2 + \\omega_1^2 + ... + \\omega_n^2$\n",
        "\n",
        "Реализуйте класс LogisticRegression для решения задачи бинарной классификации с L2-регуляризацией.\n",
        "\n",
        "Напоминание:\n",
        "\n",
        "* Функция .fit(x, y) производит обучение модели. В рамках этой функции необходимо реализовать подбор оптимальных параметров модели/сконфигурировать модель для дальнейшего использования на основе данной тренировочной выборки, где x - это матрица признакового описания выборки, а y - вектор ответов\n",
        "\n",
        "* Функция .predict(x) осуществляет предсказание для каждого из объектов, чьи векторные описания представлены строками матрицы x. Выполняется строго после .fit(). Ради безопасности можно даже реализовать механизм отказа в виде выбрасывания специальной ошибки UnfittedError в случае попытки вызова функции .predict() до вызова функции .fit()"
      ],
      "metadata": {
        "id": "tXTvYQcRf1iu"
      }
    },
    {
      "cell_type": "markdown",
      "source": [
        "Шаблон класса:"
      ],
      "metadata": {
        "id": "O1FuStThezWH"
      }
    },
    {
      "cell_type": "code",
      "source": [
        "\n",
        "import numpy as np\n",
        "\n",
        "class LogisticRegression(object):\n",
        "  def __init__(self):\n",
        "    self.alpha = None\n",
        "\n",
        "  def fit(self, x_train, y_train,  lr, betta, num_epoch):\n",
        "    self.alpha = np.ones(x_train.shape[1]+1)\n",
        "    x_train=np.hstack((x_train,np.ones(x_train.shape[0]).reshape(x_train.shape[0],1)))\n",
        "\n",
        "    for epo in range(num_epoch):\n",
        "      for i,x in enumerate(x_train):\n",
        "          y_pred = 1/(1 + np.exp(-np.dot(self.alpha, x)))\n",
        "          grad = x * ((1 - y_train[i]) * y_pred - y_train[i] * (1 - y_pred)) + betta * self.alpha\n",
        "          self.alpha = self.alpha - lr * grad\n",
        "    return self.alpha\n",
        "\n",
        "  def predict(self, X):\n",
        "      preds=[]\n",
        "      X=np.hstack((X,np.ones(X.shape[0]).reshape(X.shape[0],1)))\n",
        "      print(self.alpha)\n",
        "      for i,x in enumerate(X):\n",
        "        preds.append(1/(1 + np.exp(-np.dot(self.alpha, x))))\n",
        "      return preds\n",
        "\n",
        "  def predict_proba(self,X):\n",
        "      X=np.hstack((X,np.ones(X.shape[0]).reshape(X.shape[0],1)))\n",
        "      probabilities=[]\n",
        "      for i,x in enumerate(X):\n",
        "        y_pred = 1/(1 + np.exp(-np.dot(self.alpha, x)))\n",
        "        probabilities.append([1-y_pred, y_pred])\n",
        "      return(probabilities)\n"
      ],
      "metadata": {
        "id": "qmprS37ie17i"
      },
      "execution_count": 69,
      "outputs": []
    },
    {
      "cell_type": "code",
      "source": [
        "x_train=np.array([[-1,-1],[-1,4],[-2,-5],[-3,10],[1,2],[3,-1],[3,10],[2,-3]])\n",
        "y_train=np.array([0,0,0,0,1,1,1,1])\n",
        "\n",
        "x_test=np.array([[-0.5,1],\n",
        "                 [-2.5,4.5],\n",
        "                 [0.5,2],\n",
        "                 [3.5,-1.5]])\n",
        "lr=0.1\n",
        "num_epoch=20\n",
        "betta=0\n",
        "\n",
        "model=LogisticRegression()\n",
        "\n",
        "model.fit(x_train, y_train, lr, betta, num_epoch)\n",
        "print(np.array(model.predict_proba(x_test)))"
      ],
      "metadata": {
        "id": "DAVElVrlg5ws",
        "outputId": "2f3a341c-ffd2-43b9-a8ee-f692cf8302cc",
        "colab": {
          "base_uri": "https://localhost:8080/"
        }
      },
      "execution_count": 72,
      "outputs": [
        {
          "output_type": "stream",
          "name": "stdout",
          "text": [
            "[[7.42959562e-01 2.57040438e-01]\n",
            " [9.98267821e-01 1.73217861e-03]\n",
            " [2.01690896e-01 7.98309104e-01]\n",
            " [1.02587929e-04 9.99897412e-01]]\n"
          ]
        }
      ]
    },
    {
      "cell_type": "code",
      "source": [
        "from sklearn.linear_model import LogisticRegression\n",
        "model=LogisticRegression()\n",
        "model.fit(x_train, y_train)\n",
        "model.predict_proba(x_test)"
      ],
      "metadata": {
        "id": "LtbJatO2NuH-",
        "outputId": "210e4825-4f90-4d1a-f140-a40f1953e842",
        "colab": {
          "base_uri": "https://localhost:8080/"
        }
      },
      "execution_count": 73,
      "outputs": [
        {
          "output_type": "execute_result",
          "data": {
            "text/plain": [
              "array([[0.70817739, 0.29182261],\n",
              "       [0.96431016, 0.03568984],\n",
              "       [0.41401579, 0.58598421],\n",
              "       [0.01832846, 0.98167154]])"
            ]
          },
          "metadata": {},
          "execution_count": 73
        }
      ]
    },
    {
      "cell_type": "markdown",
      "source": [
        "# Замечание\n",
        "\n",
        "По большому счету Вам нужно внести соответствующие изменения в класс LogisticRegression, который Вы реализовали в предыдущем задании. В качестве шаблона кода можно также взять код из предыдущего задания. Главное требование - реализация функций `.fit()`,  `.predict()` и `predict_proba()`"
      ],
      "metadata": {
        "id": "YpGh06CzgAsG"
      }
    },
    {
      "cell_type": "code",
      "source": [],
      "metadata": {
        "id": "Lxv6GAuhf90F"
      },
      "execution_count": null,
      "outputs": []
    }
  ]
}
