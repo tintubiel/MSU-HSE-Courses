{
 "cells": [
  {
   "cell_type": "markdown",
   "metadata": {
    "id": "IHJdGiLaA41g"
   },
   "source": [
    "# Домашнее задание."
   ]
  },
  {
   "cell_type": "markdown",
   "metadata": {},
   "source": [
    "## 1. Оптимальный K"
   ]
  },
  {
   "cell_type": "markdown",
   "metadata": {},
   "source": [
    "\n",
    "В этом задании Вам предлагается подобрать оптимальный K из диапазона [1,50] для решения задачи бинарной классификации на примере датасета breast_cancer. Этот датасет можно загрузить из модуля sklearn.datasets\n",
    "\n",
    "Качества оценивается при помощи метрики accuracy при помощи методики кросс-валидации. Об этой методике можно подробнее прочитать [в документации sklearn](https://scikit-learn.org/stable/modules/generated/sklearn.model_selection.cross_val_score.html)\n",
    "\n",
    "Мы предлагаем Вам заполнить недостающие команды в следующем скелете кода и получить оптимальное значение K. В ответе на задание необходимо указать это значение."
   ]
  },
  {
   "cell_type": "code",
   "execution_count": 13,
   "metadata": {},
   "outputs": [],
   "source": [
    "import sklearn\n",
    "import numpy as np\n",
    "from sklearn.neighbors import KNeighborsClassifier\n",
    "from sklearn.datasets import load_breast_cancer\n",
    "from sklearn.metrics import accuracy_score\n",
    "from sklearn.model_selection import cross_val_score\n",
    "from sklearn.model_selection import train_test_split"
   ]
  },
  {
   "cell_type": "code",
   "execution_count": 14,
   "metadata": {
    "id": "dAqbxYEsBBnZ"
   },
   "outputs": [
    {
     "name": "stdout",
     "output_type": "stream",
     "text": [
      "Оптимальный параметр К: 11\n"
     ]
    }
   ],
   "source": [
    "random_seed = 4238\n",
    "\n",
    "np.random.seed(random_seed)\n",
    "n_splits = 3\n",
    "\n",
    "from sklearn.datasets import load_breast_cancer\n",
    "\n",
    "X, y = load_breast_cancer(return_X_y=True)\n",
    "\"\"\"\n",
    "  Здесь Вам предлагается написать тело цикла для подбора оптимального K\n",
    "  Результаты оценки алгоритма при каждом отдельно взятом K рекомендуем записывать в список cv_scores\n",
    "\"\"\"\n",
    "cv_scores = []\n",
    "for k in range(1,51):\n",
    "    сv_list=[]\n",
    "    model = KNeighborsClassifier(n_neighbors=k)\n",
    "    cv_scores.append(np.mean(cross_val_score(model, X, y, cv=n_splits)))\n",
    "#print(cv_scores)\n",
    "print('Оптимальный параметр К:', np.argmax(cv_scores)+1)"
   ]
  },
  {
   "cell_type": "markdown",
   "metadata": {},
   "source": [
    "## 2. KNN_classifier"
   ]
  },
  {
   "cell_type": "markdown",
   "metadata": {},
   "source": [
    "Мы предлагаем Вам обобщить приведённый пример и реализовать алгоритм KNN для объектов произвольных пространств для решения задачи многоклассовой классификации.\n",
    "\n",
    "В этом задании Вам предлагается написать класс KNN_classifier, пригодный для решения задачи многоклассовой классификации."
   ]
  },
  {
   "cell_type": "code",
   "execution_count": 6,
   "metadata": {},
   "outputs": [],
   "source": [
    "import numpy as np\n",
    "\n",
    "class KNN_classifier:\n",
    "    def __init__(self, n_neighbors: int, **kwargs):\n",
    "        self.K = n_neighbors\n",
    "\n",
    "    def fit(self, x: np.array, y: np.array):\n",
    "        self.x = x\n",
    "        self.y = y\n",
    "        return self.x, self.y\n",
    "\n",
    "    def predict(self, x: np.array):\n",
    "\n",
    "        y_pred=[]\n",
    "        for test_obj in x:\n",
    "            points=[]\n",
    "            for j in range(len(self.x)):\n",
    "                distance=np.linalg.norm(self.x[j]-test_obj)\n",
    "                points.append([self.x[j],distance,self.y[j]])\n",
    "                \n",
    "            sorted_points = sorted(points,key=lambda dist: dist[-2])\n",
    "            predictions={}\n",
    "            for i in range(len(sorted_points[:self.K])):\n",
    "                if sorted_points[i][-1] not in predictions.keys():\n",
    "                    predictions[sorted_points[i][-1]]=1\n",
    "                else:\n",
    "                    predictions[sorted_points[i][-1]]+=1   \n",
    "            prediction_max_sum = max(predictions.values())\n",
    "            for key in predictions.keys():\n",
    "                if(predictions[key]==prediction_max_sum):\n",
    "                    y_pred.append(key)\n",
    "                    break\n",
    "        return y_pred"
   ]
  },
  {
   "cell_type": "code",
   "execution_count": 17,
   "metadata": {},
   "outputs": [
    {
     "name": "stdout",
     "output_type": "stream",
     "text": [
      "Accuracy sklearn KNN: 0.9766081871345029\n"
     ]
    }
   ],
   "source": [
    "random_seed = 4238\n",
    "np.random.seed(random_seed)\n",
    "\n",
    "X, y = load_breast_cancer(return_X_y=True)\n",
    "X_train, x_test, y_train, y_test = train_test_split(X, y, test_size=0.3, shuffle=True, random_state=42)\n",
    "\n",
    "clf = KNeighborsClassifier(n_neighbors=8, p=1)\n",
    "clf.fit(X_train, y_train)\n",
    "\n",
    "predictions = clf.predict(x_test)\n",
    "acc = accuracy_score(y_test,predictions)\n",
    "\n",
    "print(\"Accuracy sklearn KNN:\", acc)"
   ]
  },
  {
   "cell_type": "code",
   "execution_count": 18,
   "metadata": {},
   "outputs": [
    {
     "name": "stdout",
     "output_type": "stream",
     "text": [
      "Accuracy my KNN: 0.9649122807017544\n"
     ]
    }
   ],
   "source": [
    "random_seed = 4238\n",
    "np.random.seed(random_seed)\n",
    "\n",
    "clf = KNN_classifier(n_neighbors=8)\n",
    "clf.fit(X_train, y_train)\n",
    "predictions = clf.predict(x_test)\n",
    "\n",
    "acc = accuracy_score(y_test,predictions)\n",
    "\n",
    "print(\"Accuracy my KNN:\",acc)"
   ]
  },
  {
   "cell_type": "markdown",
   "metadata": {
    "id": "fH9lFKAYBFcg"
   },
   "source": [
    "## Примечания\n",
    "\n",
    "Замечание: обратите внимание, что np.argmax(cv_scores) возвращает ИНДЕКС наибольшего элемента массива. Индексация массивов начинается с нуля\n",
    "\n",
    "В данной задаче мы используем один из стандартных датасетов breast cancer. Доступ к этому датасету мы осуществляем при помощи вызова функции `load_breast_cancer`, аналогично тому, как мы это делали на лекции.\n",
    "\n",
    "Аргумент n_splits, в данной задаче равный 3, это количество разбиений датасета для проведения кроссвалидации. В качестве итоговой метрики возьмите **среднее** значение качества по всем разбиениям при проведении кроссвалидации."
   ]
  },
  {
   "cell_type": "code",
   "execution_count": null,
   "metadata": {
    "id": "2mZHYKS2BLhr"
   },
   "outputs": [],
   "source": []
  }
 ],
 "metadata": {
  "colab": {
   "collapsed_sections": [],
   "provenance": []
  },
  "kernelspec": {
   "display_name": "Python 3 (ipykernel)",
   "language": "python",
   "name": "python3"
  },
  "language_info": {
   "codemirror_mode": {
    "name": "ipython",
    "version": 3
   },
   "file_extension": ".py",
   "mimetype": "text/x-python",
   "name": "python",
   "nbconvert_exporter": "python",
   "pygments_lexer": "ipython3",
   "version": "3.9.7"
  }
 },
 "nbformat": 4,
 "nbformat_minor": 4
}
