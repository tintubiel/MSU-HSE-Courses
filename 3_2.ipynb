{
  "cells": [
    {
      "cell_type": "markdown",
      "metadata": {
        "id": "TmKO78Hg7X0H"
      },
      "source": [
        "<center>\n",
        "<img src=\"logo.png\" height=\"900\"> \n",
        "</center>\n",
        "\n",
        "\n",
        "#  НесмУщённый и состоятельный записыватель курсов\n",
        "\n",
        "__Это задание является дополнительным и необязательным для решения.__ \n",
        "\n",
        "Филипп записывает онлайн-курс по статистике. Он ориентируется на то, что каждая неделя курса должна идти около $100$ минут. В голове у Филиппа есть оцениватель времени. Он оценивает по длительности каждое видео и записыват свои прикидки на бумагу. Когда видео снято, Филипп смотрит как долго оно длилось и записывает итоговый результат на бумагу. В таблице `filipp_course.tsv` представлены записи Филиппа за $11$ отснятых недель. \n",
        "\n",
        "__Описание колонок:__\n",
        "\n",
        "- `real_week` - хронологический номер недели\n",
        "- `week` - какой по порядку записывалась неделя\n",
        "- `type` - тип видео (доска, презентация, код)\n",
        "- `estimate_time` - во сколько минут Филипп оценил время видео при разработке материала\n",
        "- `real_time` - сколько реально длится это видео\n"
      ]
    },
    {
      "cell_type": "code",
      "source": [
        "import pandas as pd\n",
        "import numpy as np\n",
        "import seaborn as sns\n",
        "\n",
        "COLLAB = False"
      ],
      "metadata": {
        "id": "XBVzwVZ678xa"
      },
      "execution_count": 24,
      "outputs": []
    },
    {
      "cell_type": "code",
      "source": [
        "if COLLAB:\n",
        "    from google.colab import drive\n",
        "    drive.mount('/content/gdrive')\n",
        "    df = pd.read_csv(\"/content/gdrive/MyDrive/DA/3/2/filipp_course.tsv\", sep='\\t')\n",
        "else:\n",
        "    df = pd.read_csv(\"filipp_course.tsv\", sep='\\t')\n",
        "print(df.shape)\n",
        "df.head()"
      ],
      "metadata": {
        "colab": {
          "base_uri": "https://localhost:8080/",
          "height": 242
        },
        "id": "3ZwbroNWAtAy",
        "outputId": "23043261-5f2c-4aaa-ef6e-b99f04a4d9b1"
      },
      "execution_count": 4,
      "outputs": [
        {
          "output_type": "stream",
          "name": "stdout",
          "text": [
            "Drive already mounted at /content/gdrive; to attempt to forcibly remount, call drive.mount(\"/content/gdrive\", force_remount=True).\n",
            "(129, 5)\n"
          ]
        },
        {
          "output_type": "execute_result",
          "data": {
            "text/plain": [
              "   real_week  week          type  estimate_time  real_time\n",
              "0          6     1    blackboard              6       11.0\n",
              "1          6     1    blackboard             10        7.0\n",
              "2          6     1    blackboard             10       11.5\n",
              "3          6     1    blackboard              5        6.0\n",
              "4          6     1  presentation              5        3.0"
            ],
            "text/html": [
              "\n",
              "  <div id=\"df-de21fad6-c686-417e-b1c3-5eaaff463183\">\n",
              "    <div class=\"colab-df-container\">\n",
              "      <div>\n",
              "<style scoped>\n",
              "    .dataframe tbody tr th:only-of-type {\n",
              "        vertical-align: middle;\n",
              "    }\n",
              "\n",
              "    .dataframe tbody tr th {\n",
              "        vertical-align: top;\n",
              "    }\n",
              "\n",
              "    .dataframe thead th {\n",
              "        text-align: right;\n",
              "    }\n",
              "</style>\n",
              "<table border=\"1\" class=\"dataframe\">\n",
              "  <thead>\n",
              "    <tr style=\"text-align: right;\">\n",
              "      <th></th>\n",
              "      <th>real_week</th>\n",
              "      <th>week</th>\n",
              "      <th>type</th>\n",
              "      <th>estimate_time</th>\n",
              "      <th>real_time</th>\n",
              "    </tr>\n",
              "  </thead>\n",
              "  <tbody>\n",
              "    <tr>\n",
              "      <th>0</th>\n",
              "      <td>6</td>\n",
              "      <td>1</td>\n",
              "      <td>blackboard</td>\n",
              "      <td>6</td>\n",
              "      <td>11.0</td>\n",
              "    </tr>\n",
              "    <tr>\n",
              "      <th>1</th>\n",
              "      <td>6</td>\n",
              "      <td>1</td>\n",
              "      <td>blackboard</td>\n",
              "      <td>10</td>\n",
              "      <td>7.0</td>\n",
              "    </tr>\n",
              "    <tr>\n",
              "      <th>2</th>\n",
              "      <td>6</td>\n",
              "      <td>1</td>\n",
              "      <td>blackboard</td>\n",
              "      <td>10</td>\n",
              "      <td>11.5</td>\n",
              "    </tr>\n",
              "    <tr>\n",
              "      <th>3</th>\n",
              "      <td>6</td>\n",
              "      <td>1</td>\n",
              "      <td>blackboard</td>\n",
              "      <td>5</td>\n",
              "      <td>6.0</td>\n",
              "    </tr>\n",
              "    <tr>\n",
              "      <th>4</th>\n",
              "      <td>6</td>\n",
              "      <td>1</td>\n",
              "      <td>presentation</td>\n",
              "      <td>5</td>\n",
              "      <td>3.0</td>\n",
              "    </tr>\n",
              "  </tbody>\n",
              "</table>\n",
              "</div>\n",
              "      <button class=\"colab-df-convert\" onclick=\"convertToInteractive('df-de21fad6-c686-417e-b1c3-5eaaff463183')\"\n",
              "              title=\"Convert this dataframe to an interactive table.\"\n",
              "              style=\"display:none;\">\n",
              "        \n",
              "  <svg xmlns=\"http://www.w3.org/2000/svg\" height=\"24px\"viewBox=\"0 0 24 24\"\n",
              "       width=\"24px\">\n",
              "    <path d=\"M0 0h24v24H0V0z\" fill=\"none\"/>\n",
              "    <path d=\"M18.56 5.44l.94 2.06.94-2.06 2.06-.94-2.06-.94-.94-2.06-.94 2.06-2.06.94zm-11 1L8.5 8.5l.94-2.06 2.06-.94-2.06-.94L8.5 2.5l-.94 2.06-2.06.94zm10 10l.94 2.06.94-2.06 2.06-.94-2.06-.94-.94-2.06-.94 2.06-2.06.94z\"/><path d=\"M17.41 7.96l-1.37-1.37c-.4-.4-.92-.59-1.43-.59-.52 0-1.04.2-1.43.59L10.3 9.45l-7.72 7.72c-.78.78-.78 2.05 0 2.83L4 21.41c.39.39.9.59 1.41.59.51 0 1.02-.2 1.41-.59l7.78-7.78 2.81-2.81c.8-.78.8-2.07 0-2.86zM5.41 20L4 18.59l7.72-7.72 1.47 1.35L5.41 20z\"/>\n",
              "  </svg>\n",
              "      </button>\n",
              "      \n",
              "  <style>\n",
              "    .colab-df-container {\n",
              "      display:flex;\n",
              "      flex-wrap:wrap;\n",
              "      gap: 12px;\n",
              "    }\n",
              "\n",
              "    .colab-df-convert {\n",
              "      background-color: #E8F0FE;\n",
              "      border: none;\n",
              "      border-radius: 50%;\n",
              "      cursor: pointer;\n",
              "      display: none;\n",
              "      fill: #1967D2;\n",
              "      height: 32px;\n",
              "      padding: 0 0 0 0;\n",
              "      width: 32px;\n",
              "    }\n",
              "\n",
              "    .colab-df-convert:hover {\n",
              "      background-color: #E2EBFA;\n",
              "      box-shadow: 0px 1px 2px rgba(60, 64, 67, 0.3), 0px 1px 3px 1px rgba(60, 64, 67, 0.15);\n",
              "      fill: #174EA6;\n",
              "    }\n",
              "\n",
              "    [theme=dark] .colab-df-convert {\n",
              "      background-color: #3B4455;\n",
              "      fill: #D2E3FC;\n",
              "    }\n",
              "\n",
              "    [theme=dark] .colab-df-convert:hover {\n",
              "      background-color: #434B5C;\n",
              "      box-shadow: 0px 1px 3px 1px rgba(0, 0, 0, 0.15);\n",
              "      filter: drop-shadow(0px 1px 2px rgba(0, 0, 0, 0.3));\n",
              "      fill: #FFFFFF;\n",
              "    }\n",
              "  </style>\n",
              "\n",
              "      <script>\n",
              "        const buttonEl =\n",
              "          document.querySelector('#df-de21fad6-c686-417e-b1c3-5eaaff463183 button.colab-df-convert');\n",
              "        buttonEl.style.display =\n",
              "          google.colab.kernel.accessAllowed ? 'block' : 'none';\n",
              "\n",
              "        async function convertToInteractive(key) {\n",
              "          const element = document.querySelector('#df-de21fad6-c686-417e-b1c3-5eaaff463183');\n",
              "          const dataTable =\n",
              "            await google.colab.kernel.invokeFunction('convertToInteractive',\n",
              "                                                     [key], {});\n",
              "          if (!dataTable) return;\n",
              "\n",
              "          const docLinkHtml = 'Like what you see? Visit the ' +\n",
              "            '<a target=\"_blank\" href=https://colab.research.google.com/notebooks/data_table.ipynb>data table notebook</a>'\n",
              "            + ' to learn more about interactive tables.';\n",
              "          element.innerHTML = '';\n",
              "          dataTable['output_type'] = 'display_data';\n",
              "          await google.colab.output.renderOutput(dataTable, element);\n",
              "          const docLink = document.createElement('div');\n",
              "          docLink.innerHTML = docLinkHtml;\n",
              "          element.appendChild(docLink);\n",
              "        }\n",
              "      </script>\n",
              "    </div>\n",
              "  </div>\n",
              "  "
            ]
          },
          "metadata": {},
          "execution_count": 4
        }
      ]
    },
    {
      "cell_type": "markdown",
      "metadata": {
        "id": "TgBn5Xx_7X0N"
      },
      "source": [
        "Будем считать, что на протяжении всей записи у Филиппа в голове был один и тот же оцениватель (estimator). По этому оценивателю Филипп делал точечные оценки для каждого видео независимо друг от друга. Давайте поисследуем оцениватель Филиппа на различные статистические свойства.\n",
        "\n",
        "__а)__ Посчитайте разницу между `estimate_time` и `real_time`. Запишите её в новую колонку `bias`. Это то, насколько каждая оценка Филиппа оказалась смещена. Посчитайте среднее смещение, запишите его в переменную `bias_mean`. Проинтерпретируйте получившееся число. Правда ли, что Филипп делает несмещённые оценки?"
      ]
    },
    {
      "cell_type": "code",
      "execution_count": 36,
      "metadata": {
        "deletable": false,
        "nbgrader": {
          "cell_type": "code",
          "checksum": "f1bfc762588ba095869c4567106e63c3",
          "grade": false,
          "grade_id": "cell-41bf984899fa94bd",
          "locked": false,
          "schema_version": 3,
          "solution": true,
          "task": false
        },
        "id": "OHlMoT0i7X0O",
        "colab": {
          "base_uri": "https://localhost:8080/"
        },
        "outputId": "525d7f05-a4a1-421c-d0bd-93b297c87420"
      },
      "outputs": [
        {
          "output_type": "stream",
          "name": "stdout",
          "text": [
            "bias_mean -2.1790697674418604\n"
          ]
        }
      ],
      "source": [
        "df[\"bias\"] = df[\"estimate_time\"] - df[\"real_time\"]\n",
        "bias_mean = df[\"bias\"].mean()\n",
        "print(\"bias_mean\", bias_mean)"
      ]
    },
    {
      "cell_type": "markdown",
      "source": [
        "**ОТВЕТ:** Нет, неправда. Несмещенная оценка - это такая, которая в среднем совпадает с истинным значением. Филипп занижает оценку времени съемки в среднем на 2 секунды"
      ],
      "metadata": {
        "id": "aN0yAbcT8tiT"
      }
    },
    {
      "cell_type": "code",
      "execution_count": 37,
      "metadata": {
        "deletable": false,
        "editable": false,
        "nbgrader": {
          "cell_type": "code",
          "checksum": "6a8919bcf04f0c63dc623bc29b2a13c5",
          "grade": true,
          "grade_id": "cell-5afd15f792c01465",
          "locked": true,
          "points": 1,
          "schema_version": 3,
          "solution": false,
          "task": false
        },
        "id": "Gf1zhIOo7X0O"
      },
      "outputs": [],
      "source": [
        "# проверка того, что задание решено верно (задание необязательно - все тесты открыты)\n",
        "assert np.abs(bias_mean  + 2.179) < 1e-2"
      ]
    },
    {
      "cell_type": "markdown",
      "metadata": {
        "id": "Fl5fBVis7X0P"
      },
      "source": [
        "__б)__ Посчитайте среднее смещение, которое делает Филипп для каждого типа контента. Для какого типа смещение оказывается самым низким? Запишите его в переменную `bias_min`. "
      ]
    },
    {
      "cell_type": "code",
      "execution_count": 38,
      "metadata": {
        "deletable": false,
        "nbgrader": {
          "cell_type": "code",
          "checksum": "7467bc82273c898ede60296ceb07f594",
          "grade": false,
          "grade_id": "cell-c478239d6fcce7ac",
          "locked": false,
          "schema_version": 3,
          "solution": true,
          "task": false
        },
        "id": "qGoB4C5F7X0P"
      },
      "outputs": [],
      "source": [
        "df_new = df.groupby(by=\"type\")[\"bias\"].apply(\"mean\")\n",
        "bias_min = df_new['presentation']"
      ]
    },
    {
      "cell_type": "markdown",
      "source": [
        "**ОТВЕТ:** Наименьшее смещение имеет тип presentation"
      ],
      "metadata": {
        "id": "xU-vCNCK9lQW"
      }
    },
    {
      "cell_type": "code",
      "execution_count": 39,
      "metadata": {
        "deletable": false,
        "editable": false,
        "nbgrader": {
          "cell_type": "code",
          "checksum": "1567c938ee632e63defdb3201d956a32",
          "grade": true,
          "grade_id": "cell-a01fb116a0771dbd",
          "locked": true,
          "points": 1,
          "schema_version": 3,
          "solution": false,
          "task": false
        },
        "id": "MhOWqq9P7X0P"
      },
      "outputs": [],
      "source": [
        "# проверка того, что задание решено верно\n",
        "assert bias_min  + 1.47 < 1e-2"
      ]
    },
    {
      "cell_type": "markdown",
      "metadata": {
        "id": "4ARgT8i97X0Q"
      },
      "source": [
        "__в)__ Посмотрим как оцениватель Филиппа ведёт себя в динамике. Посчитайте среднее смещение для каждой недели. Как оно ведёт себя в динамике? Правда ли, что оно постепенно сходится к нулю? Чем поведение смещения в динамике отличается от асимптотической несмещённости? "
      ]
    },
    {
      "cell_type": "code",
      "execution_count": 44,
      "metadata": {
        "deletable": false,
        "nbgrader": {
          "cell_type": "code",
          "checksum": "eec4c0dd6ad769bd64f36f598b618268",
          "grade": false,
          "grade_id": "cell-19fd7c717cb0a996",
          "locked": false,
          "schema_version": 3,
          "solution": true,
          "task": false
        },
        "colab": {
          "base_uri": "https://localhost:8080/",
          "height": 455
        },
        "id": "OVYd4E0D7X0Q",
        "outputId": "7a7fe9e0-3dce-4c06-d515-9a16e19d328e"
      },
      "outputs": [
        {
          "output_type": "display_data",
          "data": {
            "text/plain": [
              "<Figure size 640x480 with 1 Axes>"
            ],
            "image/png": "[encoded data removed]"
          },
          "metadata": {}
        }
      ],
      "source": [
        "df_new = df.groupby(by=\"week\")[\"bias\"].apply(\"mean\").reset_index()\n",
        "sns.barplot(data = df_new, x='week', y='bias');"
      ]
    },
    {
      "cell_type": "markdown",
      "source": [
        "**ОТВЕТ:** Нет, неправда. Асимптотическая несмещённость - это когда смещение оценки уменьшается с ростом объема выборки, в нашем случае такого не наблюдается. "
      ],
      "metadata": {
        "id": "zAcxPhRLAA9x"
      }
    },
    {
      "cell_type": "markdown",
      "metadata": {
        "id": "gjppp2M37X0R"
      },
      "source": [
        "__г)__ Несмещённость - это свойство при фиксированном $n$. Состоятельность - свойство при $n \\to \\infty$. Представим себе, что Филипп переосмыслил свою стратегию оценки времени, которое он тратит на запись видео. Теперь он хочет оценивать время на запись следующего видео как среднее, посчитанное по всем видео, записанным ранее.\n",
        "\n",
        "_Например:_ Филипп записал три видео: \n",
        "\n",
        "- презентация 4 минуты\n",
        "- презентация 1 минута\n",
        "- доска 4 минуты\n",
        "\n",
        "Тогда он оценить веремя на следующее видео как $\\frac{4 + 1 + 4}{3} = 3$. Создайте в табличке колонку `new_estimate` с такми оценками. Время на первое видео он оценивает как $6$ минут. Посмотрите как себя ведёт такая оценка в динамике. Как думаете, к чему она сходится по вероятности? Какой физический смысл стоит за такой оценкой? "
      ]
    },
    {
      "cell_type": "code",
      "execution_count": 43,
      "metadata": {
        "deletable": false,
        "nbgrader": {
          "cell_type": "code",
          "checksum": "e6eed1f6fd65a0aefafe2a9d1a81569c",
          "grade": false,
          "grade_id": "cell-7bd172a1f38fe33e",
          "locked": false,
          "schema_version": 3,
          "solution": true,
          "task": false
        },
        "colab": {
          "base_uri": "https://localhost:8080/",
          "height": 206
        },
        "id": "hXBqwg657X0R",
        "outputId": "c99b909d-b707-419f-a0da-9a7de99b7c2a"
      },
      "outputs": [
        {
          "output_type": "execute_result",
          "data": {
            "text/plain": [
              "   real_week  week          type  estimate_time  real_time  bias  new_estimate\n",
              "0          6     1    blackboard              6       11.0  -5.0      6.000000\n",
              "1          6     1    blackboard             10        7.0   3.0      9.000000\n",
              "2          6     1    blackboard             10       11.5  -1.5      9.833333\n",
              "3          6     1    blackboard              5        6.0  -1.0      8.875000\n",
              "4          6     1  presentation              5        3.0   2.0      7.700000"
            ],
            "text/html": [
              "\n",
              "  <div id=\"df-0fe6f7b4-19ef-4343-8775-d7f472ac7b2d\">\n",
              "    <div class=\"colab-df-container\">\n",
              "      <div>\n",
              "<style scoped>\n",
              "    .dataframe tbody tr th:only-of-type {\n",
              "        vertical-align: middle;\n",
              "    }\n",
              "\n",
              "    .dataframe tbody tr th {\n",
              "        vertical-align: top;\n",
              "    }\n",
              "\n",
              "    .dataframe thead th {\n",
              "        text-align: right;\n",
              "    }\n",
              "</style>\n",
              "<table border=\"1\" class=\"dataframe\">\n",
              "  <thead>\n",
              "    <tr style=\"text-align: right;\">\n",
              "      <th></th>\n",
              "      <th>real_week</th>\n",
              "      <th>week</th>\n",
              "      <th>type</th>\n",
              "      <th>estimate_time</th>\n",
              "      <th>real_time</th>\n",
              "      <th>bias</th>\n",
              "      <th>new_estimate</th>\n",
              "    </tr>\n",
              "  </thead>\n",
              "  <tbody>\n",
              "    <tr>\n",
              "      <th>0</th>\n",
              "      <td>6</td>\n",
              "      <td>1</td>\n",
              "      <td>blackboard</td>\n",
              "      <td>6</td>\n",
              "      <td>11.0</td>\n",
              "      <td>-5.0</td>\n",
              "      <td>6.000000</td>\n",
              "    </tr>\n",
              "    <tr>\n",
              "      <th>1</th>\n",
              "      <td>6</td>\n",
              "      <td>1</td>\n",
              "      <td>blackboard</td>\n",
              "      <td>10</td>\n",
              "      <td>7.0</td>\n",
              "      <td>3.0</td>\n",
              "      <td>9.000000</td>\n",
              "    </tr>\n",
              "    <tr>\n",
              "      <th>2</th>\n",
              "      <td>6</td>\n",
              "      <td>1</td>\n",
              "      <td>blackboard</td>\n",
              "      <td>10</td>\n",
              "      <td>11.5</td>\n",
              "      <td>-1.5</td>\n",
              "      <td>9.833333</td>\n",
              "    </tr>\n",
              "    <tr>\n",
              "      <th>3</th>\n",
              "      <td>6</td>\n",
              "      <td>1</td>\n",
              "      <td>blackboard</td>\n",
              "      <td>5</td>\n",
              "      <td>6.0</td>\n",
              "      <td>-1.0</td>\n",
              "      <td>8.875000</td>\n",
              "    </tr>\n",
              "    <tr>\n",
              "      <th>4</th>\n",
              "      <td>6</td>\n",
              "      <td>1</td>\n",
              "      <td>presentation</td>\n",
              "      <td>5</td>\n",
              "      <td>3.0</td>\n",
              "      <td>2.0</td>\n",
              "      <td>7.700000</td>\n",
              "    </tr>\n",
              "  </tbody>\n",
              "</table>\n",
              "</div>\n",
              "      <button class=\"colab-df-convert\" onclick=\"convertToInteractive('df-0fe6f7b4-19ef-4343-8775-d7f472ac7b2d')\"\n",
              "              title=\"Convert this dataframe to an interactive table.\"\n",
              "              style=\"display:none;\">\n",
              "        \n",
              "  <svg xmlns=\"http://www.w3.org/2000/svg\" height=\"24px\"viewBox=\"0 0 24 24\"\n",
              "       width=\"24px\">\n",
              "    <path d=\"M0 0h24v24H0V0z\" fill=\"none\"/>\n",
              "    <path d=\"M18.56 5.44l.94 2.06.94-2.06 2.06-.94-2.06-.94-.94-2.06-.94 2.06-2.06.94zm-11 1L8.5 8.5l.94-2.06 2.06-.94-2.06-.94L8.5 2.5l-.94 2.06-2.06.94zm10 10l.94 2.06.94-2.06 2.06-.94-2.06-.94-.94-2.06-.94 2.06-2.06.94z\"/><path d=\"M17.41 7.96l-1.37-1.37c-.4-.4-.92-.59-1.43-.59-.52 0-1.04.2-1.43.59L10.3 9.45l-7.72 7.72c-.78.78-.78 2.05 0 2.83L4 21.41c.39.39.9.59 1.41.59.51 0 1.02-.2 1.41-.59l7.78-7.78 2.81-2.81c.8-.78.8-2.07 0-2.86zM5.41 20L4 18.59l7.72-7.72 1.47 1.35L5.41 20z\"/>\n",
              "  </svg>\n",
              "      </button>\n",
              "      \n",
              "  <style>\n",
              "    .colab-df-container {\n",
              "      display:flex;\n",
              "      flex-wrap:wrap;\n",
              "      gap: 12px;\n",
              "    }\n",
              "\n",
              "    .colab-df-convert {\n",
              "      background-color: #E8F0FE;\n",
              "      border: none;\n",
              "      border-radius: 50%;\n",
              "      cursor: pointer;\n",
              "      display: none;\n",
              "      fill: #1967D2;\n",
              "      height: 32px;\n",
              "      padding: 0 0 0 0;\n",
              "      width: 32px;\n",
              "    }\n",
              "\n",
              "    .colab-df-convert:hover {\n",
              "      background-color: #E2EBFA;\n",
              "      box-shadow: 0px 1px 2px rgba(60, 64, 67, 0.3), 0px 1px 3px 1px rgba(60, 64, 67, 0.15);\n",
              "      fill: #174EA6;\n",
              "    }\n",
              "\n",
              "    [theme=dark] .colab-df-convert {\n",
              "      background-color: #3B4455;\n",
              "      fill: #D2E3FC;\n",
              "    }\n",
              "\n",
              "    [theme=dark] .colab-df-convert:hover {\n",
              "      background-color: #434B5C;\n",
              "      box-shadow: 0px 1px 3px 1px rgba(0, 0, 0, 0.15);\n",
              "      filter: drop-shadow(0px 1px 2px rgba(0, 0, 0, 0.3));\n",
              "      fill: #FFFFFF;\n",
              "    }\n",
              "  </style>\n",
              "\n",
              "      <script>\n",
              "        const buttonEl =\n",
              "          document.querySelector('#df-0fe6f7b4-19ef-4343-8775-d7f472ac7b2d button.colab-df-convert');\n",
              "        buttonEl.style.display =\n",
              "          google.colab.kernel.accessAllowed ? 'block' : 'none';\n",
              "\n",
              "        async function convertToInteractive(key) {\n",
              "          const element = document.querySelector('#df-0fe6f7b4-19ef-4343-8775-d7f472ac7b2d');\n",
              "          const dataTable =\n",
              "            await google.colab.kernel.invokeFunction('convertToInteractive',\n",
              "                                                     [key], {});\n",
              "          if (!dataTable) return;\n",
              "\n",
              "          const docLinkHtml = 'Like what you see? Visit the ' +\n",
              "            '<a target=\"_blank\" href=https://colab.research.google.com/notebooks/data_table.ipynb>data table notebook</a>'\n",
              "            + ' to learn more about interactive tables.';\n",
              "          element.innerHTML = '';\n",
              "          dataTable['output_type'] = 'display_data';\n",
              "          await google.colab.output.renderOutput(dataTable, element);\n",
              "          const docLink = document.createElement('div');\n",
              "          docLink.innerHTML = docLinkHtml;\n",
              "          element.appendChild(docLink);\n",
              "        }\n",
              "      </script>\n",
              "    </div>\n",
              "  </div>\n",
              "  "
            ]
          },
          "metadata": {},
          "execution_count": 43
        }
      ],
      "source": [
        "est = [6]\n",
        "for i in range(1, df.shape[0]):\n",
        "    est.append(df.loc[:i][\"real_time\"].mean())\n",
        "df[\"new_estimate\"] = est\n",
        "df.head()"
      ]
    },
    {
      "cell_type": "markdown",
      "source": [
        "**ОТВЕТ:** По вероятности сходится к истинному значению средней длительности видео. Чем шире рассмативаемая выборка, тем более точную оценку мы даем."
      ],
      "metadata": {
        "id": "vGdojPlECyt5"
      }
    },
    {
      "cell_type": "markdown",
      "metadata": {
        "id": "NCgiqK0t7X0R"
      },
      "source": [
        "__д)__ Посчитайте для каждого видео смещение. По аналогии с пунктом __а)__ найдите среднее смещение. Запишите его в переменную `bias_mean_new`. Стало ли оно меньше благодаря новому оценивателю? Почему? "
      ]
    },
    {
      "cell_type": "code",
      "execution_count": 48,
      "metadata": {
        "deletable": false,
        "nbgrader": {
          "cell_type": "code",
          "checksum": "3d884af77a82409829eac08512e72c74",
          "grade": false,
          "grade_id": "cell-06884b220d64a939",
          "locked": false,
          "schema_version": 3,
          "solution": true,
          "task": false
        },
        "colab": {
          "base_uri": "https://localhost:8080/"
        },
        "id": "Trp9ZmGp7X0S",
        "outputId": "70404521-e977-4dea-f3a6-92914beddb4f"
      },
      "outputs": [
        {
          "output_type": "stream",
          "name": "stdout",
          "text": [
            "-0.6129047330340913\n"
          ]
        }
      ],
      "source": [
        "df[\"new_bias\"] = df[\"new_estimate\"] - df[\"real_time\"]\n",
        "bias_mean_new = df[\"new_bias\"].mean()\n",
        "print(bias_mean_new)"
      ]
    },
    {
      "cell_type": "markdown",
      "source": [
        "**ОТВЕТ:** Да, стало меньше благодаря тому, что мы используем состоятельную оценку времени, которая тем лучше, чем больше наша выборка."
      ],
      "metadata": {
        "id": "8dPzPBFUCvXV"
      }
    },
    {
      "cell_type": "code",
      "execution_count": null,
      "metadata": {
        "deletable": false,
        "editable": false,
        "nbgrader": {
          "cell_type": "code",
          "checksum": "84e72b9e9e305b2b1f5f9bd8caa5930a",
          "grade": true,
          "grade_id": "cell-c9b6001a1a8b198f",
          "locked": true,
          "points": 1,
          "schema_version": 3,
          "solution": false,
          "task": false
        },
        "id": "43xnmpl37X0S"
      },
      "outputs": [],
      "source": [
        "# проверка того, что задание решено верно\n",
        "assert np.abs(bias_mean_new  + 0.609) < 1e-2\n"
      ]
    }
  ],
  "metadata": {
    "kernelspec": {
      "display_name": "Python 3 (ipykernel)",
      "language": "python",
      "name": "python3"
    },
    "language_info": {
      "codemirror_mode": {
        "name": "ipython",
        "version": 3
      },
      "file_extension": ".py",
      "mimetype": "text/x-python",
      "name": "python",
      "nbconvert_exporter": "python",
      "pygments_lexer": "ipython3",
      "version": "3.9.13"
    },
    "colab": {
      "provenance": []
    }
  },
  "nbformat": 4,
  "nbformat_minor": 0
}